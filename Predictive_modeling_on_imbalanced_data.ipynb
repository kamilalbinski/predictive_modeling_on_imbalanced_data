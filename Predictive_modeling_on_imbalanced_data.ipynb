{
 "cells": [
  {
   "cell_type": "markdown",
   "metadata": {
    "id": "kECN52g4QM8R"
   },
   "source": [
    "# Introduction"
   ]
  },
  {
   "cell_type": "markdown",
   "metadata": {},
   "source": [
    "In machine learning and predictive modeling problems, many common classification datasets have relatively balanced class distribution. In fact, many problems in the broadly understood business area and related data are unbalanced. Problems of detecting fraud, machine failure, or predicting bankruptcy of a company are phenomena characteristic of a situation where one class defining a given observation occurs much less frequently than the other and is therefore much more valuable in terms of information provided. Moreover, for imbalanced data very often standard measures of model performance evaluation do not work as intended.\n",
    "\n",
    "In this analysis, data mining methods (EDA) were used, for predictive purposes, machine learning techniques supervised with the use of selected classification models were applied, taking into account a set of methods improving the prediction of unbalanced data and optimization of hyperparameters.\n",
    "\n",
    "The *Default of credit card clients* dataset obtained from the *UCI Machine Learning Repository* platform was used to analyze the problem, containing data on credit card customers in Taiwan, classified by insolvency."
   ]
  },
  {
   "cell_type": "markdown",
   "metadata": {},
   "source": [
    "The main objective of this project was to demonstrate comprehensive supervised machine learning model development process, focusing on imbalanced data. The key steps included are Exploratory Data Analyis, Model Development and Hyperparameter optimization.\n",
    "\n",
    "Dataset used is *Default of credit card clients* downloaded from UCI Machine Learning repository."
   ]
  },
  {
   "cell_type": "markdown",
   "metadata": {
    "id": "UW35RdkqQNYK"
   },
   "source": [
    "# Libraries"
   ]
  },
  {
   "cell_type": "markdown",
   "metadata": {
    "id": "_SF0Qb8dQp6K"
   },
   "source": [
    "## Install libraries"
   ]
  },
  {
   "cell_type": "code",
   "execution_count": 1,
   "metadata": {
    "colab": {
     "base_uri": "https://localhost:8080/"
    },
    "id": "TKOu7LW3RCUA",
    "outputId": "0a2a9e80-2cbc-4b6d-d575-af56a6b9f96b"
   },
   "outputs": [],
   "source": [
    "#%pip install pingouin ##for Google Colab"
   ]
  },
  {
   "cell_type": "markdown",
   "metadata": {
    "id": "wPQ9S4xGRG4L"
   },
   "source": [
    "## Import libraries"
   ]
  },
  {
   "cell_type": "code",
   "execution_count": 2,
   "metadata": {},
   "outputs": [],
   "source": [
    "import warnings\n",
    "warnings.filterwarnings('ignore')\n",
    "warnings.filterwarnings(action='once')"
   ]
  },
  {
   "cell_type": "code",
   "execution_count": 4,
   "metadata": {
    "colab": {
     "base_uri": "https://localhost:8080/"
    },
    "id": "89dR-pl0QtoQ",
    "outputId": "26b5e02c-a80b-4193-c269-a58fed20f613"
   },
   "outputs": [],
   "source": [
    "### Necessary libraries\n",
    "import numpy as np\n",
    "import pandas as pd\n",
    "import scipy\n",
    "import pingouin as pg\n",
    "from tqdm.autonotebook import tqdm\n",
    "\n",
    "### Data visulaization\n",
    "import matplotlib.pyplot as plt\n",
    "import seaborn as sns\n",
    "sns.set_style(\"whitegrid\")\n",
    "\n",
    "### Other libraries\n",
    "from sklearn.preprocessing import OrdinalEncoder, StandardScaler, OneHotEncoder\n",
    "from sklearn.model_selection import train_test_split, cross_val_score, StratifiedKFold, GridSearchCV\n",
    "from sklearn.metrics import make_scorer, precision_score, recall_score, f1_score, confusion_matrix, roc_curve, auc, precision_recall_curve, roc_auc_score\n",
    "from sklearn.compose import ColumnTransformer, make_column_transformer\n",
    "from sklearn.base import clone\n",
    "from sklearn import set_config\n",
    "import imblearn as imb\n",
    "from hyperopt import hp, fmin, tpe, STATUS_OK, Trials\n",
    "set_config(display=\"diagram\")\n",
    "\n",
    "### Model libraries\n",
    "from sklearn.tree import DecisionTreeClassifier\n",
    "from sklearn.naive_bayes import GaussianNB\n",
    "from sklearn.ensemble import RandomForestClassifier\n",
    "from sklearn.neighbors import KNeighborsClassifier\n",
    "from sklearn.linear_model import LogisticRegression\n",
    "import lightgbm as lgb\n",
    "import xgboost as xgb\n",
    "xgb.set_config(verbosity=0)\n",
    "\n",
    "#%matplotlib inline\n",
    "#plt.rcParams.update(plt.rcParamsDefault)"
   ]
  },
  {
   "cell_type": "markdown",
   "metadata": {
    "id": "6SqMvY9jQNxh"
   },
   "source": [
    "# Dataset"
   ]
  },
  {
   "cell_type": "markdown",
   "metadata": {
    "id": "kG5cImBiUCom"
   },
   "source": [
    "## Dataset import"
   ]
  },
  {
   "cell_type": "code",
   "execution_count": 5,
   "metadata": {
    "colab": {
     "base_uri": "https://localhost:8080/",
     "height": 75,
     "resources": {
      "http://localhost:8080/nbextensions/google.colab/files.js": {
       "data": "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",
       "headers": [
        [
         "content-type",
         "application/javascript"
        ]
       ],
       "ok": true,
       "status": 200,
       "status_text": "OK"
      }
     }
    },
    "id": "ISt5DYcpSuFA",
    "outputId": "e02f7805-d9bf-42a2-a412-1372c95c0688"
   },
   "outputs": [],
   "source": [
    "# from google.colab import files\n",
    "# uploaded = files.upload()"
   ]
  },
  {
   "cell_type": "code",
   "execution_count": 6,
   "metadata": {
    "id": "MVnHJ46BSvoC"
   },
   "outputs": [],
   "source": [
    "filepath = 'default of credit card clients.csv'\n",
    "\n",
    "df = pd.read_csv(filepath, index_col=0)"
   ]
  },
  {
   "cell_type": "code",
   "execution_count": 7,
   "metadata": {
    "colab": {
     "base_uri": "https://localhost:8080/",
     "height": 346
    },
    "id": "NXBEqFnXSvvr",
    "outputId": "9bebdf9e-afbc-4dcd-b86a-65e23daeb86b"
   },
   "outputs": [
    {
     "data": {
      "text/html": [
       "<div>\n",
       "<style scoped>\n",
       "    .dataframe tbody tr th:only-of-type {\n",
       "        vertical-align: middle;\n",
       "    }\n",
       "\n",
       "    .dataframe tbody tr th {\n",
       "        vertical-align: top;\n",
       "    }\n",
       "\n",
       "    .dataframe thead th {\n",
       "        text-align: right;\n",
       "    }\n",
       "</style>\n",
       "<table border=\"1\" class=\"dataframe\">\n",
       "  <thead>\n",
       "    <tr style=\"text-align: right;\">\n",
       "      <th></th>\n",
       "      <th>LIMIT_BAL</th>\n",
       "      <th>SEX</th>\n",
       "      <th>EDUCATION</th>\n",
       "      <th>MARRIAGE</th>\n",
       "      <th>AGE</th>\n",
       "      <th>PAY_0</th>\n",
       "      <th>PAY_2</th>\n",
       "      <th>PAY_3</th>\n",
       "      <th>PAY_4</th>\n",
       "      <th>PAY_5</th>\n",
       "      <th>...</th>\n",
       "      <th>BILL_AMT4</th>\n",
       "      <th>BILL_AMT5</th>\n",
       "      <th>BILL_AMT6</th>\n",
       "      <th>PAY_AMT1</th>\n",
       "      <th>PAY_AMT2</th>\n",
       "      <th>PAY_AMT3</th>\n",
       "      <th>PAY_AMT4</th>\n",
       "      <th>PAY_AMT5</th>\n",
       "      <th>PAY_AMT6</th>\n",
       "      <th>default payment next month</th>\n",
       "    </tr>\n",
       "    <tr>\n",
       "      <th>ID</th>\n",
       "      <th></th>\n",
       "      <th></th>\n",
       "      <th></th>\n",
       "      <th></th>\n",
       "      <th></th>\n",
       "      <th></th>\n",
       "      <th></th>\n",
       "      <th></th>\n",
       "      <th></th>\n",
       "      <th></th>\n",
       "      <th></th>\n",
       "      <th></th>\n",
       "      <th></th>\n",
       "      <th></th>\n",
       "      <th></th>\n",
       "      <th></th>\n",
       "      <th></th>\n",
       "      <th></th>\n",
       "      <th></th>\n",
       "      <th></th>\n",
       "      <th></th>\n",
       "    </tr>\n",
       "  </thead>\n",
       "  <tbody>\n",
       "    <tr>\n",
       "      <th>1</th>\n",
       "      <td>20000</td>\n",
       "      <td>2</td>\n",
       "      <td>2</td>\n",
       "      <td>1</td>\n",
       "      <td>24</td>\n",
       "      <td>2</td>\n",
       "      <td>2</td>\n",
       "      <td>-1</td>\n",
       "      <td>-1</td>\n",
       "      <td>-2</td>\n",
       "      <td>...</td>\n",
       "      <td>0</td>\n",
       "      <td>0</td>\n",
       "      <td>0</td>\n",
       "      <td>0</td>\n",
       "      <td>689</td>\n",
       "      <td>0</td>\n",
       "      <td>0</td>\n",
       "      <td>0</td>\n",
       "      <td>0</td>\n",
       "      <td>1</td>\n",
       "    </tr>\n",
       "    <tr>\n",
       "      <th>2</th>\n",
       "      <td>120000</td>\n",
       "      <td>2</td>\n",
       "      <td>2</td>\n",
       "      <td>2</td>\n",
       "      <td>26</td>\n",
       "      <td>-1</td>\n",
       "      <td>2</td>\n",
       "      <td>0</td>\n",
       "      <td>0</td>\n",
       "      <td>0</td>\n",
       "      <td>...</td>\n",
       "      <td>3272</td>\n",
       "      <td>3455</td>\n",
       "      <td>3261</td>\n",
       "      <td>0</td>\n",
       "      <td>1000</td>\n",
       "      <td>1000</td>\n",
       "      <td>1000</td>\n",
       "      <td>0</td>\n",
       "      <td>2000</td>\n",
       "      <td>1</td>\n",
       "    </tr>\n",
       "    <tr>\n",
       "      <th>3</th>\n",
       "      <td>90000</td>\n",
       "      <td>2</td>\n",
       "      <td>2</td>\n",
       "      <td>2</td>\n",
       "      <td>34</td>\n",
       "      <td>0</td>\n",
       "      <td>0</td>\n",
       "      <td>0</td>\n",
       "      <td>0</td>\n",
       "      <td>0</td>\n",
       "      <td>...</td>\n",
       "      <td>14331</td>\n",
       "      <td>14948</td>\n",
       "      <td>15549</td>\n",
       "      <td>1518</td>\n",
       "      <td>1500</td>\n",
       "      <td>1000</td>\n",
       "      <td>1000</td>\n",
       "      <td>1000</td>\n",
       "      <td>5000</td>\n",
       "      <td>0</td>\n",
       "    </tr>\n",
       "    <tr>\n",
       "      <th>4</th>\n",
       "      <td>50000</td>\n",
       "      <td>2</td>\n",
       "      <td>2</td>\n",
       "      <td>1</td>\n",
       "      <td>37</td>\n",
       "      <td>0</td>\n",
       "      <td>0</td>\n",
       "      <td>0</td>\n",
       "      <td>0</td>\n",
       "      <td>0</td>\n",
       "      <td>...</td>\n",
       "      <td>28314</td>\n",
       "      <td>28959</td>\n",
       "      <td>29547</td>\n",
       "      <td>2000</td>\n",
       "      <td>2019</td>\n",
       "      <td>1200</td>\n",
       "      <td>1100</td>\n",
       "      <td>1069</td>\n",
       "      <td>1000</td>\n",
       "      <td>0</td>\n",
       "    </tr>\n",
       "    <tr>\n",
       "      <th>5</th>\n",
       "      <td>50000</td>\n",
       "      <td>1</td>\n",
       "      <td>2</td>\n",
       "      <td>1</td>\n",
       "      <td>57</td>\n",
       "      <td>-1</td>\n",
       "      <td>0</td>\n",
       "      <td>-1</td>\n",
       "      <td>0</td>\n",
       "      <td>0</td>\n",
       "      <td>...</td>\n",
       "      <td>20940</td>\n",
       "      <td>19146</td>\n",
       "      <td>19131</td>\n",
       "      <td>2000</td>\n",
       "      <td>36681</td>\n",
       "      <td>10000</td>\n",
       "      <td>9000</td>\n",
       "      <td>689</td>\n",
       "      <td>679</td>\n",
       "      <td>0</td>\n",
       "    </tr>\n",
       "  </tbody>\n",
       "</table>\n",
       "<p>5 rows × 24 columns</p>\n",
       "</div>"
      ],
      "text/plain": [
       "    LIMIT_BAL  SEX  EDUCATION  MARRIAGE  AGE  PAY_0  PAY_2  PAY_3  PAY_4  \\\n",
       "ID                                                                         \n",
       "1       20000    2          2         1   24      2      2     -1     -1   \n",
       "2      120000    2          2         2   26     -1      2      0      0   \n",
       "3       90000    2          2         2   34      0      0      0      0   \n",
       "4       50000    2          2         1   37      0      0      0      0   \n",
       "5       50000    1          2         1   57     -1      0     -1      0   \n",
       "\n",
       "    PAY_5  ...  BILL_AMT4  BILL_AMT5  BILL_AMT6  PAY_AMT1  PAY_AMT2  PAY_AMT3  \\\n",
       "ID         ...                                                                  \n",
       "1      -2  ...          0          0          0         0       689         0   \n",
       "2       0  ...       3272       3455       3261         0      1000      1000   \n",
       "3       0  ...      14331      14948      15549      1518      1500      1000   \n",
       "4       0  ...      28314      28959      29547      2000      2019      1200   \n",
       "5       0  ...      20940      19146      19131      2000     36681     10000   \n",
       "\n",
       "    PAY_AMT4  PAY_AMT5  PAY_AMT6  default payment next month  \n",
       "ID                                                            \n",
       "1          0         0         0                           1  \n",
       "2       1000         0      2000                           1  \n",
       "3       1000      1000      5000                           0  \n",
       "4       1100      1069      1000                           0  \n",
       "5       9000       689       679                           0  \n",
       "\n",
       "[5 rows x 24 columns]"
      ]
     },
     "execution_count": 7,
     "metadata": {},
     "output_type": "execute_result"
    }
   ],
   "source": [
    "df.head(5)"
   ]
  },
  {
   "cell_type": "markdown",
   "metadata": {
    "id": "uEukszFJUK6f"
   },
   "source": [
    "## Dataset description"
   ]
  },
  {
   "cell_type": "markdown",
   "metadata": {},
   "source": [
    "Based on the information posted on the UCI Machine Learning Repository platform, the data was originally used for the purposes of the article: *The comparisons of data mining techniques for the predictive accuracy of probability of default of credit card clients*, by I-Cheng Yeh and Che-hui Lien. The characteristics of the explanatory variables included in the data set are as follows:\n",
    "\n",
    "* X1: Loan amount granted in Taiwan dollar,\n",
    "* X2: Gender, where: 1 is male, 2 is female,\n",
    "* X3: Education, where: 1 is a post-graduate school (university); 2 is a university, 3 is a secondary school, and 4 the rest,\n",
    "* X4: Marital status, where: 1 is married, 2 is single / unmarried, 3 others,\n",
    "* X5: Age\n",
    "* X6 - X11: Card maturity history. The maturity status from April to September, where: X6 is the September maturity status, X7 is the August maturity status, etc. up to X11 the April maturity status. As part of the measurement of the repayment status, the following values were adopted: -1 payment made on time, 1 repayment delayed one month, 2 repayment delayed by two months, etc., up to 9, where repayment was delayed for nine months or more,\n",
    "* X12-X17: Monthly Taiwan dollar amount, where X12 is the September statement, X13 is the August statement, etc., up to X17 the April statement.\n",
    "* X18-X23: Amount repaid (in Taiwan dollar), where X18 is the amount paid in September, X19 is the amount paid in August, and so on, up to X23 is the amount paid in April.\n",
    "\n",
    "The last feature in the data set is a target variable, where 0 means that the customer repays the required loan amount in the next month, and 1 means that there is no such credit."
   ]
  },
  {
   "cell_type": "markdown",
   "metadata": {},
   "source": [
    "After reviewing the above data characteristics and obtaining preliminary information about the set, the following facts were found, determining the next steps in data preparation:\n",
    "\n",
    "* no empty elements in the data set,\n",
    "* the existence of categorical and numerical features in the data set, and\n",
    "* the presence of inordered and ordered categorical features"
   ]
  },
  {
   "cell_type": "code",
   "execution_count": 8,
   "metadata": {
    "colab": {
     "base_uri": "https://localhost:8080/"
    },
    "id": "rwFINzcVV3nF",
    "outputId": "ea4537d5-c498-480d-8770-5cf309ee1fff"
   },
   "outputs": [
    {
     "name": "stdout",
     "output_type": "stream",
     "text": [
      "<class 'pandas.core.frame.DataFrame'>\n",
      "Int64Index: 30000 entries, 1 to 30000\n",
      "Data columns (total 24 columns):\n",
      " #   Column                      Non-Null Count  Dtype\n",
      "---  ------                      --------------  -----\n",
      " 0   LIMIT_BAL                   30000 non-null  int64\n",
      " 1   SEX                         30000 non-null  int64\n",
      " 2   EDUCATION                   30000 non-null  int64\n",
      " 3   MARRIAGE                    30000 non-null  int64\n",
      " 4   AGE                         30000 non-null  int64\n",
      " 5   PAY_0                       30000 non-null  int64\n",
      " 6   PAY_2                       30000 non-null  int64\n",
      " 7   PAY_3                       30000 non-null  int64\n",
      " 8   PAY_4                       30000 non-null  int64\n",
      " 9   PAY_5                       30000 non-null  int64\n",
      " 10  PAY_6                       30000 non-null  int64\n",
      " 11  BILL_AMT1                   30000 non-null  int64\n",
      " 12  BILL_AMT2                   30000 non-null  int64\n",
      " 13  BILL_AMT3                   30000 non-null  int64\n",
      " 14  BILL_AMT4                   30000 non-null  int64\n",
      " 15  BILL_AMT5                   30000 non-null  int64\n",
      " 16  BILL_AMT6                   30000 non-null  int64\n",
      " 17  PAY_AMT1                    30000 non-null  int64\n",
      " 18  PAY_AMT2                    30000 non-null  int64\n",
      " 19  PAY_AMT3                    30000 non-null  int64\n",
      " 20  PAY_AMT4                    30000 non-null  int64\n",
      " 21  PAY_AMT5                    30000 non-null  int64\n",
      " 22  PAY_AMT6                    30000 non-null  int64\n",
      " 23  default payment next month  30000 non-null  int64\n",
      "dtypes: int64(24)\n",
      "memory usage: 5.7 MB\n"
     ]
    }
   ],
   "source": [
    "df.info()"
   ]
  },
  {
   "cell_type": "markdown",
   "metadata": {
    "id": "BYCspJM8UWLr"
   },
   "source": [
    "## Data pre-processing"
   ]
  },
  {
   "cell_type": "markdown",
   "metadata": {},
   "source": [
    "In order to streamline the process of referencing variables, preprocessing of feature names in the data set was performed:"
   ]
  },
  {
   "cell_type": "code",
   "execution_count": 9,
   "metadata": {},
   "outputs": [],
   "source": [
    "#Rename variables\n",
    "df.columns = df.columns.str.lower().str.replace('default payment next month', 'default')"
   ]
  },
  {
   "cell_type": "markdown",
   "metadata": {
    "id": "sOpCEop5SNCL"
   },
   "source": [
    "Checking unique values of variables X2-X5"
   ]
  },
  {
   "cell_type": "code",
   "execution_count": 10,
   "metadata": {
    "colab": {
     "base_uri": "https://localhost:8080/"
    },
    "id": "FOsiBtuoS2qu",
    "outputId": "9d739f34-26e7-4ce4-89fa-573e04515038"
   },
   "outputs": [
    {
     "data": {
      "text/plain": [
       "2    18112\n",
       "1    11888\n",
       "Name: sex, dtype: int64"
      ]
     },
     "execution_count": 10,
     "metadata": {},
     "output_type": "execute_result"
    }
   ],
   "source": [
    "df['sex'].value_counts(sort=True)"
   ]
  },
  {
   "cell_type": "code",
   "execution_count": 11,
   "metadata": {
    "colab": {
     "base_uri": "https://localhost:8080/"
    },
    "id": "3r0ICyfeYqlI",
    "outputId": "19b77a7c-da4d-440a-e353-ac9e8e61f90f"
   },
   "outputs": [
    {
     "data": {
      "text/plain": [
       "2    14030\n",
       "1    10585\n",
       "3     4917\n",
       "5      280\n",
       "4      123\n",
       "6       51\n",
       "0       14\n",
       "Name: education, dtype: int64"
      ]
     },
     "execution_count": 11,
     "metadata": {},
     "output_type": "execute_result"
    }
   ],
   "source": [
    "df['education'].value_counts(sort=True)"
   ]
  },
  {
   "cell_type": "code",
   "execution_count": 12,
   "metadata": {
    "colab": {
     "base_uri": "https://localhost:8080/"
    },
    "id": "z_3jVOwsY1xy",
    "outputId": "383b8d65-974b-4788-d58d-df89a2277946"
   },
   "outputs": [
    {
     "data": {
      "text/plain": [
       "2    15964\n",
       "1    13659\n",
       "3      323\n",
       "0       54\n",
       "Name: marriage, dtype: int64"
      ]
     },
     "execution_count": 12,
     "metadata": {},
     "output_type": "execute_result"
    }
   ],
   "source": [
    "df['marriage'].value_counts()"
   ]
  },
  {
   "cell_type": "markdown",
   "metadata": {},
   "source": [
    "Variables: **'education'** and **'marriage'** seem to include observations outside of range specified in data description:"
   ]
  },
  {
   "cell_type": "code",
   "execution_count": 13,
   "metadata": {
    "colab": {
     "base_uri": "https://localhost:8080/"
    },
    "id": "wtf6dsCDVIBL",
    "outputId": "43903001-1abf-4a7d-f7c0-d9396d4e75b7"
   },
   "outputs": [
    {
     "data": {
      "text/plain": [
       "sex          2\n",
       "education    7\n",
       "marriage     4\n",
       "dtype: int64"
      ]
     },
     "execution_count": 13,
     "metadata": {},
     "output_type": "execute_result"
    }
   ],
   "source": [
    "df[['sex','education','marriage']].apply(pd.Series.nunique)"
   ]
  },
  {
   "cell_type": "markdown",
   "metadata": {},
   "source": [
    "In order to further work with the data, categorical variables have been transformed using Dictionary object. Values outside the range indicated in the data set description have been reclassified to the 'others' category.\n",
    "\n",
    "Observed values for variables from **pay_0** to **pay_6** not specified in the dataset characteristics were not transformed due to the potential added value for prediction."
   ]
  },
  {
   "cell_type": "code",
   "execution_count": 14,
   "metadata": {
    "id": "zYWFLmUuWfm4"
   },
   "outputs": [],
   "source": [
    "sex_dict = {\n",
    "    1: 'male',\n",
    "    2: 'female',\n",
    "    }\n",
    "\n",
    "education_dict = {\n",
    "    0: 'others',  #Not explained\n",
    "    1: 'graduate school',\n",
    "    2: 'university',\n",
    "    3: 'high school',\n",
    "    4: 'others',\n",
    "    5: 'others',  #Not explained\n",
    "    6: 'others'   #Not explained\n",
    "    }\n",
    "\n",
    "marriage_dict = {\n",
    "    0: 'others',  #Not explained\n",
    "    1: 'married',\n",
    "    2: 'single',\n",
    "    3: 'others',\n",
    "    }\n",
    "\n",
    "df['sex'] = df['sex'].map(sex_dict)\n",
    "df['education'] = df['education'].map(education_dict)\n",
    "df['marriage'] = df['marriage'].map(marriage_dict)\n"
   ]
  },
  {
   "cell_type": "markdown",
   "metadata": {},
   "source": [
    "Then the data set was divided into the part containing the independent variables `X` and dependent variable` y`\n",
    "\n",
    "After analyzing the distribution of values taken by the target variable, it turns out that we are dealing with an unbalanced set, which affects further stages of this study."
   ]
  },
  {
   "cell_type": "code",
   "execution_count": 15,
   "metadata": {
    "colab": {
     "base_uri": "https://localhost:8080/"
    },
    "id": "d7PieMSoauk7",
    "outputId": "b7a8b3cd-0f39-458b-8d3e-6b8e720e9d67"
   },
   "outputs": [
    {
     "data": {
      "text/plain": [
       "False    0.7788\n",
       "True     0.2212\n",
       "Name: default, dtype: float64"
      ]
     },
     "execution_count": 15,
     "metadata": {},
     "output_type": "execute_result"
    }
   ],
   "source": [
    "X, y = df.drop(columns=[\"default\"]), df.default == 1\n",
    "y.value_counts(normalize=True)"
   ]
  },
  {
   "cell_type": "markdown",
   "metadata": {
    "id": "w9FWiCXFRd97"
   },
   "source": [
    "# Exploratory Data Analysis"
   ]
  },
  {
   "cell_type": "markdown",
   "metadata": {
    "id": "VPjXqoun--Yx"
   },
   "source": [
    "## Initial statistics"
   ]
  },
  {
   "cell_type": "markdown",
   "metadata": {},
   "source": [
    "Below `describe()` method of pandas DataFrame object was used to extract basic measures of central tendency and dispersion: mean, standard deviation, minumum and maximum values, and relevant quantiles of the dataset"
   ]
  },
  {
   "cell_type": "code",
   "execution_count": 16,
   "metadata": {
    "colab": {
     "base_uri": "https://localhost:8080/",
     "height": 708
    },
    "id": "LDTUhXAZes9N",
    "outputId": "660c6370-6aac-43a6-901d-3492f24cc137"
   },
   "outputs": [
    {
     "data": {
      "text/html": [
       "<div>\n",
       "<style scoped>\n",
       "    .dataframe tbody tr th:only-of-type {\n",
       "        vertical-align: middle;\n",
       "    }\n",
       "\n",
       "    .dataframe tbody tr th {\n",
       "        vertical-align: top;\n",
       "    }\n",
       "\n",
       "    .dataframe thead th {\n",
       "        text-align: right;\n",
       "    }\n",
       "</style>\n",
       "<table border=\"1\" class=\"dataframe\">\n",
       "  <thead>\n",
       "    <tr style=\"text-align: right;\">\n",
       "      <th></th>\n",
       "      <th>count</th>\n",
       "      <th>mean</th>\n",
       "      <th>std</th>\n",
       "      <th>min</th>\n",
       "      <th>25%</th>\n",
       "      <th>50%</th>\n",
       "      <th>75%</th>\n",
       "      <th>max</th>\n",
       "    </tr>\n",
       "  </thead>\n",
       "  <tbody>\n",
       "    <tr>\n",
       "      <th>limit_bal</th>\n",
       "      <td>30000.0</td>\n",
       "      <td>167484.32</td>\n",
       "      <td>129747.66</td>\n",
       "      <td>10000.0</td>\n",
       "      <td>50000.00</td>\n",
       "      <td>140000.0</td>\n",
       "      <td>240000.00</td>\n",
       "      <td>1000000.0</td>\n",
       "    </tr>\n",
       "    <tr>\n",
       "      <th>age</th>\n",
       "      <td>30000.0</td>\n",
       "      <td>35.49</td>\n",
       "      <td>9.22</td>\n",
       "      <td>21.0</td>\n",
       "      <td>28.00</td>\n",
       "      <td>34.0</td>\n",
       "      <td>41.00</td>\n",
       "      <td>79.0</td>\n",
       "    </tr>\n",
       "    <tr>\n",
       "      <th>pay_0</th>\n",
       "      <td>30000.0</td>\n",
       "      <td>-0.02</td>\n",
       "      <td>1.12</td>\n",
       "      <td>-2.0</td>\n",
       "      <td>-1.00</td>\n",
       "      <td>0.0</td>\n",
       "      <td>0.00</td>\n",
       "      <td>8.0</td>\n",
       "    </tr>\n",
       "    <tr>\n",
       "      <th>pay_2</th>\n",
       "      <td>30000.0</td>\n",
       "      <td>-0.13</td>\n",
       "      <td>1.20</td>\n",
       "      <td>-2.0</td>\n",
       "      <td>-1.00</td>\n",
       "      <td>0.0</td>\n",
       "      <td>0.00</td>\n",
       "      <td>8.0</td>\n",
       "    </tr>\n",
       "    <tr>\n",
       "      <th>pay_3</th>\n",
       "      <td>30000.0</td>\n",
       "      <td>-0.17</td>\n",
       "      <td>1.20</td>\n",
       "      <td>-2.0</td>\n",
       "      <td>-1.00</td>\n",
       "      <td>0.0</td>\n",
       "      <td>0.00</td>\n",
       "      <td>8.0</td>\n",
       "    </tr>\n",
       "    <tr>\n",
       "      <th>pay_4</th>\n",
       "      <td>30000.0</td>\n",
       "      <td>-0.22</td>\n",
       "      <td>1.17</td>\n",
       "      <td>-2.0</td>\n",
       "      <td>-1.00</td>\n",
       "      <td>0.0</td>\n",
       "      <td>0.00</td>\n",
       "      <td>8.0</td>\n",
       "    </tr>\n",
       "    <tr>\n",
       "      <th>pay_5</th>\n",
       "      <td>30000.0</td>\n",
       "      <td>-0.27</td>\n",
       "      <td>1.13</td>\n",
       "      <td>-2.0</td>\n",
       "      <td>-1.00</td>\n",
       "      <td>0.0</td>\n",
       "      <td>0.00</td>\n",
       "      <td>8.0</td>\n",
       "    </tr>\n",
       "    <tr>\n",
       "      <th>pay_6</th>\n",
       "      <td>30000.0</td>\n",
       "      <td>-0.29</td>\n",
       "      <td>1.15</td>\n",
       "      <td>-2.0</td>\n",
       "      <td>-1.00</td>\n",
       "      <td>0.0</td>\n",
       "      <td>0.00</td>\n",
       "      <td>8.0</td>\n",
       "    </tr>\n",
       "    <tr>\n",
       "      <th>bill_amt1</th>\n",
       "      <td>30000.0</td>\n",
       "      <td>51223.33</td>\n",
       "      <td>73635.86</td>\n",
       "      <td>-165580.0</td>\n",
       "      <td>3558.75</td>\n",
       "      <td>22381.5</td>\n",
       "      <td>67091.00</td>\n",
       "      <td>964511.0</td>\n",
       "    </tr>\n",
       "    <tr>\n",
       "      <th>bill_amt2</th>\n",
       "      <td>30000.0</td>\n",
       "      <td>49179.08</td>\n",
       "      <td>71173.77</td>\n",
       "      <td>-69777.0</td>\n",
       "      <td>2984.75</td>\n",
       "      <td>21200.0</td>\n",
       "      <td>64006.25</td>\n",
       "      <td>983931.0</td>\n",
       "    </tr>\n",
       "    <tr>\n",
       "      <th>bill_amt3</th>\n",
       "      <td>30000.0</td>\n",
       "      <td>47013.15</td>\n",
       "      <td>69349.39</td>\n",
       "      <td>-157264.0</td>\n",
       "      <td>2666.25</td>\n",
       "      <td>20088.5</td>\n",
       "      <td>60164.75</td>\n",
       "      <td>1664089.0</td>\n",
       "    </tr>\n",
       "    <tr>\n",
       "      <th>bill_amt4</th>\n",
       "      <td>30000.0</td>\n",
       "      <td>43262.95</td>\n",
       "      <td>64332.86</td>\n",
       "      <td>-170000.0</td>\n",
       "      <td>2326.75</td>\n",
       "      <td>19052.0</td>\n",
       "      <td>54506.00</td>\n",
       "      <td>891586.0</td>\n",
       "    </tr>\n",
       "    <tr>\n",
       "      <th>bill_amt5</th>\n",
       "      <td>30000.0</td>\n",
       "      <td>40311.40</td>\n",
       "      <td>60797.16</td>\n",
       "      <td>-81334.0</td>\n",
       "      <td>1763.00</td>\n",
       "      <td>18104.5</td>\n",
       "      <td>50190.50</td>\n",
       "      <td>927171.0</td>\n",
       "    </tr>\n",
       "    <tr>\n",
       "      <th>bill_amt6</th>\n",
       "      <td>30000.0</td>\n",
       "      <td>38871.76</td>\n",
       "      <td>59554.11</td>\n",
       "      <td>-339603.0</td>\n",
       "      <td>1256.00</td>\n",
       "      <td>17071.0</td>\n",
       "      <td>49198.25</td>\n",
       "      <td>961664.0</td>\n",
       "    </tr>\n",
       "    <tr>\n",
       "      <th>pay_amt1</th>\n",
       "      <td>30000.0</td>\n",
       "      <td>5663.58</td>\n",
       "      <td>16563.28</td>\n",
       "      <td>0.0</td>\n",
       "      <td>1000.00</td>\n",
       "      <td>2100.0</td>\n",
       "      <td>5006.00</td>\n",
       "      <td>873552.0</td>\n",
       "    </tr>\n",
       "    <tr>\n",
       "      <th>pay_amt2</th>\n",
       "      <td>30000.0</td>\n",
       "      <td>5921.16</td>\n",
       "      <td>23040.87</td>\n",
       "      <td>0.0</td>\n",
       "      <td>833.00</td>\n",
       "      <td>2009.0</td>\n",
       "      <td>5000.00</td>\n",
       "      <td>1684259.0</td>\n",
       "    </tr>\n",
       "    <tr>\n",
       "      <th>pay_amt3</th>\n",
       "      <td>30000.0</td>\n",
       "      <td>5225.68</td>\n",
       "      <td>17606.96</td>\n",
       "      <td>0.0</td>\n",
       "      <td>390.00</td>\n",
       "      <td>1800.0</td>\n",
       "      <td>4505.00</td>\n",
       "      <td>896040.0</td>\n",
       "    </tr>\n",
       "    <tr>\n",
       "      <th>pay_amt4</th>\n",
       "      <td>30000.0</td>\n",
       "      <td>4826.08</td>\n",
       "      <td>15666.16</td>\n",
       "      <td>0.0</td>\n",
       "      <td>296.00</td>\n",
       "      <td>1500.0</td>\n",
       "      <td>4013.25</td>\n",
       "      <td>621000.0</td>\n",
       "    </tr>\n",
       "    <tr>\n",
       "      <th>pay_amt5</th>\n",
       "      <td>30000.0</td>\n",
       "      <td>4799.39</td>\n",
       "      <td>15278.31</td>\n",
       "      <td>0.0</td>\n",
       "      <td>252.50</td>\n",
       "      <td>1500.0</td>\n",
       "      <td>4031.50</td>\n",
       "      <td>426529.0</td>\n",
       "    </tr>\n",
       "    <tr>\n",
       "      <th>pay_amt6</th>\n",
       "      <td>30000.0</td>\n",
       "      <td>5215.50</td>\n",
       "      <td>17777.47</td>\n",
       "      <td>0.0</td>\n",
       "      <td>117.75</td>\n",
       "      <td>1500.0</td>\n",
       "      <td>4000.00</td>\n",
       "      <td>528666.0</td>\n",
       "    </tr>\n",
       "    <tr>\n",
       "      <th>default</th>\n",
       "      <td>30000.0</td>\n",
       "      <td>0.22</td>\n",
       "      <td>0.42</td>\n",
       "      <td>0.0</td>\n",
       "      <td>0.00</td>\n",
       "      <td>0.0</td>\n",
       "      <td>0.00</td>\n",
       "      <td>1.0</td>\n",
       "    </tr>\n",
       "  </tbody>\n",
       "</table>\n",
       "</div>"
      ],
      "text/plain": [
       "             count       mean        std       min       25%       50%  \\\n",
       "limit_bal  30000.0  167484.32  129747.66   10000.0  50000.00  140000.0   \n",
       "age        30000.0      35.49       9.22      21.0     28.00      34.0   \n",
       "pay_0      30000.0      -0.02       1.12      -2.0     -1.00       0.0   \n",
       "pay_2      30000.0      -0.13       1.20      -2.0     -1.00       0.0   \n",
       "pay_3      30000.0      -0.17       1.20      -2.0     -1.00       0.0   \n",
       "pay_4      30000.0      -0.22       1.17      -2.0     -1.00       0.0   \n",
       "pay_5      30000.0      -0.27       1.13      -2.0     -1.00       0.0   \n",
       "pay_6      30000.0      -0.29       1.15      -2.0     -1.00       0.0   \n",
       "bill_amt1  30000.0   51223.33   73635.86 -165580.0   3558.75   22381.5   \n",
       "bill_amt2  30000.0   49179.08   71173.77  -69777.0   2984.75   21200.0   \n",
       "bill_amt3  30000.0   47013.15   69349.39 -157264.0   2666.25   20088.5   \n",
       "bill_amt4  30000.0   43262.95   64332.86 -170000.0   2326.75   19052.0   \n",
       "bill_amt5  30000.0   40311.40   60797.16  -81334.0   1763.00   18104.5   \n",
       "bill_amt6  30000.0   38871.76   59554.11 -339603.0   1256.00   17071.0   \n",
       "pay_amt1   30000.0    5663.58   16563.28       0.0   1000.00    2100.0   \n",
       "pay_amt2   30000.0    5921.16   23040.87       0.0    833.00    2009.0   \n",
       "pay_amt3   30000.0    5225.68   17606.96       0.0    390.00    1800.0   \n",
       "pay_amt4   30000.0    4826.08   15666.16       0.0    296.00    1500.0   \n",
       "pay_amt5   30000.0    4799.39   15278.31       0.0    252.50    1500.0   \n",
       "pay_amt6   30000.0    5215.50   17777.47       0.0    117.75    1500.0   \n",
       "default    30000.0       0.22       0.42       0.0      0.00       0.0   \n",
       "\n",
       "                 75%        max  \n",
       "limit_bal  240000.00  1000000.0  \n",
       "age            41.00       79.0  \n",
       "pay_0           0.00        8.0  \n",
       "pay_2           0.00        8.0  \n",
       "pay_3           0.00        8.0  \n",
       "pay_4           0.00        8.0  \n",
       "pay_5           0.00        8.0  \n",
       "pay_6           0.00        8.0  \n",
       "bill_amt1   67091.00   964511.0  \n",
       "bill_amt2   64006.25   983931.0  \n",
       "bill_amt3   60164.75  1664089.0  \n",
       "bill_amt4   54506.00   891586.0  \n",
       "bill_amt5   50190.50   927171.0  \n",
       "bill_amt6   49198.25   961664.0  \n",
       "pay_amt1     5006.00   873552.0  \n",
       "pay_amt2     5000.00  1684259.0  \n",
       "pay_amt3     4505.00   896040.0  \n",
       "pay_amt4     4013.25   621000.0  \n",
       "pay_amt5     4031.50   426529.0  \n",
       "pay_amt6     4000.00   528666.0  \n",
       "default         0.00        1.0  "
      ]
     },
     "execution_count": 16,
     "metadata": {},
     "output_type": "execute_result"
    }
   ],
   "source": [
    "df.describe().transpose().round(2)"
   ]
  },
  {
   "cell_type": "markdown",
   "metadata": {
    "id": "CFWeiIWv92z8"
   },
   "source": [
    "## Data visualization"
   ]
  },
  {
   "cell_type": "markdown",
   "metadata": {},
   "source": [
    "The probability distribution of customer age is presented below, in the form of the distribution density plot on the left and the distribution function on the right, broken down by sex."
   ]
  },
  {
   "cell_type": "code",
   "execution_count": 17,
   "metadata": {
    "colab": {
     "base_uri": "https://localhost:8080/",
     "height": 265
    },
    "id": "jEJAUr-h-iwA",
    "outputId": "b01f1434-d4d3-4883-9877-4d956c2ca142"
   },
   "outputs": [
    {
     "data": {
      "image/png": "[encoded data removed]",
      "text/plain": [
       "<Figure size 864x288 with 2 Axes>"
      ]
     },
     "metadata": {},
     "output_type": "display_data"
    }
   ],
   "source": [
    "fig, axes = plt.subplots(1, 2, figsize=(12, 4))\n",
    "         \n",
    "sns.kdeplot(ax=axes[0], data=df, x='age', hue='sex',\n",
    "            linewidth=2, ls='-', legend=False)\n",
    "sns.ecdfplot(ax=axes[1], data=df, x='age', hue='sex',\n",
    "             linewidth=2, ls='-', legend=False).set_ylim(-0.02,1.02)\n",
    "fig.legend(['male', 'female'], loc = 'lower center', bbox_to_anchor=(0.5, -0.05), ncol=1)\n",
    "plt.show()"
   ]
  },
  {
   "cell_type": "markdown",
   "metadata": {},
   "source": [
    "The following charts presents the ratio of of default credit cards in the next month, broken down by sex, marital status and education. It seems like, men tend to default more often than women."
   ]
  },
  {
   "cell_type": "code",
   "execution_count": 18,
   "metadata": {
    "colab": {
     "base_uri": "https://localhost:8080/",
     "height": 322
    },
    "id": "f8jZrZRsS2q1",
    "outputId": "434f38c8-0778-42c2-c018-b8c200dc4fab"
   },
   "outputs": [
    {
     "data": {
      "image/png": "[encoded data removed]",
      "text/plain": [
       "<Figure size 720x288 with 3 Axes>"
      ]
     },
     "metadata": {},
     "output_type": "display_data"
    }
   ],
   "source": [
    "fig, axes = plt.subplots(1, 3, figsize=(10, 4), sharey=True)\n",
    "plt.subplots_adjust(wspace=0.05)\n",
    "\n",
    "x_data = {axes[0]:'sex', axes[1]:'marriage', axes[2]:'education'}\n",
    "\n",
    "for ax in axes:\n",
    "    sns.histplot(ax=ax, data=df, x=x_data.get(ax), hue='default', \n",
    "             multiple='stack', stat='proportion', legend=False)\n",
    "    ax.tick_params(axis='x', rotation=30)\n",
    "    ax.xaxis.set_label_text('')\n",
    "    \n",
    "fig.legend(['default: 0', 'default: 1'], loc = 'upper center', ncol=2)\n",
    "\n",
    "plt.show()"
   ]
  },
  {
   "cell_type": "markdown",
   "metadata": {},
   "source": [
    "Then, specific numeric variables have been presented: **X0 limit_bal**, being the credit card limit balance of an idividual obervation, **X12 bill_amt1** bill_amt as amount to pay for the last month, as well as **X18 pay_amt1**, being the value of the last payment."
   ]
  },
  {
   "cell_type": "code",
   "execution_count": 19,
   "metadata": {
    "colab": {
     "base_uri": "https://localhost:8080/",
     "height": 550
    },
    "id": "quRZLlEfS2q2",
    "outputId": "448dee4e-f0b9-46b7-b9bc-c5e70262f4b7"
   },
   "outputs": [
    {
     "data": {
      "image/png": "[encoded data removed]",
      "text/plain": [
       "<Figure size 581.625x540 with 12 Axes>"
      ]
     },
     "metadata": {},
     "output_type": "display_data"
    }
   ],
   "source": [
    "sns.pairplot(df, x_vars=[\"limit_bal\", \"bill_amt1\",'pay_amt1'],\n",
    "    y_vars=[\"limit_bal\", \"bill_amt1\",'pay_amt1'], hue='default', \n",
    "             plot_kws={'s': 25})\n",
    "plt.show()"
   ]
  },
  {
   "cell_type": "markdown",
   "metadata": {},
   "source": [
    "To illustrate the correlation between individual features, a correlation matrix was created. As we can see, the most positively correlated features are the ones related to the status of the payment, as well as monthly statement values. However, no features with a strongly negative correlation were observed."
   ]
  },
  {
   "cell_type": "code",
   "execution_count": 20,
   "metadata": {
    "colab": {
     "base_uri": "https://localhost:8080/",
     "height": 363
    },
    "id": "TacbBjnlS2q3",
    "outputId": "7e14ed8c-1da9-4457-d5ee-986ff80963ac"
   },
   "outputs": [
    {
     "name": "stderr",
     "output_type": "stream",
     "text": [
      "C:\\ProgramData\\Anaconda3\\lib\\site-packages\\seaborn\\matrix.py:302: MatplotlibDeprecationWarning: Auto-removal of grids by pcolor() and pcolormesh() is deprecated since 3.5 and will be removed two minor releases later; please call grid(False) first.\n",
      "  mesh = ax.pcolormesh(self.plot_data, cmap=self.cmap, **kws)\n"
     ]
    },
    {
     "data": {
      "image/png": "[encoded data removed]",
      "text/plain": [
       "<Figure size 504x360 with 2 Axes>"
      ]
     },
     "metadata": {},
     "output_type": "display_data"
    }
   ],
   "source": [
    "corr_mat = df.rename(columns={'default_payment_next_month': 'default'}).corr()\n",
    "mask = np.zeros_like(corr_mat)\n",
    "mask[np.triu_indices_from(mask)] = True\n",
    "\n",
    "fig, ax = plt.subplots(figsize=(7, 5))\n",
    "ax = sns.heatmap(corr_mat, cmap='Blues', mask=mask, vmax=1, square=True)"
   ]
  },
  {
   "cell_type": "markdown",
   "metadata": {
    "id": "oNjo647kRedS"
   },
   "source": [
    "# Data preparation for modeling"
   ]
  },
  {
   "cell_type": "markdown",
   "metadata": {
    "id": "dp1MLY-lUqza"
   },
   "source": [
    "## Data split"
   ]
  },
  {
   "cell_type": "markdown",
   "metadata": {},
   "source": [
    "The first step of predictive modeling using supervised learning techniques will be split of the data. Primary approach is to divide our data into training dataset, used to train our model and into test dataset, used for performance evaluation of the model. Knowing we are working with imbalance data set, the split was performed in a way to preserve the actual target variable distribution (78% of negative observations, 22% positive observations).\n",
    "\n",
    "As the process of optimizing the effectiveness of selected models will consist of a series of consecutive stages, the ongoing assessment of the impact of the optimization process will also be important. Due to the fact that our test data should not be used in the classifier training process, the above-mentioned split has been extended to validation data, in the following proportion:\n",
    "\n",
    "*   Training data 80%\n",
    "*   Validation data 10%\n",
    "*   Test data 10%\n",
    "\n"
   ]
  },
  {
   "cell_type": "code",
   "execution_count": 21,
   "metadata": {
    "colab": {
     "base_uri": "https://localhost:8080/"
    },
    "id": "zksUFMAXS2q5",
    "outputId": "a88ed5d1-41f7-4ced-c89a-9f1f73f5fc0d"
   },
   "outputs": [
    {
     "name": "stdout",
     "output_type": "stream",
     "text": [
      "Train: 0: 18691 1:  5309\n",
      "Val:   0: 2337 1:  663\n",
      "Test:  0: 2336 1:  664\n"
     ]
    }
   ],
   "source": [
    "X_train, X_test, y_train, y_test = train_test_split(X, y, test_size=0.2, random_state=34, stratify=y)\n",
    "X_val, X_test, y_val, y_test = train_test_split(X_test, y_test, test_size=0.50, random_state=34, stratify=y_test)\n",
    "\n",
    "print(\"Train: 0:\", len(y_train) - sum(y_train), \"1: \", sum(y_train))\n",
    "print(\"Val:   0:\", len(y_val) - sum(y_val), \"1: \", sum(y_val))\n",
    "print(\"Test:  0:\", len(y_test) - sum(y_test), \"1: \", sum(y_test))"
   ]
  },
  {
   "cell_type": "markdown",
   "metadata": {
    "id": "6_RGIQyxWfKc"
   },
   "source": [
    "## Data transforming"
   ]
  },
  {
   "cell_type": "markdown",
   "metadata": {},
   "source": [
    "Our dataset contains different types of features. In order to work with classifier objects from **scikit-learn** library, it is necessary to transform the data, with the below tools:\n",
    "\n",
    "*   StandardScaler - to standardize numeric features\n",
    "*   OneHotEncoder - to encode categorical features\n",
    "*   OrdinalEncoder - to encode categorical features, preserving their hierarchy\n"
   ]
  },
  {
   "cell_type": "markdown",
   "metadata": {},
   "source": [
    "Below Lists were created, with relevant features assigned:"
   ]
  },
  {
   "cell_type": "code",
   "execution_count": 22,
   "metadata": {
    "id": "uq_5KUAVcefq"
   },
   "outputs": [],
   "source": [
    "num_features = ['limit_bal','age', 'pay_0', 'pay_2','pay_3', 'pay_4', 'pay_5', \n",
    "                'pay_6','bill_amt1', 'bill_amt2', 'bill_amt3', 'bill_amt4', \n",
    "                'bill_amt5', 'bill_amt6', 'pay_amt1','pay_amt2', 'pay_amt3', \n",
    "                'pay_amt4', 'pay_amt5', 'pay_amt6',]      \n",
    "\n",
    "cat_features = ['sex','marriage']\n",
    "\n",
    "ord_features = ['education']"
   ]
  },
  {
   "cell_type": "markdown",
   "metadata": {},
   "source": [
    "Then, our transforming objects were created, including specific order for *education* feature."
   ]
  },
  {
   "cell_type": "code",
   "execution_count": 23,
   "metadata": {
    "id": "IPClI416dTQ5"
   },
   "outputs": [],
   "source": [
    "numerical_transformer = StandardScaler()\n",
    "\n",
    "categorical_transformer = OneHotEncoder(sparse=False)\n",
    "\n",
    "education_hierarchy = [[\"others\", \"high school\", \"university\", \"graduate school\"]]\n",
    "\n",
    "ordinal_transformer = OrdinalEncoder(categories=education_hierarchy)"
   ]
  },
  {
   "cell_type": "markdown",
   "metadata": {},
   "source": [
    "The above standardizing and endcoding objects were passed on to newly created `ColumnTransformer`. This allow us to effectively manage our predictive modling process later on."
   ]
  },
  {
   "cell_type": "code",
   "execution_count": 24,
   "metadata": {
    "id": "te96YQ4jvfXx"
   },
   "outputs": [],
   "source": [
    "preprocessor = ColumnTransformer(\n",
    "    transformers=[\n",
    "                  ('numerical',numerical_transformer, num_features),\n",
    "                  ('categorical',categorical_transformer, cat_features),\n",
    "                  ('ord_categorical',ordinal_transformer, ord_features)\n",
    "    ])"
   ]
  },
  {
   "cell_type": "markdown",
   "metadata": {
    "id": "W67mEWFAvQ-q"
   },
   "source": [
    "## Pipeline"
   ]
  },
  {
   "cell_type": "markdown",
   "metadata": {},
   "source": [
    "In order to streamline the modeling process a **Pipeline** object was created.\n",
    "\n",
    "As our our main goal to handle imbalanced data is applying **under/oversampling** techniques, a `Pipeline` class object from the **imbalanced-learn** library will be used. This way we can include the mentioned solution in the entire process.\n",
    "\n",
    "The previously created `preprocessor` object, which will be used to transform the data, was applied as the first step in the `pipe` object."
   ]
  },
  {
   "cell_type": "code",
   "execution_count": 25,
   "metadata": {},
   "outputs": [],
   "source": [
    "pipe = imb.pipeline.Pipeline(steps=[('preprocessor',preprocessor)])"
   ]
  },
  {
   "cell_type": "markdown",
   "metadata": {},
   "source": [
    "The scheme of an object constructed in this way looks like this:"
   ]
  },
  {
   "cell_type": "code",
   "execution_count": 26,
   "metadata": {
    "colab": {
     "base_uri": "https://localhost:8080/",
     "height": 158
    },
    "id": "sYB0vZEPetaY",
    "outputId": "ca376e33-4338-4216-97d4-e311c9afbcc3"
   },
   "outputs": [
    {
     "data": {
      "text/html": [
       "<style>#sk-82216101-6a14-42b1-b249-65261d8d6b71 {color: black;background-color: white;}#sk-82216101-6a14-42b1-b249-65261d8d6b71 pre{padding: 0;}#sk-82216101-6a14-42b1-b249-65261d8d6b71 div.sk-toggleable {background-color: white;}#sk-82216101-6a14-42b1-b249-65261d8d6b71 label.sk-toggleable__label {cursor: pointer;display: block;width: 100%;margin-bottom: 0;padding: 0.3em;box-sizing: border-box;text-align: center;}#sk-82216101-6a14-42b1-b249-65261d8d6b71 label.sk-toggleable__label-arrow:before {content: \"▸\";float: left;margin-right: 0.25em;color: #696969;}#sk-82216101-6a14-42b1-b249-65261d8d6b71 label.sk-toggleable__label-arrow:hover:before {color: black;}#sk-82216101-6a14-42b1-b249-65261d8d6b71 div.sk-estimator:hover label.sk-toggleable__label-arrow:before {color: black;}#sk-82216101-6a14-42b1-b249-65261d8d6b71 div.sk-toggleable__content {max-height: 0;max-width: 0;overflow: hidden;text-align: left;background-color: #f0f8ff;}#sk-82216101-6a14-42b1-b249-65261d8d6b71 div.sk-toggleable__content pre {margin: 0.2em;color: black;border-radius: 0.25em;background-color: #f0f8ff;}#sk-82216101-6a14-42b1-b249-65261d8d6b71 input.sk-toggleable__control:checked~div.sk-toggleable__content {max-height: 200px;max-width: 100%;overflow: auto;}#sk-82216101-6a14-42b1-b249-65261d8d6b71 input.sk-toggleable__control:checked~label.sk-toggleable__label-arrow:before {content: \"▾\";}#sk-82216101-6a14-42b1-b249-65261d8d6b71 div.sk-estimator input.sk-toggleable__control:checked~label.sk-toggleable__label {background-color: #d4ebff;}#sk-82216101-6a14-42b1-b249-65261d8d6b71 div.sk-label input.sk-toggleable__control:checked~label.sk-toggleable__label {background-color: #d4ebff;}#sk-82216101-6a14-42b1-b249-65261d8d6b71 input.sk-hidden--visually {border: 0;clip: rect(1px 1px 1px 1px);clip: rect(1px, 1px, 1px, 1px);height: 1px;margin: -1px;overflow: hidden;padding: 0;position: absolute;width: 1px;}#sk-82216101-6a14-42b1-b249-65261d8d6b71 div.sk-estimator {font-family: monospace;background-color: #f0f8ff;border: 1px dotted black;border-radius: 0.25em;box-sizing: border-box;margin-bottom: 0.5em;}#sk-82216101-6a14-42b1-b249-65261d8d6b71 div.sk-estimator:hover {background-color: #d4ebff;}#sk-82216101-6a14-42b1-b249-65261d8d6b71 div.sk-parallel-item::after {content: \"\";width: 100%;border-bottom: 1px solid gray;flex-grow: 1;}#sk-82216101-6a14-42b1-b249-65261d8d6b71 div.sk-label:hover label.sk-toggleable__label {background-color: #d4ebff;}#sk-82216101-6a14-42b1-b249-65261d8d6b71 div.sk-serial::before {content: \"\";position: absolute;border-left: 1px solid gray;box-sizing: border-box;top: 2em;bottom: 0;left: 50%;}#sk-82216101-6a14-42b1-b249-65261d8d6b71 div.sk-serial {display: flex;flex-direction: column;align-items: center;background-color: white;padding-right: 0.2em;padding-left: 0.2em;}#sk-82216101-6a14-42b1-b249-65261d8d6b71 div.sk-item {z-index: 1;}#sk-82216101-6a14-42b1-b249-65261d8d6b71 div.sk-parallel {display: flex;align-items: stretch;justify-content: center;background-color: white;}#sk-82216101-6a14-42b1-b249-65261d8d6b71 div.sk-parallel::before {content: \"\";position: absolute;border-left: 1px solid gray;box-sizing: border-box;top: 2em;bottom: 0;left: 50%;}#sk-82216101-6a14-42b1-b249-65261d8d6b71 div.sk-parallel-item {display: flex;flex-direction: column;position: relative;background-color: white;}#sk-82216101-6a14-42b1-b249-65261d8d6b71 div.sk-parallel-item:first-child::after {align-self: flex-end;width: 50%;}#sk-82216101-6a14-42b1-b249-65261d8d6b71 div.sk-parallel-item:last-child::after {align-self: flex-start;width: 50%;}#sk-82216101-6a14-42b1-b249-65261d8d6b71 div.sk-parallel-item:only-child::after {width: 0;}#sk-82216101-6a14-42b1-b249-65261d8d6b71 div.sk-dashed-wrapped {border: 1px dashed gray;margin: 0 0.4em 0.5em 0.4em;box-sizing: border-box;padding-bottom: 0.4em;background-color: white;position: relative;}#sk-82216101-6a14-42b1-b249-65261d8d6b71 div.sk-label label {font-family: monospace;font-weight: bold;background-color: white;display: inline-block;line-height: 1.2em;}#sk-82216101-6a14-42b1-b249-65261d8d6b71 div.sk-label-container {position: relative;z-index: 2;text-align: center;}#sk-82216101-6a14-42b1-b249-65261d8d6b71 div.sk-container {/* jupyter's `normalize.less` sets `[hidden] { display: none; }` but bootstrap.min.css set `[hidden] { display: none !important; }` so we also need the `!important` here to be able to override the default hidden behavior on the sphinx rendered scikit-learn.org. See: https://github.com/scikit-learn/scikit-learn/issues/21755 */display: inline-block !important;position: relative;}#sk-82216101-6a14-42b1-b249-65261d8d6b71 div.sk-text-repr-fallback {display: none;}</style><div id=\"sk-82216101-6a14-42b1-b249-65261d8d6b71\" class=\"sk-top-container\"><div class=\"sk-text-repr-fallback\"><pre>Pipeline(steps=[(&#x27;preprocessor&#x27;,\n",
       "                 ColumnTransformer(transformers=[(&#x27;numerical&#x27;, StandardScaler(),\n",
       "                                                  [&#x27;limit_bal&#x27;, &#x27;age&#x27;, &#x27;pay_0&#x27;,\n",
       "                                                   &#x27;pay_2&#x27;, &#x27;pay_3&#x27;, &#x27;pay_4&#x27;,\n",
       "                                                   &#x27;pay_5&#x27;, &#x27;pay_6&#x27;,\n",
       "                                                   &#x27;bill_amt1&#x27;, &#x27;bill_amt2&#x27;,\n",
       "                                                   &#x27;bill_amt3&#x27;, &#x27;bill_amt4&#x27;,\n",
       "                                                   &#x27;bill_amt5&#x27;, &#x27;bill_amt6&#x27;,\n",
       "                                                   &#x27;pay_amt1&#x27;, &#x27;pay_amt2&#x27;,\n",
       "                                                   &#x27;pay_amt3&#x27;, &#x27;pay_amt4&#x27;,\n",
       "                                                   &#x27;pay_amt5&#x27;, &#x27;pay_amt6&#x27;]),\n",
       "                                                 (&#x27;categorical&#x27;,\n",
       "                                                  OneHotEncoder(sparse=False),\n",
       "                                                  [&#x27;sex&#x27;, &#x27;marriage&#x27;]),\n",
       "                                                 (&#x27;ord_categorical&#x27;,\n",
       "                                                  OrdinalEncoder(categories=[[&#x27;others&#x27;,\n",
       "                                                                              &#x27;high &#x27;\n",
       "                                                                              &#x27;school&#x27;,\n",
       "                                                                              &#x27;university&#x27;,\n",
       "                                                                              &#x27;graduate &#x27;\n",
       "                                                                              &#x27;school&#x27;]]),\n",
       "                                                  [&#x27;education&#x27;])]))])</pre><b>Please rerun this cell to show the HTML repr or trust the notebook.</b></div><div class=\"sk-container\" hidden><div class=\"sk-item sk-dashed-wrapped\"><div class=\"sk-label-container\"><div class=\"sk-label sk-toggleable\"><input class=\"sk-toggleable__control sk-hidden--visually\" id=\"cb681ed6-0bc4-43c9-82c2-630d122b6ca0\" type=\"checkbox\" ><label for=\"cb681ed6-0bc4-43c9-82c2-630d122b6ca0\" class=\"sk-toggleable__label sk-toggleable__label-arrow\">Pipeline</label><div class=\"sk-toggleable__content\"><pre>Pipeline(steps=[(&#x27;preprocessor&#x27;,\n",
       "                 ColumnTransformer(transformers=[(&#x27;numerical&#x27;, StandardScaler(),\n",
       "                                                  [&#x27;limit_bal&#x27;, &#x27;age&#x27;, &#x27;pay_0&#x27;,\n",
       "                                                   &#x27;pay_2&#x27;, &#x27;pay_3&#x27;, &#x27;pay_4&#x27;,\n",
       "                                                   &#x27;pay_5&#x27;, &#x27;pay_6&#x27;,\n",
       "                                                   &#x27;bill_amt1&#x27;, &#x27;bill_amt2&#x27;,\n",
       "                                                   &#x27;bill_amt3&#x27;, &#x27;bill_amt4&#x27;,\n",
       "                                                   &#x27;bill_amt5&#x27;, &#x27;bill_amt6&#x27;,\n",
       "                                                   &#x27;pay_amt1&#x27;, &#x27;pay_amt2&#x27;,\n",
       "                                                   &#x27;pay_amt3&#x27;, &#x27;pay_amt4&#x27;,\n",
       "                                                   &#x27;pay_amt5&#x27;, &#x27;pay_amt6&#x27;]),\n",
       "                                                 (&#x27;categorical&#x27;,\n",
       "                                                  OneHotEncoder(sparse=False),\n",
       "                                                  [&#x27;sex&#x27;, &#x27;marriage&#x27;]),\n",
       "                                                 (&#x27;ord_categorical&#x27;,\n",
       "                                                  OrdinalEncoder(categories=[[&#x27;others&#x27;,\n",
       "                                                                              &#x27;high &#x27;\n",
       "                                                                              &#x27;school&#x27;,\n",
       "                                                                              &#x27;university&#x27;,\n",
       "                                                                              &#x27;graduate &#x27;\n",
       "                                                                              &#x27;school&#x27;]]),\n",
       "                                                  [&#x27;education&#x27;])]))])</pre></div></div></div><div class=\"sk-serial\"><div class=\"sk-item sk-dashed-wrapped\"><div class=\"sk-label-container\"><div class=\"sk-label sk-toggleable\"><input class=\"sk-toggleable__control sk-hidden--visually\" id=\"cad40363-affe-4c02-ad1a-f2155a56d44a\" type=\"checkbox\" ><label for=\"cad40363-affe-4c02-ad1a-f2155a56d44a\" class=\"sk-toggleable__label sk-toggleable__label-arrow\">preprocessor: ColumnTransformer</label><div class=\"sk-toggleable__content\"><pre>ColumnTransformer(transformers=[(&#x27;numerical&#x27;, StandardScaler(),\n",
       "                                 [&#x27;limit_bal&#x27;, &#x27;age&#x27;, &#x27;pay_0&#x27;, &#x27;pay_2&#x27;, &#x27;pay_3&#x27;,\n",
       "                                  &#x27;pay_4&#x27;, &#x27;pay_5&#x27;, &#x27;pay_6&#x27;, &#x27;bill_amt1&#x27;,\n",
       "                                  &#x27;bill_amt2&#x27;, &#x27;bill_amt3&#x27;, &#x27;bill_amt4&#x27;,\n",
       "                                  &#x27;bill_amt5&#x27;, &#x27;bill_amt6&#x27;, &#x27;pay_amt1&#x27;,\n",
       "                                  &#x27;pay_amt2&#x27;, &#x27;pay_amt3&#x27;, &#x27;pay_amt4&#x27;,\n",
       "                                  &#x27;pay_amt5&#x27;, &#x27;pay_amt6&#x27;]),\n",
       "                                (&#x27;categorical&#x27;, OneHotEncoder(sparse=False),\n",
       "                                 [&#x27;sex&#x27;, &#x27;marriage&#x27;]),\n",
       "                                (&#x27;ord_categorical&#x27;,\n",
       "                                 OrdinalEncoder(categories=[[&#x27;others&#x27;,\n",
       "                                                             &#x27;high school&#x27;,\n",
       "                                                             &#x27;university&#x27;,\n",
       "                                                             &#x27;graduate &#x27;\n",
       "                                                             &#x27;school&#x27;]]),\n",
       "                                 [&#x27;education&#x27;])])</pre></div></div></div><div class=\"sk-parallel\"><div class=\"sk-parallel-item\"><div class=\"sk-item\"><div class=\"sk-label-container\"><div class=\"sk-label sk-toggleable\"><input class=\"sk-toggleable__control sk-hidden--visually\" id=\"507d281e-6741-414b-9321-49150c2ba853\" type=\"checkbox\" ><label for=\"507d281e-6741-414b-9321-49150c2ba853\" class=\"sk-toggleable__label sk-toggleable__label-arrow\">numerical</label><div class=\"sk-toggleable__content\"><pre>[&#x27;limit_bal&#x27;, &#x27;age&#x27;, &#x27;pay_0&#x27;, &#x27;pay_2&#x27;, &#x27;pay_3&#x27;, &#x27;pay_4&#x27;, &#x27;pay_5&#x27;, &#x27;pay_6&#x27;, &#x27;bill_amt1&#x27;, &#x27;bill_amt2&#x27;, &#x27;bill_amt3&#x27;, &#x27;bill_amt4&#x27;, &#x27;bill_amt5&#x27;, &#x27;bill_amt6&#x27;, &#x27;pay_amt1&#x27;, &#x27;pay_amt2&#x27;, &#x27;pay_amt3&#x27;, &#x27;pay_amt4&#x27;, &#x27;pay_amt5&#x27;, &#x27;pay_amt6&#x27;]</pre></div></div></div><div class=\"sk-serial\"><div class=\"sk-item\"><div class=\"sk-estimator sk-toggleable\"><input class=\"sk-toggleable__control sk-hidden--visually\" id=\"c9bd9c6a-bf42-4cc4-9834-8efa3ba61efb\" type=\"checkbox\" ><label for=\"c9bd9c6a-bf42-4cc4-9834-8efa3ba61efb\" class=\"sk-toggleable__label sk-toggleable__label-arrow\">StandardScaler</label><div class=\"sk-toggleable__content\"><pre>StandardScaler()</pre></div></div></div></div></div></div><div class=\"sk-parallel-item\"><div class=\"sk-item\"><div class=\"sk-label-container\"><div class=\"sk-label sk-toggleable\"><input class=\"sk-toggleable__control sk-hidden--visually\" id=\"21265162-3cbd-465d-8015-d83eb9a81f1d\" type=\"checkbox\" ><label for=\"21265162-3cbd-465d-8015-d83eb9a81f1d\" class=\"sk-toggleable__label sk-toggleable__label-arrow\">categorical</label><div class=\"sk-toggleable__content\"><pre>[&#x27;sex&#x27;, &#x27;marriage&#x27;]</pre></div></div></div><div class=\"sk-serial\"><div class=\"sk-item\"><div class=\"sk-estimator sk-toggleable\"><input class=\"sk-toggleable__control sk-hidden--visually\" id=\"da5f7e4b-8e6b-4e16-a3d5-e328d5a7ebb4\" type=\"checkbox\" ><label for=\"da5f7e4b-8e6b-4e16-a3d5-e328d5a7ebb4\" class=\"sk-toggleable__label sk-toggleable__label-arrow\">OneHotEncoder</label><div class=\"sk-toggleable__content\"><pre>OneHotEncoder(sparse=False)</pre></div></div></div></div></div></div><div class=\"sk-parallel-item\"><div class=\"sk-item\"><div class=\"sk-label-container\"><div class=\"sk-label sk-toggleable\"><input class=\"sk-toggleable__control sk-hidden--visually\" id=\"e4825828-be66-444f-b562-4e126735b39d\" type=\"checkbox\" ><label for=\"e4825828-be66-444f-b562-4e126735b39d\" class=\"sk-toggleable__label sk-toggleable__label-arrow\">ord_categorical</label><div class=\"sk-toggleable__content\"><pre>[&#x27;education&#x27;]</pre></div></div></div><div class=\"sk-serial\"><div class=\"sk-item\"><div class=\"sk-estimator sk-toggleable\"><input class=\"sk-toggleable__control sk-hidden--visually\" id=\"7357346b-e5da-4a23-ab5c-34c70234831a\" type=\"checkbox\" ><label for=\"7357346b-e5da-4a23-ab5c-34c70234831a\" class=\"sk-toggleable__label sk-toggleable__label-arrow\">OrdinalEncoder</label><div class=\"sk-toggleable__content\"><pre>OrdinalEncoder(categories=[[&#x27;others&#x27;, &#x27;high school&#x27;, &#x27;university&#x27;,\n",
       "                            &#x27;graduate school&#x27;]])</pre></div></div></div></div></div></div></div></div></div></div></div></div>"
      ],
      "text/plain": [
       "Pipeline(steps=[('preprocessor',\n",
       "                 ColumnTransformer(transformers=[('numerical', StandardScaler(),\n",
       "                                                  ['limit_bal', 'age', 'pay_0',\n",
       "                                                   'pay_2', 'pay_3', 'pay_4',\n",
       "                                                   'pay_5', 'pay_6',\n",
       "                                                   'bill_amt1', 'bill_amt2',\n",
       "                                                   'bill_amt3', 'bill_amt4',\n",
       "                                                   'bill_amt5', 'bill_amt6',\n",
       "                                                   'pay_amt1', 'pay_amt2',\n",
       "                                                   'pay_amt3', 'pay_amt4',\n",
       "                                                   'pay_amt5', 'pay_amt6']),\n",
       "                                                 ('categorical',\n",
       "                                                  OneHotEncoder(sparse=False),\n",
       "                                                  ['sex', 'marriage']),\n",
       "                                                 ('ord_categorical',\n",
       "                                                  OrdinalEncoder(categories=[['others',\n",
       "                                                                              'high '\n",
       "                                                                              'school',\n",
       "                                                                              'university',\n",
       "                                                                              'graduate '\n",
       "                                                                              'school']]),\n",
       "                                                  ['education'])]))])"
      ]
     },
     "execution_count": 26,
     "metadata": {},
     "output_type": "execute_result"
    }
   ],
   "source": [
    "pipe"
   ]
  },
  {
   "cell_type": "markdown",
   "metadata": {
    "id": "BlWLw-40hWQW"
   },
   "source": [
    "# Model preparation"
   ]
  },
  {
   "cell_type": "markdown",
   "metadata": {
    "id": "HVJgj-W03yFj"
   },
   "source": [
    "## Model description"
   ]
  },
  {
   "cell_type": "markdown",
   "metadata": {
    "id": "LHBfoBIVXCLW"
   },
   "source": [
    "There are many types of supervised machine learning models. For the purposes of the analysis, several types of classification models were selected:"
   ]
  },
  {
   "cell_type": "markdown",
   "metadata": {
    "id": "E6OeLzNZknSV"
   },
   "source": [
    "**DecisionTree**\n",
    "\n",
    "Basic and easy to interpret method of classification which consists of split data into subsets. Each subset is split per the value of the selected feature between the values higher and lower than the observed value (criterion). The split criterion is determined in order to minimize the heterogeneity of the results in each subset.\n",
    "\n",
    "**K-Nearest Neighbours**\n",
    "\n",
    "The idea of the algorithm is to classify the observations to a selected class on the basis of similarity to the number K of the closest remaining observations. Similarity is determined by a Euclidean distance measure, a *Manhattan* or other metrics.\n",
    "\n",
    "**NaiveBayes**\n",
    "\n",
    "The model is based on probability of an observed feature for a given result to estimate the probability of observation a given class for a given set of explanatory variables. In the naive classifier, it is important to assume that the selected explanatory variable is independent of all other explanatory variables.\n",
    "\n",
    "**RandomForest**\n",
    "\n",
    "An aggregated model based on combining the results of less complex decision tree models. It uses *bagging*, i.e. bootstrap aggregation (sampling with return from a data set) and model averaging. This model takes into account the significance of the variable and is specified by a set of hyperparameters that can be optimized\n",
    "\n",
    "**XGBoost**\n",
    "\n",
    "Another aggregated model, which is a stochastic implementation of gradient boosting, i.e. a method of error reduction in subsequent model predictions, supported by observation & feature sampling at each subsequent iteration. A computationally efficient model, with large number of hyperparameters for optimization\n",
    "\n",
    "**LightGBM**\n",
    "\n",
    "Similarly to XGBoost model, it is also based on gradient boosting, but unlike most models based on decision trees, new nodes are not created based on a tree level, but on individual \"leaves\" in separate nodes and and the highest loss reduction associated with, which significantly affects the performance of a model while maintaining the accuracy of prediction, however, it may potentially show a greater tendency to overfit."
   ]
  },
  {
   "cell_type": "markdown",
   "metadata": {
    "id": "-yLrSBOf3--v"
   },
   "source": [
    "As part of improving the reference to individual machine learning models, a `models` dictionary was created, where we applied individual classifiers"
   ]
  },
  {
   "cell_type": "code",
   "execution_count": 27,
   "metadata": {
    "id": "0ni2qPOqlZ_A"
   },
   "outputs": [],
   "source": [
    "models = {\n",
    "    \"DecisionTree\": DecisionTreeClassifier(),\n",
    "     \"KNN\": KNeighborsClassifier(),\n",
    "     \"LightGBM\": lgb.LGBMClassifier(),     \n",
    "     \"NaiveBayes\": GaussianNB(),\n",
    "     \"RandomForest\": RandomForestClassifier(),\n",
    "     \"XGBoost\": xgb.XGBClassifier(use_label_encoder=False)\n",
    "    }"
   ]
  },
  {
   "cell_type": "markdown",
   "metadata": {
    "id": "EzwxHhx8k-JM"
   },
   "source": [
    "## Model evaluation criteria"
   ]
  },
  {
   "cell_type": "markdown",
   "metadata": {
    "id": "W5wXiElWhs3n"
   },
   "source": [
    "The basic classification models' evaluation metric is an accuracy.\n",
    "<br/><br/>\n",
    "\\begin{align}\n",
    "        accuracy = \\frac{TP+TN} {TP+TN+FP+FN}\n",
    "    \\end{align}\n",
    "\n",
    "where: \n",
    "\n",
    "*   TP - True Positives\n",
    "*   TN - True Negatives\n",
    "*   FP - False Positives\n",
    "*   FN - False Negatives\n",
    "<br/><br/>\n",
    "\n",
    "Since the distribution of classes in the analyzed data set is unbalanced, the above-mentioned evaluation metric may be insufficient for a reliable assessment. This is due to the fact that the prediction of a small class is also much more important from the problem perspective. In addition, taking into account the so-called *the validity paradox*, a potential model classifying all observations into the majority class could demonstrate a relatively high validity rating. Therefore, the harmonic precision-recall mean F1 will be used as a model evaluation metric, in the form:\n",
    "\n",
    "\n",
    "<br/><br/>\n",
    "\\begin{align}\n",
    "       F1 = \\frac{TP} {TP + 0.5(FP+FN)}  \n",
    "    \\end{align}\n",
    "<br/><br/>\n",
    "\n"
   ]
  },
  {
   "cell_type": "code",
   "execution_count": 28,
   "metadata": {
    "id": "_O3GU3thi4Pj"
   },
   "outputs": [],
   "source": [
    "f1_scoring = make_scorer(f1_score)"
   ]
  },
  {
   "cell_type": "markdown",
   "metadata": {
    "id": "y-fBL0-NimKr"
   },
   "source": [
    "In order to evaluate the effectiveness of the model prediction, k-fold cross-validation will be used, which is randomly shuffling a data set and dividing the set into k-groups. Then, within each group, a set of test and training data is separated. The model is trained solely on the training data and then evaluated based on the prediction of the test data and the relevant metric. The process carried out in this way on each of the groups allows a more reliable assessment of the model."
   ]
  },
  {
   "cell_type": "markdown",
   "metadata": {},
   "source": [
    "The k number of individual groups for cross-validation is determined:"
   ]
  },
  {
   "cell_type": "code",
   "execution_count": 29,
   "metadata": {
    "id": "TnIuB5CnhdW8"
   },
   "outputs": [],
   "source": [
    "skfold = StratifiedKFold(n_splits=10, shuffle=True, random_state=34)"
   ]
  },
  {
   "cell_type": "markdown",
   "metadata": {
    "id": "z04YWS99mz-6"
   },
   "source": [
    "## Initial evaluation of baseline models "
   ]
  },
  {
   "cell_type": "markdown",
   "metadata": {},
   "source": [
    "The initial model evaluation is performed with **cross_val_score**. As part of a single iteration, the following steps are applied for each model:\n",
    "\n",
    "1. Based on a copy of the previously designed initial pipeline, a model from the `models` dictionary has been added. This will allow the data to be transformed before fitting to the model.\n",
    "2.      Using the **cross_val_score** object, the model was trained on training data within a predetermined **k-fold** value.\n",
    "3.     The result of the model evaluation based on F1 was entered in the corresponding `model_results` dictionary\n",
    "\n",
    "Dictionary with the cross-validation results will be passed to the newly created DataFrame for further analysis:\n"
   ]
  },
  {
   "cell_type": "code",
   "execution_count": 30,
   "metadata": {
    "colab": {
     "base_uri": "https://localhost:8080/",
     "height": 106,
     "referenced_widgets": [
      "8805b34b4d234ce385b50f49ca15612e",
      "49839e111f16442fb175f8693d791c65",
      "1a6d760ea8354ef6ac7f490f498af657",
      "7df78afab7ba49c78145ecc458b8ac2e",
      "5624536f05444a8189b0fee511236eaa",
      "0f6bbf280482439aa70958387afb4a1d",
      "5221aaf0eac0418cbcb2d3df09d080ae",
      "abc13f9275aa4062978ed6489aa3bbab",
      "308e258aee894ec6b16fb44b06f29c7c",
      "e8775d7dcc8a4b80a61c63defcf76544",
      "4162fe9432f34a8bbd7158c89ede033a"
     ]
    },
    "id": "O22LhfcunJNI",
    "outputId": "6b0d35ae-8310-4319-f9ea-38524a6fb641"
   },
   "outputs": [
    {
     "data": {
      "application/vnd.jupyter.widget-view+json": {
       "model_id": "8ba13caad6ef4c25a7f2b1f629c50763",
       "version_major": 2,
       "version_minor": 0
      },
      "text/plain": [
       "  0%|          | 0/6 [00:00<?, ?it/s]"
      ]
     },
     "metadata": {},
     "output_type": "display_data"
    }
   ],
   "source": [
    "model_results = {}\n",
    "for name, model in tqdm(models.items()):\n",
    "    pipe_copy = clone(pipe)\n",
    "    pipe_copy.steps.append(['classifier', model])\n",
    "    cv_results = cross_val_score(pipe_copy, X_train, y_train, cv=skfold, \n",
    "                                 n_jobs=5, scoring=f1_scoring)\n",
    "    model_results[name] = cv_results\n",
    "\n",
    "model_results_df = pd.DataFrame(model_results)"
   ]
  },
  {
   "cell_type": "markdown",
   "metadata": {
    "id": "v8GflrJmrFut"
   },
   "source": [
    "The results of the base models are as follows:"
   ]
  },
  {
   "cell_type": "code",
   "execution_count": 31,
   "metadata": {
    "colab": {
     "base_uri": "https://localhost:8080/",
     "height": 300
    },
    "id": "e9_xQopwrF6V",
    "outputId": "70481f30-13aa-4315-97d3-55749eb1d0b0"
   },
   "outputs": [
    {
     "data": {
      "text/html": [
       "<div>\n",
       "<style scoped>\n",
       "    .dataframe tbody tr th:only-of-type {\n",
       "        vertical-align: middle;\n",
       "    }\n",
       "\n",
       "    .dataframe tbody tr th {\n",
       "        vertical-align: top;\n",
       "    }\n",
       "\n",
       "    .dataframe thead th {\n",
       "        text-align: right;\n",
       "    }\n",
       "</style>\n",
       "<table border=\"1\" class=\"dataframe\">\n",
       "  <thead>\n",
       "    <tr style=\"text-align: right;\">\n",
       "      <th></th>\n",
       "      <th>DecisionTree</th>\n",
       "      <th>KNN</th>\n",
       "      <th>LightGBM</th>\n",
       "      <th>NaiveBayes</th>\n",
       "      <th>RandomForest</th>\n",
       "      <th>XGBoost</th>\n",
       "    </tr>\n",
       "  </thead>\n",
       "  <tbody>\n",
       "    <tr>\n",
       "      <th>count</th>\n",
       "      <td>10.000000</td>\n",
       "      <td>10.000000</td>\n",
       "      <td>10.000000</td>\n",
       "      <td>10.000000</td>\n",
       "      <td>10.000000</td>\n",
       "      <td>10.000000</td>\n",
       "    </tr>\n",
       "    <tr>\n",
       "      <th>mean</th>\n",
       "      <td>0.404077</td>\n",
       "      <td>0.431088</td>\n",
       "      <td>0.477637</td>\n",
       "      <td>0.468628</td>\n",
       "      <td>0.475340</td>\n",
       "      <td>0.469746</td>\n",
       "    </tr>\n",
       "    <tr>\n",
       "      <th>std</th>\n",
       "      <td>0.024762</td>\n",
       "      <td>0.021459</td>\n",
       "      <td>0.023549</td>\n",
       "      <td>0.016801</td>\n",
       "      <td>0.025636</td>\n",
       "      <td>0.028431</td>\n",
       "    </tr>\n",
       "    <tr>\n",
       "      <th>min</th>\n",
       "      <td>0.361242</td>\n",
       "      <td>0.401880</td>\n",
       "      <td>0.438964</td>\n",
       "      <td>0.442792</td>\n",
       "      <td>0.436975</td>\n",
       "      <td>0.425949</td>\n",
       "    </tr>\n",
       "    <tr>\n",
       "      <th>25%</th>\n",
       "      <td>0.384584</td>\n",
       "      <td>0.410286</td>\n",
       "      <td>0.460749</td>\n",
       "      <td>0.458265</td>\n",
       "      <td>0.459873</td>\n",
       "      <td>0.452575</td>\n",
       "    </tr>\n",
       "    <tr>\n",
       "      <th>50%</th>\n",
       "      <td>0.409067</td>\n",
       "      <td>0.437379</td>\n",
       "      <td>0.479630</td>\n",
       "      <td>0.471493</td>\n",
       "      <td>0.463779</td>\n",
       "      <td>0.472079</td>\n",
       "    </tr>\n",
       "    <tr>\n",
       "      <th>75%</th>\n",
       "      <td>0.421207</td>\n",
       "      <td>0.450219</td>\n",
       "      <td>0.495845</td>\n",
       "      <td>0.476608</td>\n",
       "      <td>0.499728</td>\n",
       "      <td>0.485973</td>\n",
       "    </tr>\n",
       "    <tr>\n",
       "      <th>max</th>\n",
       "      <td>0.436429</td>\n",
       "      <td>0.453820</td>\n",
       "      <td>0.507822</td>\n",
       "      <td>0.500334</td>\n",
       "      <td>0.511085</td>\n",
       "      <td>0.517200</td>\n",
       "    </tr>\n",
       "  </tbody>\n",
       "</table>\n",
       "</div>"
      ],
      "text/plain": [
       "       DecisionTree        KNN   LightGBM  NaiveBayes  RandomForest    XGBoost\n",
       "count     10.000000  10.000000  10.000000   10.000000     10.000000  10.000000\n",
       "mean       0.404077   0.431088   0.477637    0.468628      0.475340   0.469746\n",
       "std        0.024762   0.021459   0.023549    0.016801      0.025636   0.028431\n",
       "min        0.361242   0.401880   0.438964    0.442792      0.436975   0.425949\n",
       "25%        0.384584   0.410286   0.460749    0.458265      0.459873   0.452575\n",
       "50%        0.409067   0.437379   0.479630    0.471493      0.463779   0.472079\n",
       "75%        0.421207   0.450219   0.495845    0.476608      0.499728   0.485973\n",
       "max        0.436429   0.453820   0.507822    0.500334      0.511085   0.517200"
      ]
     },
     "execution_count": 31,
     "metadata": {},
     "output_type": "execute_result"
    }
   ],
   "source": [
    "model_results_df.describe()"
   ]
  },
  {
   "cell_type": "markdown",
   "metadata": {
    "id": "djPPcYknS2rA"
   },
   "source": [
    "In order to visualize and compare the results, the boxplot function from the **Seaborn** library was used."
   ]
  },
  {
   "cell_type": "code",
   "execution_count": 32,
   "metadata": {
    "colab": {
     "base_uri": "https://localhost:8080/",
     "height": 300
    },
    "id": "tQP_lHgprNCO",
    "outputId": "24b2aea2-e8dd-403c-e95b-54e3537b6d15"
   },
   "outputs": [
    {
     "data": {
      "image/png": "[encoded data removed]",
      "text/plain": [
       "<Figure size 432x288 with 1 Axes>"
      ]
     },
     "metadata": {},
     "output_type": "display_data"
    }
   ],
   "source": [
    "ax = sns.boxplot(data=model_results_df, palette=\"Blues_r\")\n",
    "ax.set_xticklabels(ax.get_xticklabels(),rotation=30)\n",
    "plt.show()"
   ]
  },
  {
   "cell_type": "markdown",
   "metadata": {
    "id": "cbifUlsLCgOM"
   },
   "source": [
    "## Model evaluation sigificance"
   ]
  },
  {
   "cell_type": "markdown",
   "metadata": {},
   "source": [
    "To test the significance of the results obtained by cross-validation, the null hypotheses H<sub>0</sub> will be tested with the following significance tests:\n",
    "\n",
    "* Kruskal-Wallis H test, which will test the null hypothesis of the calculated median for each group within the population, and\n",
    "* Two-tailed t-test that will allow you to test the significance of the difference in mean scores between each pair of models\n",
    "\n",
    "Below we can see t test results, which was generated by the following function of the library **pingouin**."
   ]
  },
  {
   "cell_type": "code",
   "execution_count": 33,
   "metadata": {
    "colab": {
     "base_uri": "https://localhost:8080/",
     "height": 81
    },
    "id": "MF8vU2P8udpt",
    "outputId": "a11adf1a-0321-4088-e77d-f3002627bb22"
   },
   "outputs": [
    {
     "data": {
      "text/html": [
       "<div>\n",
       "<style scoped>\n",
       "    .dataframe tbody tr th:only-of-type {\n",
       "        vertical-align: middle;\n",
       "    }\n",
       "\n",
       "    .dataframe tbody tr th {\n",
       "        vertical-align: top;\n",
       "    }\n",
       "\n",
       "    .dataframe thead th {\n",
       "        text-align: right;\n",
       "    }\n",
       "</style>\n",
       "<table border=\"1\" class=\"dataframe\">\n",
       "  <thead>\n",
       "    <tr style=\"text-align: right;\">\n",
       "      <th></th>\n",
       "      <th>Source</th>\n",
       "      <th>ddof1</th>\n",
       "      <th>H</th>\n",
       "      <th>p-unc</th>\n",
       "    </tr>\n",
       "  </thead>\n",
       "  <tbody>\n",
       "    <tr>\n",
       "      <th>Kruskal</th>\n",
       "      <td>model</td>\n",
       "      <td>5</td>\n",
       "      <td>34.33</td>\n",
       "      <td>0.0</td>\n",
       "    </tr>\n",
       "  </tbody>\n",
       "</table>\n",
       "</div>"
      ],
      "text/plain": [
       "        Source  ddof1      H  p-unc\n",
       "Kruskal  model      5  34.33    0.0"
      ]
     },
     "execution_count": 33,
     "metadata": {},
     "output_type": "execute_result"
    }
   ],
   "source": [
    "model_results_pg = model_results_df.melt(var_name='model', \n",
    "                                                 value_name='result')\n",
    "\n",
    "pg.kruskal(model_results_pg, dv='result', between='model').round(3)"
   ]
  },
  {
   "cell_type": "code",
   "execution_count": 34,
   "metadata": {
    "colab": {
     "base_uri": "https://localhost:8080/",
     "height": 520
    },
    "id": "ENtzf42Juqjt",
    "outputId": "504a479e-f38f-4e7c-9f47-cb9b5630ac53"
   },
   "outputs": [
    {
     "data": {
      "text/html": [
       "<div>\n",
       "<style scoped>\n",
       "    .dataframe tbody tr th:only-of-type {\n",
       "        vertical-align: middle;\n",
       "    }\n",
       "\n",
       "    .dataframe tbody tr th {\n",
       "        vertical-align: top;\n",
       "    }\n",
       "\n",
       "    .dataframe thead th {\n",
       "        text-align: right;\n",
       "    }\n",
       "</style>\n",
       "<table border=\"1\" class=\"dataframe\">\n",
       "  <thead>\n",
       "    <tr style=\"text-align: right;\">\n",
       "      <th></th>\n",
       "      <th>Contrast</th>\n",
       "      <th>A</th>\n",
       "      <th>B</th>\n",
       "      <th>Paired</th>\n",
       "      <th>Parametric</th>\n",
       "      <th>U-val</th>\n",
       "      <th>alternative</th>\n",
       "      <th>p-unc</th>\n",
       "      <th>hedges</th>\n",
       "    </tr>\n",
       "  </thead>\n",
       "  <tbody>\n",
       "    <tr>\n",
       "      <th>0</th>\n",
       "      <td>model</td>\n",
       "      <td>DecisionTree</td>\n",
       "      <td>KNN</td>\n",
       "      <td>False</td>\n",
       "      <td>False</td>\n",
       "      <td>23.0</td>\n",
       "      <td>two-sided</td>\n",
       "      <td>0.045</td>\n",
       "      <td>-1.117</td>\n",
       "    </tr>\n",
       "    <tr>\n",
       "      <th>1</th>\n",
       "      <td>model</td>\n",
       "      <td>DecisionTree</td>\n",
       "      <td>LightGBM</td>\n",
       "      <td>False</td>\n",
       "      <td>False</td>\n",
       "      <td>0.0</td>\n",
       "      <td>two-sided</td>\n",
       "      <td>0.000</td>\n",
       "      <td>-2.916</td>\n",
       "    </tr>\n",
       "    <tr>\n",
       "      <th>2</th>\n",
       "      <td>model</td>\n",
       "      <td>DecisionTree</td>\n",
       "      <td>NaiveBayes</td>\n",
       "      <td>False</td>\n",
       "      <td>False</td>\n",
       "      <td>0.0</td>\n",
       "      <td>two-sided</td>\n",
       "      <td>0.000</td>\n",
       "      <td>-2.922</td>\n",
       "    </tr>\n",
       "    <tr>\n",
       "      <th>3</th>\n",
       "      <td>model</td>\n",
       "      <td>DecisionTree</td>\n",
       "      <td>RandomForest</td>\n",
       "      <td>False</td>\n",
       "      <td>False</td>\n",
       "      <td>0.0</td>\n",
       "      <td>two-sided</td>\n",
       "      <td>0.000</td>\n",
       "      <td>-2.708</td>\n",
       "    </tr>\n",
       "    <tr>\n",
       "      <th>4</th>\n",
       "      <td>model</td>\n",
       "      <td>DecisionTree</td>\n",
       "      <td>XGBoost</td>\n",
       "      <td>False</td>\n",
       "      <td>False</td>\n",
       "      <td>2.0</td>\n",
       "      <td>two-sided</td>\n",
       "      <td>0.000</td>\n",
       "      <td>-2.359</td>\n",
       "    </tr>\n",
       "    <tr>\n",
       "      <th>5</th>\n",
       "      <td>model</td>\n",
       "      <td>KNN</td>\n",
       "      <td>LightGBM</td>\n",
       "      <td>False</td>\n",
       "      <td>False</td>\n",
       "      <td>7.0</td>\n",
       "      <td>two-sided</td>\n",
       "      <td>0.001</td>\n",
       "      <td>-1.979</td>\n",
       "    </tr>\n",
       "    <tr>\n",
       "      <th>6</th>\n",
       "      <td>model</td>\n",
       "      <td>KNN</td>\n",
       "      <td>NaiveBayes</td>\n",
       "      <td>False</td>\n",
       "      <td>False</td>\n",
       "      <td>8.0</td>\n",
       "      <td>two-sided</td>\n",
       "      <td>0.002</td>\n",
       "      <td>-1.866</td>\n",
       "    </tr>\n",
       "    <tr>\n",
       "      <th>7</th>\n",
       "      <td>model</td>\n",
       "      <td>KNN</td>\n",
       "      <td>RandomForest</td>\n",
       "      <td>False</td>\n",
       "      <td>False</td>\n",
       "      <td>5.0</td>\n",
       "      <td>two-sided</td>\n",
       "      <td>0.001</td>\n",
       "      <td>-1.793</td>\n",
       "    </tr>\n",
       "    <tr>\n",
       "      <th>8</th>\n",
       "      <td>model</td>\n",
       "      <td>KNN</td>\n",
       "      <td>XGBoost</td>\n",
       "      <td>False</td>\n",
       "      <td>False</td>\n",
       "      <td>14.0</td>\n",
       "      <td>two-sided</td>\n",
       "      <td>0.007</td>\n",
       "      <td>-1.470</td>\n",
       "    </tr>\n",
       "    <tr>\n",
       "      <th>9</th>\n",
       "      <td>model</td>\n",
       "      <td>LightGBM</td>\n",
       "      <td>NaiveBayes</td>\n",
       "      <td>False</td>\n",
       "      <td>False</td>\n",
       "      <td>62.0</td>\n",
       "      <td>two-sided</td>\n",
       "      <td>0.385</td>\n",
       "      <td>0.422</td>\n",
       "    </tr>\n",
       "    <tr>\n",
       "      <th>10</th>\n",
       "      <td>model</td>\n",
       "      <td>LightGBM</td>\n",
       "      <td>RandomForest</td>\n",
       "      <td>False</td>\n",
       "      <td>False</td>\n",
       "      <td>52.0</td>\n",
       "      <td>two-sided</td>\n",
       "      <td>0.910</td>\n",
       "      <td>0.089</td>\n",
       "    </tr>\n",
       "    <tr>\n",
       "      <th>11</th>\n",
       "      <td>model</td>\n",
       "      <td>LightGBM</td>\n",
       "      <td>XGBoost</td>\n",
       "      <td>False</td>\n",
       "      <td>False</td>\n",
       "      <td>59.5</td>\n",
       "      <td>two-sided</td>\n",
       "      <td>0.496</td>\n",
       "      <td>0.289</td>\n",
       "    </tr>\n",
       "    <tr>\n",
       "      <th>12</th>\n",
       "      <td>model</td>\n",
       "      <td>NaiveBayes</td>\n",
       "      <td>RandomForest</td>\n",
       "      <td>False</td>\n",
       "      <td>False</td>\n",
       "      <td>46.0</td>\n",
       "      <td>two-sided</td>\n",
       "      <td>0.791</td>\n",
       "      <td>-0.297</td>\n",
       "    </tr>\n",
       "    <tr>\n",
       "      <th>13</th>\n",
       "      <td>model</td>\n",
       "      <td>NaiveBayes</td>\n",
       "      <td>XGBoost</td>\n",
       "      <td>False</td>\n",
       "      <td>False</td>\n",
       "      <td>47.0</td>\n",
       "      <td>two-sided</td>\n",
       "      <td>0.850</td>\n",
       "      <td>-0.046</td>\n",
       "    </tr>\n",
       "    <tr>\n",
       "      <th>14</th>\n",
       "      <td>model</td>\n",
       "      <td>RandomForest</td>\n",
       "      <td>XGBoost</td>\n",
       "      <td>False</td>\n",
       "      <td>False</td>\n",
       "      <td>58.0</td>\n",
       "      <td>two-sided</td>\n",
       "      <td>0.571</td>\n",
       "      <td>0.198</td>\n",
       "    </tr>\n",
       "  </tbody>\n",
       "</table>\n",
       "</div>"
      ],
      "text/plain": [
       "   Contrast             A             B  Paired  Parametric  U-val  \\\n",
       "0     model  DecisionTree           KNN   False       False   23.0   \n",
       "1     model  DecisionTree      LightGBM   False       False    0.0   \n",
       "2     model  DecisionTree    NaiveBayes   False       False    0.0   \n",
       "3     model  DecisionTree  RandomForest   False       False    0.0   \n",
       "4     model  DecisionTree       XGBoost   False       False    2.0   \n",
       "5     model           KNN      LightGBM   False       False    7.0   \n",
       "6     model           KNN    NaiveBayes   False       False    8.0   \n",
       "7     model           KNN  RandomForest   False       False    5.0   \n",
       "8     model           KNN       XGBoost   False       False   14.0   \n",
       "9     model      LightGBM    NaiveBayes   False       False   62.0   \n",
       "10    model      LightGBM  RandomForest   False       False   52.0   \n",
       "11    model      LightGBM       XGBoost   False       False   59.5   \n",
       "12    model    NaiveBayes  RandomForest   False       False   46.0   \n",
       "13    model    NaiveBayes       XGBoost   False       False   47.0   \n",
       "14    model  RandomForest       XGBoost   False       False   58.0   \n",
       "\n",
       "   alternative  p-unc  hedges  \n",
       "0    two-sided  0.045  -1.117  \n",
       "1    two-sided  0.000  -2.916  \n",
       "2    two-sided  0.000  -2.922  \n",
       "3    two-sided  0.000  -2.708  \n",
       "4    two-sided  0.000  -2.359  \n",
       "5    two-sided  0.001  -1.979  \n",
       "6    two-sided  0.002  -1.866  \n",
       "7    two-sided  0.001  -1.793  \n",
       "8    two-sided  0.007  -1.470  \n",
       "9    two-sided  0.385   0.422  \n",
       "10   two-sided  0.910   0.089  \n",
       "11   two-sided  0.496   0.289  \n",
       "12   two-sided  0.791  -0.297  \n",
       "13   two-sided  0.850  -0.046  \n",
       "14   two-sided  0.571   0.198  "
      ]
     },
     "execution_count": 34,
     "metadata": {},
     "output_type": "execute_result"
    }
   ],
   "source": [
    "pg.pairwise_ttests(model_results_pg, parametric=False, dv='result', \n",
    "                   between='model').round(3)"
   ]
  },
  {
   "cell_type": "markdown",
   "metadata": {
    "id": "W_IHv2WSvemT"
   },
   "source": [
    "## Class balancing"
   ]
  },
  {
   "cell_type": "markdown",
   "metadata": {},
   "source": [
    "After the obtaining intitial results of individual models, the following optimization activities were introduced.\n",
    "\n",
    "The first step in optimizing the model, one of the methods of class balancing was designated, which may, to some extent, contribute to better training of the model and, consequently, to the overall improvement of the quality of prediction. Basic class balancing techniques include:\n",
    "\n",
    "**Undersampling** where the observations for the major class are reduced. Reducing the number of observations has a positive effect on the performance of the model, reducting a portion of information that could potentially be obtained from rejected samples\n",
    "\n",
    "**Oversampling**, where the number of observations for the minority class is increased using synthetically created samples, including the popular SMOTE algorithm that allows to generate new observations using the K-Nearest Neighbors algorithm."
   ]
  },
  {
   "cell_type": "markdown",
   "metadata": {},
   "source": [
    "For the purposes of the project, the Neighborhood Cleaning Rule (NCR) method was selected, which combines the Condensed Nearest Neighbor (CNN) technique and Edited Nearest Neighbors (ENN), which remove redundant and misclassified observations from the majority class at the same time. The implementation of the NCR algorithm from the **imbalanced-learn** library was applied. A `sampler` object created in this way was added to `pipe`."
   ]
  },
  {
   "cell_type": "code",
   "execution_count": 35,
   "metadata": {
    "id": "v5PJ4WOnvqMd"
   },
   "outputs": [
    {
     "data": {
      "text/html": [
       "<style>#sk-6c2e03cf-a350-4e7c-9c32-47f6400ba42c {color: black;background-color: white;}#sk-6c2e03cf-a350-4e7c-9c32-47f6400ba42c pre{padding: 0;}#sk-6c2e03cf-a350-4e7c-9c32-47f6400ba42c div.sk-toggleable {background-color: white;}#sk-6c2e03cf-a350-4e7c-9c32-47f6400ba42c label.sk-toggleable__label {cursor: pointer;display: block;width: 100%;margin-bottom: 0;padding: 0.3em;box-sizing: border-box;text-align: center;}#sk-6c2e03cf-a350-4e7c-9c32-47f6400ba42c label.sk-toggleable__label-arrow:before {content: \"▸\";float: left;margin-right: 0.25em;color: #696969;}#sk-6c2e03cf-a350-4e7c-9c32-47f6400ba42c label.sk-toggleable__label-arrow:hover:before {color: black;}#sk-6c2e03cf-a350-4e7c-9c32-47f6400ba42c div.sk-estimator:hover label.sk-toggleable__label-arrow:before {color: black;}#sk-6c2e03cf-a350-4e7c-9c32-47f6400ba42c div.sk-toggleable__content {max-height: 0;max-width: 0;overflow: hidden;text-align: left;background-color: #f0f8ff;}#sk-6c2e03cf-a350-4e7c-9c32-47f6400ba42c div.sk-toggleable__content pre {margin: 0.2em;color: black;border-radius: 0.25em;background-color: #f0f8ff;}#sk-6c2e03cf-a350-4e7c-9c32-47f6400ba42c input.sk-toggleable__control:checked~div.sk-toggleable__content {max-height: 200px;max-width: 100%;overflow: auto;}#sk-6c2e03cf-a350-4e7c-9c32-47f6400ba42c input.sk-toggleable__control:checked~label.sk-toggleable__label-arrow:before {content: \"▾\";}#sk-6c2e03cf-a350-4e7c-9c32-47f6400ba42c div.sk-estimator input.sk-toggleable__control:checked~label.sk-toggleable__label {background-color: #d4ebff;}#sk-6c2e03cf-a350-4e7c-9c32-47f6400ba42c div.sk-label input.sk-toggleable__control:checked~label.sk-toggleable__label {background-color: #d4ebff;}#sk-6c2e03cf-a350-4e7c-9c32-47f6400ba42c input.sk-hidden--visually {border: 0;clip: rect(1px 1px 1px 1px);clip: rect(1px, 1px, 1px, 1px);height: 1px;margin: -1px;overflow: hidden;padding: 0;position: absolute;width: 1px;}#sk-6c2e03cf-a350-4e7c-9c32-47f6400ba42c div.sk-estimator {font-family: monospace;background-color: #f0f8ff;border: 1px dotted black;border-radius: 0.25em;box-sizing: border-box;margin-bottom: 0.5em;}#sk-6c2e03cf-a350-4e7c-9c32-47f6400ba42c div.sk-estimator:hover {background-color: #d4ebff;}#sk-6c2e03cf-a350-4e7c-9c32-47f6400ba42c div.sk-parallel-item::after {content: \"\";width: 100%;border-bottom: 1px solid gray;flex-grow: 1;}#sk-6c2e03cf-a350-4e7c-9c32-47f6400ba42c div.sk-label:hover label.sk-toggleable__label {background-color: #d4ebff;}#sk-6c2e03cf-a350-4e7c-9c32-47f6400ba42c div.sk-serial::before {content: \"\";position: absolute;border-left: 1px solid gray;box-sizing: border-box;top: 2em;bottom: 0;left: 50%;}#sk-6c2e03cf-a350-4e7c-9c32-47f6400ba42c div.sk-serial {display: flex;flex-direction: column;align-items: center;background-color: white;padding-right: 0.2em;padding-left: 0.2em;}#sk-6c2e03cf-a350-4e7c-9c32-47f6400ba42c div.sk-item {z-index: 1;}#sk-6c2e03cf-a350-4e7c-9c32-47f6400ba42c div.sk-parallel {display: flex;align-items: stretch;justify-content: center;background-color: white;}#sk-6c2e03cf-a350-4e7c-9c32-47f6400ba42c div.sk-parallel::before {content: \"\";position: absolute;border-left: 1px solid gray;box-sizing: border-box;top: 2em;bottom: 0;left: 50%;}#sk-6c2e03cf-a350-4e7c-9c32-47f6400ba42c div.sk-parallel-item {display: flex;flex-direction: column;position: relative;background-color: white;}#sk-6c2e03cf-a350-4e7c-9c32-47f6400ba42c div.sk-parallel-item:first-child::after {align-self: flex-end;width: 50%;}#sk-6c2e03cf-a350-4e7c-9c32-47f6400ba42c div.sk-parallel-item:last-child::after {align-self: flex-start;width: 50%;}#sk-6c2e03cf-a350-4e7c-9c32-47f6400ba42c div.sk-parallel-item:only-child::after {width: 0;}#sk-6c2e03cf-a350-4e7c-9c32-47f6400ba42c div.sk-dashed-wrapped {border: 1px dashed gray;margin: 0 0.4em 0.5em 0.4em;box-sizing: border-box;padding-bottom: 0.4em;background-color: white;position: relative;}#sk-6c2e03cf-a350-4e7c-9c32-47f6400ba42c div.sk-label label {font-family: monospace;font-weight: bold;background-color: white;display: inline-block;line-height: 1.2em;}#sk-6c2e03cf-a350-4e7c-9c32-47f6400ba42c div.sk-label-container {position: relative;z-index: 2;text-align: center;}#sk-6c2e03cf-a350-4e7c-9c32-47f6400ba42c div.sk-container {/* jupyter's `normalize.less` sets `[hidden] { display: none; }` but bootstrap.min.css set `[hidden] { display: none !important; }` so we also need the `!important` here to be able to override the default hidden behavior on the sphinx rendered scikit-learn.org. See: https://github.com/scikit-learn/scikit-learn/issues/21755 */display: inline-block !important;position: relative;}#sk-6c2e03cf-a350-4e7c-9c32-47f6400ba42c div.sk-text-repr-fallback {display: none;}</style><div id=\"sk-6c2e03cf-a350-4e7c-9c32-47f6400ba42c\" class=\"sk-top-container\"><div class=\"sk-text-repr-fallback\"><pre>Pipeline(steps=[(&#x27;preprocessor&#x27;,\n",
       "                 ColumnTransformer(transformers=[(&#x27;numerical&#x27;, StandardScaler(),\n",
       "                                                  [&#x27;limit_bal&#x27;, &#x27;age&#x27;, &#x27;pay_0&#x27;,\n",
       "                                                   &#x27;pay_2&#x27;, &#x27;pay_3&#x27;, &#x27;pay_4&#x27;,\n",
       "                                                   &#x27;pay_5&#x27;, &#x27;pay_6&#x27;,\n",
       "                                                   &#x27;bill_amt1&#x27;, &#x27;bill_amt2&#x27;,\n",
       "                                                   &#x27;bill_amt3&#x27;, &#x27;bill_amt4&#x27;,\n",
       "                                                   &#x27;bill_amt5&#x27;, &#x27;bill_amt6&#x27;,\n",
       "                                                   &#x27;pay_amt1&#x27;, &#x27;pay_amt2&#x27;,\n",
       "                                                   &#x27;pay_amt3&#x27;, &#x27;pay_amt4&#x27;,\n",
       "                                                   &#x27;pay_amt5&#x27;, &#x27;pay_amt6&#x27;]),\n",
       "                                                 (&#x27;categorical&#x27;,\n",
       "                                                  OneHotEncoder(sparse=False),\n",
       "                                                  [&#x27;sex&#x27;, &#x27;marriage&#x27;]),\n",
       "                                                 (&#x27;ord_categorical&#x27;,\n",
       "                                                  OrdinalEncoder(categories=[[&#x27;others&#x27;,\n",
       "                                                                              &#x27;high &#x27;\n",
       "                                                                              &#x27;school&#x27;,\n",
       "                                                                              &#x27;university&#x27;,\n",
       "                                                                              &#x27;graduate &#x27;\n",
       "                                                                              &#x27;school&#x27;]]),\n",
       "                                                  [&#x27;education&#x27;])])),\n",
       "                (&#x27;sampler&#x27;, NeighbourhoodCleaningRule())])</pre><b>Please rerun this cell to show the HTML repr or trust the notebook.</b></div><div class=\"sk-container\" hidden><div class=\"sk-item sk-dashed-wrapped\"><div class=\"sk-label-container\"><div class=\"sk-label sk-toggleable\"><input class=\"sk-toggleable__control sk-hidden--visually\" id=\"1e623012-bc70-4fb6-96b0-86babb3f2099\" type=\"checkbox\" ><label for=\"1e623012-bc70-4fb6-96b0-86babb3f2099\" class=\"sk-toggleable__label sk-toggleable__label-arrow\">Pipeline</label><div class=\"sk-toggleable__content\"><pre>Pipeline(steps=[(&#x27;preprocessor&#x27;,\n",
       "                 ColumnTransformer(transformers=[(&#x27;numerical&#x27;, StandardScaler(),\n",
       "                                                  [&#x27;limit_bal&#x27;, &#x27;age&#x27;, &#x27;pay_0&#x27;,\n",
       "                                                   &#x27;pay_2&#x27;, &#x27;pay_3&#x27;, &#x27;pay_4&#x27;,\n",
       "                                                   &#x27;pay_5&#x27;, &#x27;pay_6&#x27;,\n",
       "                                                   &#x27;bill_amt1&#x27;, &#x27;bill_amt2&#x27;,\n",
       "                                                   &#x27;bill_amt3&#x27;, &#x27;bill_amt4&#x27;,\n",
       "                                                   &#x27;bill_amt5&#x27;, &#x27;bill_amt6&#x27;,\n",
       "                                                   &#x27;pay_amt1&#x27;, &#x27;pay_amt2&#x27;,\n",
       "                                                   &#x27;pay_amt3&#x27;, &#x27;pay_amt4&#x27;,\n",
       "                                                   &#x27;pay_amt5&#x27;, &#x27;pay_amt6&#x27;]),\n",
       "                                                 (&#x27;categorical&#x27;,\n",
       "                                                  OneHotEncoder(sparse=False),\n",
       "                                                  [&#x27;sex&#x27;, &#x27;marriage&#x27;]),\n",
       "                                                 (&#x27;ord_categorical&#x27;,\n",
       "                                                  OrdinalEncoder(categories=[[&#x27;others&#x27;,\n",
       "                                                                              &#x27;high &#x27;\n",
       "                                                                              &#x27;school&#x27;,\n",
       "                                                                              &#x27;university&#x27;,\n",
       "                                                                              &#x27;graduate &#x27;\n",
       "                                                                              &#x27;school&#x27;]]),\n",
       "                                                  [&#x27;education&#x27;])])),\n",
       "                (&#x27;sampler&#x27;, NeighbourhoodCleaningRule())])</pre></div></div></div><div class=\"sk-serial\"><div class=\"sk-item sk-dashed-wrapped\"><div class=\"sk-label-container\"><div class=\"sk-label sk-toggleable\"><input class=\"sk-toggleable__control sk-hidden--visually\" id=\"00f40b5e-2985-4a14-bb4d-2f779f4f94be\" type=\"checkbox\" ><label for=\"00f40b5e-2985-4a14-bb4d-2f779f4f94be\" class=\"sk-toggleable__label sk-toggleable__label-arrow\">preprocessor: ColumnTransformer</label><div class=\"sk-toggleable__content\"><pre>ColumnTransformer(transformers=[(&#x27;numerical&#x27;, StandardScaler(),\n",
       "                                 [&#x27;limit_bal&#x27;, &#x27;age&#x27;, &#x27;pay_0&#x27;, &#x27;pay_2&#x27;, &#x27;pay_3&#x27;,\n",
       "                                  &#x27;pay_4&#x27;, &#x27;pay_5&#x27;, &#x27;pay_6&#x27;, &#x27;bill_amt1&#x27;,\n",
       "                                  &#x27;bill_amt2&#x27;, &#x27;bill_amt3&#x27;, &#x27;bill_amt4&#x27;,\n",
       "                                  &#x27;bill_amt5&#x27;, &#x27;bill_amt6&#x27;, &#x27;pay_amt1&#x27;,\n",
       "                                  &#x27;pay_amt2&#x27;, &#x27;pay_amt3&#x27;, &#x27;pay_amt4&#x27;,\n",
       "                                  &#x27;pay_amt5&#x27;, &#x27;pay_amt6&#x27;]),\n",
       "                                (&#x27;categorical&#x27;, OneHotEncoder(sparse=False),\n",
       "                                 [&#x27;sex&#x27;, &#x27;marriage&#x27;]),\n",
       "                                (&#x27;ord_categorical&#x27;,\n",
       "                                 OrdinalEncoder(categories=[[&#x27;others&#x27;,\n",
       "                                                             &#x27;high school&#x27;,\n",
       "                                                             &#x27;university&#x27;,\n",
       "                                                             &#x27;graduate &#x27;\n",
       "                                                             &#x27;school&#x27;]]),\n",
       "                                 [&#x27;education&#x27;])])</pre></div></div></div><div class=\"sk-parallel\"><div class=\"sk-parallel-item\"><div class=\"sk-item\"><div class=\"sk-label-container\"><div class=\"sk-label sk-toggleable\"><input class=\"sk-toggleable__control sk-hidden--visually\" id=\"235abfe5-debe-4b0c-9226-9abe2dadfb93\" type=\"checkbox\" ><label for=\"235abfe5-debe-4b0c-9226-9abe2dadfb93\" class=\"sk-toggleable__label sk-toggleable__label-arrow\">numerical</label><div class=\"sk-toggleable__content\"><pre>[&#x27;limit_bal&#x27;, &#x27;age&#x27;, &#x27;pay_0&#x27;, &#x27;pay_2&#x27;, &#x27;pay_3&#x27;, &#x27;pay_4&#x27;, &#x27;pay_5&#x27;, &#x27;pay_6&#x27;, &#x27;bill_amt1&#x27;, &#x27;bill_amt2&#x27;, &#x27;bill_amt3&#x27;, &#x27;bill_amt4&#x27;, &#x27;bill_amt5&#x27;, &#x27;bill_amt6&#x27;, &#x27;pay_amt1&#x27;, &#x27;pay_amt2&#x27;, &#x27;pay_amt3&#x27;, &#x27;pay_amt4&#x27;, &#x27;pay_amt5&#x27;, &#x27;pay_amt6&#x27;]</pre></div></div></div><div class=\"sk-serial\"><div class=\"sk-item\"><div class=\"sk-estimator sk-toggleable\"><input class=\"sk-toggleable__control sk-hidden--visually\" id=\"15a7d2ca-7648-444b-b9d4-9124f1667c45\" type=\"checkbox\" ><label for=\"15a7d2ca-7648-444b-b9d4-9124f1667c45\" class=\"sk-toggleable__label sk-toggleable__label-arrow\">StandardScaler</label><div class=\"sk-toggleable__content\"><pre>StandardScaler()</pre></div></div></div></div></div></div><div class=\"sk-parallel-item\"><div class=\"sk-item\"><div class=\"sk-label-container\"><div class=\"sk-label sk-toggleable\"><input class=\"sk-toggleable__control sk-hidden--visually\" id=\"7314839e-c72d-489c-82a9-6d5e739936f8\" type=\"checkbox\" ><label for=\"7314839e-c72d-489c-82a9-6d5e739936f8\" class=\"sk-toggleable__label sk-toggleable__label-arrow\">categorical</label><div class=\"sk-toggleable__content\"><pre>[&#x27;sex&#x27;, &#x27;marriage&#x27;]</pre></div></div></div><div class=\"sk-serial\"><div class=\"sk-item\"><div class=\"sk-estimator sk-toggleable\"><input class=\"sk-toggleable__control sk-hidden--visually\" id=\"85b7f1ec-efb0-4d51-9373-e7d30eb57d9a\" type=\"checkbox\" ><label for=\"85b7f1ec-efb0-4d51-9373-e7d30eb57d9a\" class=\"sk-toggleable__label sk-toggleable__label-arrow\">OneHotEncoder</label><div class=\"sk-toggleable__content\"><pre>OneHotEncoder(sparse=False)</pre></div></div></div></div></div></div><div class=\"sk-parallel-item\"><div class=\"sk-item\"><div class=\"sk-label-container\"><div class=\"sk-label sk-toggleable\"><input class=\"sk-toggleable__control sk-hidden--visually\" id=\"43bf4a08-8188-437b-b32b-25b12a02ba0d\" type=\"checkbox\" ><label for=\"43bf4a08-8188-437b-b32b-25b12a02ba0d\" class=\"sk-toggleable__label sk-toggleable__label-arrow\">ord_categorical</label><div class=\"sk-toggleable__content\"><pre>[&#x27;education&#x27;]</pre></div></div></div><div class=\"sk-serial\"><div class=\"sk-item\"><div class=\"sk-estimator sk-toggleable\"><input class=\"sk-toggleable__control sk-hidden--visually\" id=\"e5424204-746a-4a3e-99ac-9b25c7f3d84c\" type=\"checkbox\" ><label for=\"e5424204-746a-4a3e-99ac-9b25c7f3d84c\" class=\"sk-toggleable__label sk-toggleable__label-arrow\">OrdinalEncoder</label><div class=\"sk-toggleable__content\"><pre>OrdinalEncoder(categories=[[&#x27;others&#x27;, &#x27;high school&#x27;, &#x27;university&#x27;,\n",
       "                            &#x27;graduate school&#x27;]])</pre></div></div></div></div></div></div></div></div><div class=\"sk-item\"><div class=\"sk-estimator sk-toggleable\"><input class=\"sk-toggleable__control sk-hidden--visually\" id=\"22bda725-3e06-471b-8a9b-53b9f4ec394a\" type=\"checkbox\" ><label for=\"22bda725-3e06-471b-8a9b-53b9f4ec394a\" class=\"sk-toggleable__label sk-toggleable__label-arrow\">NeighbourhoodCleaningRule</label><div class=\"sk-toggleable__content\"><pre>NeighbourhoodCleaningRule()</pre></div></div></div></div></div></div></div>"
      ],
      "text/plain": [
       "Pipeline(steps=[('preprocessor',\n",
       "                 ColumnTransformer(transformers=[('numerical', StandardScaler(),\n",
       "                                                  ['limit_bal', 'age', 'pay_0',\n",
       "                                                   'pay_2', 'pay_3', 'pay_4',\n",
       "                                                   'pay_5', 'pay_6',\n",
       "                                                   'bill_amt1', 'bill_amt2',\n",
       "                                                   'bill_amt3', 'bill_amt4',\n",
       "                                                   'bill_amt5', 'bill_amt6',\n",
       "                                                   'pay_amt1', 'pay_amt2',\n",
       "                                                   'pay_amt3', 'pay_amt4',\n",
       "                                                   'pay_amt5', 'pay_amt6']),\n",
       "                                                 ('categorical',\n",
       "                                                  OneHotEncoder(sparse=False),\n",
       "                                                  ['sex', 'marriage']),\n",
       "                                                 ('ord_categorical',\n",
       "                                                  OrdinalEncoder(categories=[['others',\n",
       "                                                                              'high '\n",
       "                                                                              'school',\n",
       "                                                                              'university',\n",
       "                                                                              'graduate '\n",
       "                                                                              'school']]),\n",
       "                                                  ['education'])])),\n",
       "                ('sampler', NeighbourhoodCleaningRule())])"
      ]
     },
     "execution_count": 35,
     "metadata": {},
     "output_type": "execute_result"
    }
   ],
   "source": [
    "sampler = imb.under_sampling.NeighbourhoodCleaningRule() #1\n",
    "\n",
    "pipe = imb.pipeline.Pipeline(steps=[\n",
    "    ('preprocessor',preprocessor),\n",
    "    ('sampler', sampler)])\n",
    "pipe"
   ]
  },
  {
   "cell_type": "markdown",
   "metadata": {},
   "source": [
    "It is important to note that application of the above-mentioned resampling technique in the Pipeline, despite the noticeable reduction in the efficiency of the tools for cross-validation of selected models (compared to the use of training data with the already pre-applied undersampling technique), will, however, avoid potential data leakage, which could lead to get overly optimistic, better prediction results for the training set, but not necesserly means the same prediction effectiveness on the test set.\n",
    "\n",
    "The `pipe` object prepared in this way is used to re-evaluate the models:"
   ]
  },
  {
   "cell_type": "code",
   "execution_count": 36,
   "metadata": {
    "colab": {
     "base_uri": "https://localhost:8080/",
     "height": 106,
     "referenced_widgets": [
      "9aa50427fdf745c89629270f5ad63940",
      "5826c072efb44f2fa09e175abb348c60",
      "8e74c7e3d3434d79b3f561ca85c0e31a",
      "f6a17b5ec91c4a498aeb69f2045ce811",
      "7edae41266364e80ae76644ad1e178a9",
      "6cf0c152145149e2a45f06cbe60fdc5c",
      "9c34684b918c4812b48c9d15b08c2221",
      "d8da521f0c634e839668df56fe5c3ec5",
      "aa776971f558444dae548948d736ac6c",
      "468114d78f954fd7885500da7a2a24e0",
      "0194a925b33b49af81d1fb744980fdbc"
     ]
    },
    "id": "7GO9R0W5xpRL",
    "outputId": "c04d8743-e7f0-481e-d585-ebafc0b4d98b"
   },
   "outputs": [
    {
     "data": {
      "application/vnd.jupyter.widget-view+json": {
       "model_id": "15da49e8ae784a088e49d8bb3f2a425f",
       "version_major": 2,
       "version_minor": 0
      },
      "text/plain": [
       "  0%|          | 0/6 [00:00<?, ?it/s]"
      ]
     },
     "metadata": {},
     "output_type": "display_data"
    }
   ],
   "source": [
    "model_results_resamp = {}\n",
    "for name, model in tqdm(models.items()):\n",
    "    pipe_copy = clone(pipe)\n",
    "    pipe_copy.steps.append(['classifier', model])\n",
    "    cv_results_resamp = cross_val_score(pipe_copy, X_train, y_train, \n",
    "                                        cv=skfold, n_jobs=5, \n",
    "                                        scoring=f1_scoring)\n",
    "    model_results_resamp[name] = cv_results_resamp\n",
    "\n",
    "model_results_resamp_df = pd.DataFrame(model_results_resamp)"
   ]
  },
  {
   "cell_type": "code",
   "execution_count": 37,
   "metadata": {},
   "outputs": [
    {
     "data": {
      "text/html": [
       "<div>\n",
       "<style scoped>\n",
       "    .dataframe tbody tr th:only-of-type {\n",
       "        vertical-align: middle;\n",
       "    }\n",
       "\n",
       "    .dataframe tbody tr th {\n",
       "        vertical-align: top;\n",
       "    }\n",
       "\n",
       "    .dataframe thead th {\n",
       "        text-align: right;\n",
       "    }\n",
       "</style>\n",
       "<table border=\"1\" class=\"dataframe\">\n",
       "  <thead>\n",
       "    <tr style=\"text-align: right;\">\n",
       "      <th></th>\n",
       "      <th>DecisionTree</th>\n",
       "      <th>KNN</th>\n",
       "      <th>LightGBM</th>\n",
       "      <th>NaiveBayes</th>\n",
       "      <th>RandomForest</th>\n",
       "      <th>XGBoost</th>\n",
       "    </tr>\n",
       "  </thead>\n",
       "  <tbody>\n",
       "    <tr>\n",
       "      <th>count</th>\n",
       "      <td>10.000000</td>\n",
       "      <td>10.000000</td>\n",
       "      <td>10.000000</td>\n",
       "      <td>10.000000</td>\n",
       "      <td>10.000000</td>\n",
       "      <td>10.000000</td>\n",
       "    </tr>\n",
       "    <tr>\n",
       "      <th>mean</th>\n",
       "      <td>0.462867</td>\n",
       "      <td>0.493651</td>\n",
       "      <td>0.543861</td>\n",
       "      <td>0.424549</td>\n",
       "      <td>0.541694</td>\n",
       "      <td>0.534441</td>\n",
       "    </tr>\n",
       "    <tr>\n",
       "      <th>std</th>\n",
       "      <td>0.010974</td>\n",
       "      <td>0.021862</td>\n",
       "      <td>0.022606</td>\n",
       "      <td>0.009990</td>\n",
       "      <td>0.020159</td>\n",
       "      <td>0.018178</td>\n",
       "    </tr>\n",
       "    <tr>\n",
       "      <th>min</th>\n",
       "      <td>0.447648</td>\n",
       "      <td>0.448220</td>\n",
       "      <td>0.504744</td>\n",
       "      <td>0.409614</td>\n",
       "      <td>0.512535</td>\n",
       "      <td>0.510166</td>\n",
       "    </tr>\n",
       "    <tr>\n",
       "      <th>25%</th>\n",
       "      <td>0.456569</td>\n",
       "      <td>0.484766</td>\n",
       "      <td>0.530067</td>\n",
       "      <td>0.419831</td>\n",
       "      <td>0.532591</td>\n",
       "      <td>0.522975</td>\n",
       "    </tr>\n",
       "    <tr>\n",
       "      <th>50%</th>\n",
       "      <td>0.457578</td>\n",
       "      <td>0.493414</td>\n",
       "      <td>0.548391</td>\n",
       "      <td>0.422627</td>\n",
       "      <td>0.542080</td>\n",
       "      <td>0.534094</td>\n",
       "    </tr>\n",
       "    <tr>\n",
       "      <th>75%</th>\n",
       "      <td>0.468995</td>\n",
       "      <td>0.510746</td>\n",
       "      <td>0.555922</td>\n",
       "      <td>0.430572</td>\n",
       "      <td>0.546097</td>\n",
       "      <td>0.545694</td>\n",
       "    </tr>\n",
       "    <tr>\n",
       "      <th>max</th>\n",
       "      <td>0.480811</td>\n",
       "      <td>0.519142</td>\n",
       "      <td>0.583630</td>\n",
       "      <td>0.444669</td>\n",
       "      <td>0.582960</td>\n",
       "      <td>0.569676</td>\n",
       "    </tr>\n",
       "  </tbody>\n",
       "</table>\n",
       "</div>"
      ],
      "text/plain": [
       "       DecisionTree        KNN   LightGBM  NaiveBayes  RandomForest    XGBoost\n",
       "count     10.000000  10.000000  10.000000   10.000000     10.000000  10.000000\n",
       "mean       0.462867   0.493651   0.543861    0.424549      0.541694   0.534441\n",
       "std        0.010974   0.021862   0.022606    0.009990      0.020159   0.018178\n",
       "min        0.447648   0.448220   0.504744    0.409614      0.512535   0.510166\n",
       "25%        0.456569   0.484766   0.530067    0.419831      0.532591   0.522975\n",
       "50%        0.457578   0.493414   0.548391    0.422627      0.542080   0.534094\n",
       "75%        0.468995   0.510746   0.555922    0.430572      0.546097   0.545694\n",
       "max        0.480811   0.519142   0.583630    0.444669      0.582960   0.569676"
      ]
     },
     "execution_count": 37,
     "metadata": {},
     "output_type": "execute_result"
    }
   ],
   "source": [
    "model_results_resamp_df.describe()"
   ]
  },
  {
   "cell_type": "markdown",
   "metadata": {},
   "source": [
    "To present the effect of applying the class balancing approach, the box plot from the **Seaborn** library was used again. As we can see, the Neighborhood Cleaning Rule technique had a positive impact on the effectiveness of most models. The exception is the Naive Bayesian classifier, where the reduced number of observations for the majority class probably lowered the performance of this model."
   ]
  },
  {
   "cell_type": "code",
   "execution_count": 38,
   "metadata": {
    "colab": {
     "base_uri": "https://localhost:8080/",
     "height": 300
    },
    "id": "I4oEjJWpS2rF",
    "outputId": "9dd45d54-ff2f-4a52-d198-748180622ea7"
   },
   "outputs": [
    {
     "data": {
      "image/png": "[encoded data removed]",
      "text/plain": [
       "<Figure size 432x288 with 1 Axes>"
      ]
     },
     "metadata": {},
     "output_type": "display_data"
    }
   ],
   "source": [
    "ax = sns.boxplot(data=model_results_resamp_df, palette=\"Blues_r\")\n",
    "ax.set_xticklabels(ax.get_xticklabels(),rotation=30)\n",
    "plt.show()"
   ]
  },
  {
   "cell_type": "markdown",
   "metadata": {},
   "source": [
    "Again, the following tests were used: Kruskal-Wallis H and the two-tailed t-test from the **pingouin** library to test the significance of differences between models' performance:"
   ]
  },
  {
   "cell_type": "code",
   "execution_count": 39,
   "metadata": {
    "colab": {
     "base_uri": "https://localhost:8080/",
     "height": 81
    },
    "id": "6DJ8-S7QyYfC",
    "outputId": "17bfe6f3-d0af-4c7b-c0fe-91328de89bc8"
   },
   "outputs": [
    {
     "data": {
      "text/html": [
       "<div>\n",
       "<style scoped>\n",
       "    .dataframe tbody tr th:only-of-type {\n",
       "        vertical-align: middle;\n",
       "    }\n",
       "\n",
       "    .dataframe tbody tr th {\n",
       "        vertical-align: top;\n",
       "    }\n",
       "\n",
       "    .dataframe thead th {\n",
       "        text-align: right;\n",
       "    }\n",
       "</style>\n",
       "<table border=\"1\" class=\"dataframe\">\n",
       "  <thead>\n",
       "    <tr style=\"text-align: right;\">\n",
       "      <th></th>\n",
       "      <th>Source</th>\n",
       "      <th>ddof1</th>\n",
       "      <th>H</th>\n",
       "      <th>p-unc</th>\n",
       "    </tr>\n",
       "  </thead>\n",
       "  <tbody>\n",
       "    <tr>\n",
       "      <th>Kruskal</th>\n",
       "      <td>model</td>\n",
       "      <td>5</td>\n",
       "      <td>48.976</td>\n",
       "      <td>0.0</td>\n",
       "    </tr>\n",
       "  </tbody>\n",
       "</table>\n",
       "</div>"
      ],
      "text/plain": [
       "        Source  ddof1       H  p-unc\n",
       "Kruskal  model      5  48.976    0.0"
      ]
     },
     "execution_count": 39,
     "metadata": {},
     "output_type": "execute_result"
    }
   ],
   "source": [
    "model_results_resamp_pg = model_results_resamp_df.melt(var_name='model', \n",
    "                                                               value_name='result')\n",
    "pg.kruskal(model_results_resamp_pg, dv='result', between='model').round(3)"
   ]
  },
  {
   "cell_type": "code",
   "execution_count": 40,
   "metadata": {
    "colab": {
     "base_uri": "https://localhost:8080/",
     "height": 520
    },
    "id": "0pDzvnsByZEC",
    "outputId": "29333656-3433-4cf7-bce0-1de3b8192b8d"
   },
   "outputs": [
    {
     "data": {
      "text/html": [
       "<div>\n",
       "<style scoped>\n",
       "    .dataframe tbody tr th:only-of-type {\n",
       "        vertical-align: middle;\n",
       "    }\n",
       "\n",
       "    .dataframe tbody tr th {\n",
       "        vertical-align: top;\n",
       "    }\n",
       "\n",
       "    .dataframe thead th {\n",
       "        text-align: right;\n",
       "    }\n",
       "</style>\n",
       "<table border=\"1\" class=\"dataframe\">\n",
       "  <thead>\n",
       "    <tr style=\"text-align: right;\">\n",
       "      <th></th>\n",
       "      <th>Contrast</th>\n",
       "      <th>A</th>\n",
       "      <th>B</th>\n",
       "      <th>Paired</th>\n",
       "      <th>Parametric</th>\n",
       "      <th>U-val</th>\n",
       "      <th>alternative</th>\n",
       "      <th>p-unc</th>\n",
       "      <th>hedges</th>\n",
       "    </tr>\n",
       "  </thead>\n",
       "  <tbody>\n",
       "    <tr>\n",
       "      <th>0</th>\n",
       "      <td>model</td>\n",
       "      <td>DecisionTree</td>\n",
       "      <td>KNN</td>\n",
       "      <td>False</td>\n",
       "      <td>False</td>\n",
       "      <td>11.0</td>\n",
       "      <td>two-sided</td>\n",
       "      <td>0.004</td>\n",
       "      <td>-1.704</td>\n",
       "    </tr>\n",
       "    <tr>\n",
       "      <th>1</th>\n",
       "      <td>model</td>\n",
       "      <td>DecisionTree</td>\n",
       "      <td>LightGBM</td>\n",
       "      <td>False</td>\n",
       "      <td>False</td>\n",
       "      <td>0.0</td>\n",
       "      <td>two-sided</td>\n",
       "      <td>0.000</td>\n",
       "      <td>-4.366</td>\n",
       "    </tr>\n",
       "    <tr>\n",
       "      <th>2</th>\n",
       "      <td>model</td>\n",
       "      <td>DecisionTree</td>\n",
       "      <td>NaiveBayes</td>\n",
       "      <td>False</td>\n",
       "      <td>False</td>\n",
       "      <td>100.0</td>\n",
       "      <td>two-sided</td>\n",
       "      <td>0.000</td>\n",
       "      <td>3.497</td>\n",
       "    </tr>\n",
       "    <tr>\n",
       "      <th>3</th>\n",
       "      <td>model</td>\n",
       "      <td>DecisionTree</td>\n",
       "      <td>RandomForest</td>\n",
       "      <td>False</td>\n",
       "      <td>False</td>\n",
       "      <td>0.0</td>\n",
       "      <td>two-sided</td>\n",
       "      <td>0.000</td>\n",
       "      <td>-4.652</td>\n",
       "    </tr>\n",
       "    <tr>\n",
       "      <th>4</th>\n",
       "      <td>model</td>\n",
       "      <td>DecisionTree</td>\n",
       "      <td>XGBoost</td>\n",
       "      <td>False</td>\n",
       "      <td>False</td>\n",
       "      <td>0.0</td>\n",
       "      <td>two-sided</td>\n",
       "      <td>0.000</td>\n",
       "      <td>-4.566</td>\n",
       "    </tr>\n",
       "    <tr>\n",
       "      <th>5</th>\n",
       "      <td>model</td>\n",
       "      <td>KNN</td>\n",
       "      <td>LightGBM</td>\n",
       "      <td>False</td>\n",
       "      <td>False</td>\n",
       "      <td>4.0</td>\n",
       "      <td>two-sided</td>\n",
       "      <td>0.001</td>\n",
       "      <td>-2.163</td>\n",
       "    </tr>\n",
       "    <tr>\n",
       "      <th>6</th>\n",
       "      <td>model</td>\n",
       "      <td>KNN</td>\n",
       "      <td>NaiveBayes</td>\n",
       "      <td>False</td>\n",
       "      <td>False</td>\n",
       "      <td>100.0</td>\n",
       "      <td>two-sided</td>\n",
       "      <td>0.000</td>\n",
       "      <td>3.894</td>\n",
       "    </tr>\n",
       "    <tr>\n",
       "      <th>7</th>\n",
       "      <td>model</td>\n",
       "      <td>KNN</td>\n",
       "      <td>RandomForest</td>\n",
       "      <td>False</td>\n",
       "      <td>False</td>\n",
       "      <td>3.0</td>\n",
       "      <td>two-sided</td>\n",
       "      <td>0.000</td>\n",
       "      <td>-2.188</td>\n",
       "    </tr>\n",
       "    <tr>\n",
       "      <th>8</th>\n",
       "      <td>model</td>\n",
       "      <td>KNN</td>\n",
       "      <td>XGBoost</td>\n",
       "      <td>False</td>\n",
       "      <td>False</td>\n",
       "      <td>5.0</td>\n",
       "      <td>two-sided</td>\n",
       "      <td>0.001</td>\n",
       "      <td>-1.943</td>\n",
       "    </tr>\n",
       "    <tr>\n",
       "      <th>9</th>\n",
       "      <td>model</td>\n",
       "      <td>LightGBM</td>\n",
       "      <td>NaiveBayes</td>\n",
       "      <td>False</td>\n",
       "      <td>False</td>\n",
       "      <td>100.0</td>\n",
       "      <td>two-sided</td>\n",
       "      <td>0.000</td>\n",
       "      <td>6.539</td>\n",
       "    </tr>\n",
       "    <tr>\n",
       "      <th>10</th>\n",
       "      <td>model</td>\n",
       "      <td>LightGBM</td>\n",
       "      <td>RandomForest</td>\n",
       "      <td>False</td>\n",
       "      <td>False</td>\n",
       "      <td>57.0</td>\n",
       "      <td>two-sided</td>\n",
       "      <td>0.623</td>\n",
       "      <td>0.097</td>\n",
       "    </tr>\n",
       "    <tr>\n",
       "      <th>11</th>\n",
       "      <td>model</td>\n",
       "      <td>LightGBM</td>\n",
       "      <td>XGBoost</td>\n",
       "      <td>False</td>\n",
       "      <td>False</td>\n",
       "      <td>64.0</td>\n",
       "      <td>two-sided</td>\n",
       "      <td>0.307</td>\n",
       "      <td>0.440</td>\n",
       "    </tr>\n",
       "    <tr>\n",
       "      <th>12</th>\n",
       "      <td>model</td>\n",
       "      <td>NaiveBayes</td>\n",
       "      <td>RandomForest</td>\n",
       "      <td>False</td>\n",
       "      <td>False</td>\n",
       "      <td>0.0</td>\n",
       "      <td>two-sided</td>\n",
       "      <td>0.000</td>\n",
       "      <td>-7.052</td>\n",
       "    </tr>\n",
       "    <tr>\n",
       "      <th>13</th>\n",
       "      <td>model</td>\n",
       "      <td>NaiveBayes</td>\n",
       "      <td>XGBoost</td>\n",
       "      <td>False</td>\n",
       "      <td>False</td>\n",
       "      <td>0.0</td>\n",
       "      <td>two-sided</td>\n",
       "      <td>0.000</td>\n",
       "      <td>-7.176</td>\n",
       "    </tr>\n",
       "    <tr>\n",
       "      <th>14</th>\n",
       "      <td>model</td>\n",
       "      <td>RandomForest</td>\n",
       "      <td>XGBoost</td>\n",
       "      <td>False</td>\n",
       "      <td>False</td>\n",
       "      <td>62.0</td>\n",
       "      <td>two-sided</td>\n",
       "      <td>0.385</td>\n",
       "      <td>0.362</td>\n",
       "    </tr>\n",
       "  </tbody>\n",
       "</table>\n",
       "</div>"
      ],
      "text/plain": [
       "   Contrast             A             B  Paired  Parametric  U-val  \\\n",
       "0     model  DecisionTree           KNN   False       False   11.0   \n",
       "1     model  DecisionTree      LightGBM   False       False    0.0   \n",
       "2     model  DecisionTree    NaiveBayes   False       False  100.0   \n",
       "3     model  DecisionTree  RandomForest   False       False    0.0   \n",
       "4     model  DecisionTree       XGBoost   False       False    0.0   \n",
       "5     model           KNN      LightGBM   False       False    4.0   \n",
       "6     model           KNN    NaiveBayes   False       False  100.0   \n",
       "7     model           KNN  RandomForest   False       False    3.0   \n",
       "8     model           KNN       XGBoost   False       False    5.0   \n",
       "9     model      LightGBM    NaiveBayes   False       False  100.0   \n",
       "10    model      LightGBM  RandomForest   False       False   57.0   \n",
       "11    model      LightGBM       XGBoost   False       False   64.0   \n",
       "12    model    NaiveBayes  RandomForest   False       False    0.0   \n",
       "13    model    NaiveBayes       XGBoost   False       False    0.0   \n",
       "14    model  RandomForest       XGBoost   False       False   62.0   \n",
       "\n",
       "   alternative  p-unc  hedges  \n",
       "0    two-sided  0.004  -1.704  \n",
       "1    two-sided  0.000  -4.366  \n",
       "2    two-sided  0.000   3.497  \n",
       "3    two-sided  0.000  -4.652  \n",
       "4    two-sided  0.000  -4.566  \n",
       "5    two-sided  0.001  -2.163  \n",
       "6    two-sided  0.000   3.894  \n",
       "7    two-sided  0.000  -2.188  \n",
       "8    two-sided  0.001  -1.943  \n",
       "9    two-sided  0.000   6.539  \n",
       "10   two-sided  0.623   0.097  \n",
       "11   two-sided  0.307   0.440  \n",
       "12   two-sided  0.000  -7.052  \n",
       "13   two-sided  0.000  -7.176  \n",
       "14   two-sided  0.385   0.362  "
      ]
     },
     "execution_count": 40,
     "metadata": {},
     "output_type": "execute_result"
    }
   ],
   "source": [
    "pg.pairwise_ttests(model_results_resamp_pg, \n",
    "                   parametric=False, dv='result', between='model').round(3)"
   ]
  },
  {
   "cell_type": "markdown",
   "metadata": {},
   "source": [
    "The p-value returned by both significance test functions indicates the probability that a score as extreme as that observed in the study may occur, taking into account the null hypothesis of the model. Therefore it was assumed that:\n",
    "\n",
    "* the LightGBM, RandomForest and XGBoost models seem to perform better than the others and the alternative hypothesis H<sub>1</sub> has been accepted for them\n",
    "* on the basis of our results, it cannot be concluded that any model in the group of LightGBM, RandomForest and XGBoost models is significantly better than the others"
   ]
  },
  {
   "cell_type": "markdown",
   "metadata": {
    "id": "Yvv9W8EXzMYf"
   },
   "source": [
    "## Hyperparameters optimization - Grid Search"
   ]
  },
  {
   "cell_type": "markdown",
   "metadata": {},
   "source": [
    "As a next step of models' performance improvement, is optimizing their hyperparameters. **Hyperparameters** are the configurable elements of the model that affect the model training process. The **Grid Search** technique will be used to initially improve the hyperparameters.\n",
    "\n",
    "This technique is based on defining hyperparameter space, where each dimension of this space represents a given hyperparameter and each point in the space is a single possible configuration. As part of the Grid Search optimization procedure, all points in the space are searched in order to find the configuration of elements that has the best impact on improving the predictive efficiency of the model"
   ]
  },
  {
   "cell_type": "markdown",
   "metadata": {},
   "source": [
    "From the group of previously selected models, three top classifiers were selected: LightGBM, RandomForest, XGBoost, and additionally - KNN model, in order to investigate how the optimization will affect a potentially less effective model."
   ]
  },
  {
   "cell_type": "code",
   "execution_count": 41,
   "metadata": {
    "id": "h5pbgqlyS2rH"
   },
   "outputs": [],
   "source": [
    "models = {\n",
    "     \"KNN\": KNeighborsClassifier(),\n",
    "     \"LightGBM\": lgb.LGBMClassifier(),     \n",
    "     \"RandomForest\": RandomForestClassifier(),\n",
    "     \"XGBoost\": xgb.XGBClassifier(use_label_encoder=False, )\n",
    "    }"
   ]
  },
  {
   "cell_type": "markdown",
   "metadata": {},
   "source": [
    "Due to the time efficiency of the algorithm, the initial optimization was limited to the selection of three hyperparaments per model. The default values for each model were used as a benchmark in determining the scope of the hyperparameter space, according to the documentation of the **scikit-learn, LightGBM** and **XGBoost** libraries.\n",
    "\n",
    "A dictionary was created with a pair: model name-set of parameters:"
   ]
  },
  {
   "cell_type": "code",
   "execution_count": 42,
   "metadata": {
    "id": "bfM2XISNzu_2"
   },
   "outputs": [],
   "source": [
    "param_grids = {\n",
    "  \n",
    "    'KNN': {'classifier__n_neighbors': range(2, 8, 1),\n",
    "              'classifier__algorithm': ['ball_tree','kd_tree', 'brute'],\n",
    "              'classifier__metric': ('minkowski', 'chebyshev', 'euclidean', 'manhattan'),\n",
    "           }, \n",
    "    \n",
    "    'LightGBM': {\n",
    "                   'classifier__max_depth': np.arange(2, 12, 1, dtype=int),\n",
    "                   'classifier__colsample_bytree': np.linspace(0.3, 1, 5),\n",
    "                   'classifier__num_leaves': [15, 31, 63, 127]\n",
    "                  },\n",
    "    \n",
    "    'XGBoost': {  'classifier__colsample_bytree': np.linspace(0.3, 1, 5),      \n",
    "                  'classifier__max_depth': np.arange(2, 12, 1, dtype=int),\n",
    "                  'classifier__min_child_weight': np.arange(1, 3, 1, dtype=int),\n",
    "           }, \n",
    "    \n",
    "    'RandomForest' : {\n",
    "                 'classifier__max_depth': np.arange(5, 15, 1, dtype=int), \n",
    "                 'classifier__min_samples_leaf': [1, 2, 5, 10, 15, 20],\n",
    "                 'classifier__min_samples_split': [2, 5, 10] \n",
    "            }\n",
    "          }"
   ]
  },
  {
   "cell_type": "markdown",
   "metadata": {},
   "source": [
    "The process of searching for the best parameters was carried out using an object created from the **GridSearchCV** class from the **scikit-learn** library and then the obtained results, along with the best combination of hypermarameters obtained, were transferred to the results dictionary"
   ]
  },
  {
   "cell_type": "code",
   "execution_count": 43,
   "metadata": {
    "colab": {
     "base_uri": "https://localhost:8080/",
     "height": 122,
     "referenced_widgets": [
      "8cb533d2f3a3412da908e50134cacb65",
      "f7386b215c3d43c4abc78b4c7da30379",
      "00fa4ca9fcc047548eb026e5a931d8a7",
      "60526d4f50ba4bc18fe234c061a8cbb4",
      "184d979f49b0414ab0ad0dbc981abb9d",
      "d92040a9717e49ccb246051dc454eec3",
      "f45d5c2c5e0a4acd944b910ebb4cef2e",
      "82bb9b3d84be4459bf7c5d03b82b3f01",
      "a3895f52e1cd46eaa1b2f64ee9f25bb4",
      "84b0b9a36e0e4938aa480016d94a1585",
      "b7ab05364a714ae0aa3e7727dcf15991"
     ]
    },
    "id": "CucUtOwM0Ogn",
    "outputId": "9ad4f86e-92d1-4543-ced0-202ba6c66b45"
   },
   "outputs": [
    {
     "data": {
      "application/vnd.jupyter.widget-view+json": {
       "model_id": "61dc2e9d27454970b5eec81c0ee586d3",
       "version_major": 2,
       "version_minor": 0
      },
      "text/plain": [
       "  0%|          | 0/4 [00:00<?, ?it/s]"
      ]
     },
     "metadata": {},
     "output_type": "display_data"
    },
    {
     "name": "stdout",
     "output_type": "stream",
     "text": [
      "Fitting 10 folds for each of 72 candidates, totalling 720 fits\n",
      "Fitting 10 folds for each of 200 candidates, totalling 2000 fits\n",
      "Fitting 10 folds for each of 180 candidates, totalling 1800 fits\n",
      "Fitting 10 folds for each of 100 candidates, totalling 1000 fits\n"
     ]
    }
   ],
   "source": [
    "search_data = {d: [] for d in ['model','best_score','best_params']}\n",
    "\n",
    "for name, model in tqdm(models.items()):\n",
    "    pipe_copy = clone(pipe)\n",
    "    pipe_copy.steps.append(['classifier', model])\n",
    "    search = GridSearchCV(pipe_copy, param_grids.get(name), \n",
    "                               scoring=f1_scoring, cv=skfold, \n",
    "                               n_jobs=-1, verbose=1) \n",
    "    search.fit(X_train, y_train)\n",
    "    \n",
    "    search_data['model'].append(name)\n",
    "    search_data['best_score'].append(search.best_score_)\n",
    "    search_data['best_params'].append(search.best_params_)\n",
    "\n",
    "search_data_df = pd.DataFrame(search_data)"
   ]
  },
  {
   "cell_type": "markdown",
   "metadata": {},
   "source": [
    "For the purposes of further processing of the results, the names of the keys in the dictionary have been modified:"
   ]
  },
  {
   "cell_type": "code",
   "execution_count": 44,
   "metadata": {
    "colab": {
     "base_uri": "https://localhost:8080/",
     "height": 206
    },
    "id": "IQbSihsgS2rM",
    "outputId": "4338ab54-1f17-49d4-d841-95b4c5bc2a03"
   },
   "outputs": [
    {
     "data": {
      "text/html": [
       "<div>\n",
       "<style scoped>\n",
       "    .dataframe tbody tr th:only-of-type {\n",
       "        vertical-align: middle;\n",
       "    }\n",
       "\n",
       "    .dataframe tbody tr th {\n",
       "        vertical-align: top;\n",
       "    }\n",
       "\n",
       "    .dataframe thead th {\n",
       "        text-align: right;\n",
       "    }\n",
       "</style>\n",
       "<table border=\"1\" class=\"dataframe\">\n",
       "  <thead>\n",
       "    <tr style=\"text-align: right;\">\n",
       "      <th></th>\n",
       "      <th>best_score</th>\n",
       "      <th>best_params</th>\n",
       "    </tr>\n",
       "    <tr>\n",
       "      <th>model</th>\n",
       "      <th></th>\n",
       "      <th></th>\n",
       "    </tr>\n",
       "  </thead>\n",
       "  <tbody>\n",
       "    <tr>\n",
       "      <th>KNN</th>\n",
       "      <td>0.508034</td>\n",
       "      <td>{'algorithm': 'brute', 'metric': 'chebyshev', ...</td>\n",
       "    </tr>\n",
       "    <tr>\n",
       "      <th>LightGBM</th>\n",
       "      <td>0.548642</td>\n",
       "      <td>{'colsample_bytree': 0.825, 'max_depth': 9, 'n...</td>\n",
       "    </tr>\n",
       "    <tr>\n",
       "      <th>RandomForest</th>\n",
       "      <td>0.546393</td>\n",
       "      <td>{'max_depth': 14, 'min_samples_leaf': 10, 'min...</td>\n",
       "    </tr>\n",
       "    <tr>\n",
       "      <th>XGBoost</th>\n",
       "      <td>0.547988</td>\n",
       "      <td>{'colsample_bytree': 1.0, 'max_depth': 3, 'min...</td>\n",
       "    </tr>\n",
       "  </tbody>\n",
       "</table>\n",
       "</div>"
      ],
      "text/plain": [
       "              best_score                                        best_params\n",
       "model                                                                      \n",
       "KNN             0.508034  {'algorithm': 'brute', 'metric': 'chebyshev', ...\n",
       "LightGBM        0.548642  {'colsample_bytree': 0.825, 'max_depth': 9, 'n...\n",
       "RandomForest    0.546393  {'max_depth': 14, 'min_samples_leaf': 10, 'min...\n",
       "XGBoost         0.547988  {'colsample_bytree': 1.0, 'max_depth': 3, 'min..."
      ]
     },
     "execution_count": 44,
     "metadata": {},
     "output_type": "execute_result"
    }
   ],
   "source": [
    "search_data_df = pd.DataFrame(search_data).set_index(['model'])\n",
    "\n",
    "updated_params = []\n",
    "for d in search_data_df.best_params:\n",
    "    updated_params.append({ k.replace('classifier__', ''): v for k, v in d.items() })\n",
    "\n",
    "search_data_df.drop(columns='best_params')\n",
    "search_data_df['best_params'] = updated_params\n",
    "\n",
    "search_data_df"
   ]
  },
  {
   "cell_type": "markdown",
   "metadata": {
    "id": "pSFW6immS2rN"
   },
   "source": [
    "The best set hyperparameters for each of the selected models were used for the standard evaluation of models' performance:"
   ]
  },
  {
   "cell_type": "code",
   "execution_count": 45,
   "metadata": {
    "colab": {
     "base_uri": "https://localhost:8080/",
     "height": 485,
     "referenced_widgets": [
      "d8bef52f0d964d81a559d5c932b6e034",
      "ab85272fddb8447ab63dd89da2c9c15e",
      "4880103e3b794409a971f5ecd346594a",
      "a8d124a10525404a812a5c303e36be92",
      "5720114db60f44cd990501c73d683787",
      "2f1e967f1a7d4020986d770731d9156e",
      "df6575c3e5604ffaadcecec6c8105540",
      "d206bf31208d413296c750330d375d32",
      "00a61547f363467b9d4f0bdf65a7b31e",
      "11a8c072f56c4ad2a54a69bdc2aff700",
      "38c3626826ca4c33b629bd24aaf5771a"
     ]
    },
    "id": "540TkQgcS2rN",
    "outputId": "98cf28aa-c9b8-4c45-bfb1-4b6bda36dad6"
   },
   "outputs": [
    {
     "data": {
      "application/vnd.jupyter.widget-view+json": {
       "model_id": "f35e41421ae14e839dc14c5feadf7570",
       "version_major": 2,
       "version_minor": 0
      },
      "text/plain": [
       "  0%|          | 0/4 [00:00<?, ?it/s]"
      ]
     },
     "metadata": {},
     "output_type": "display_data"
    }
   ],
   "source": [
    "model_results_optim = {}\n",
    "for name, model in tqdm(models.items()):\n",
    "    \n",
    "    params = search_data_df.best_params.loc[str(name)]\n",
    "    model.set_params(**params)\n",
    "    \n",
    "    pipe_copy = clone(pipe)\n",
    "    pipe_copy.steps.append(['classifier', model])\n",
    "    cv_results_resamp = cross_val_score(pipe_copy, X_train, y_train, \n",
    "                                        cv=skfold, n_jobs=5, \n",
    "                                        scoring=f1_scoring)\n",
    "    model_results_optim[name] = cv_results_resamp\n",
    "\n",
    "model_results_optim_df = pd.DataFrame(model_results_optim)"
   ]
  },
  {
   "cell_type": "code",
   "execution_count": 46,
   "metadata": {
    "id": "zrvCm8N-S2rN"
   },
   "outputs": [
    {
     "data": {
      "text/html": [
       "<div>\n",
       "<style scoped>\n",
       "    .dataframe tbody tr th:only-of-type {\n",
       "        vertical-align: middle;\n",
       "    }\n",
       "\n",
       "    .dataframe tbody tr th {\n",
       "        vertical-align: top;\n",
       "    }\n",
       "\n",
       "    .dataframe thead th {\n",
       "        text-align: right;\n",
       "    }\n",
       "</style>\n",
       "<table border=\"1\" class=\"dataframe\">\n",
       "  <thead>\n",
       "    <tr style=\"text-align: right;\">\n",
       "      <th></th>\n",
       "      <th>KNN</th>\n",
       "      <th>LightGBM</th>\n",
       "      <th>RandomForest</th>\n",
       "      <th>XGBoost</th>\n",
       "    </tr>\n",
       "  </thead>\n",
       "  <tbody>\n",
       "    <tr>\n",
       "      <th>count</th>\n",
       "      <td>10.000000</td>\n",
       "      <td>10.000000</td>\n",
       "      <td>10.000000</td>\n",
       "      <td>10.000000</td>\n",
       "    </tr>\n",
       "    <tr>\n",
       "      <th>mean</th>\n",
       "      <td>0.508034</td>\n",
       "      <td>0.548642</td>\n",
       "      <td>0.544844</td>\n",
       "      <td>0.547988</td>\n",
       "    </tr>\n",
       "    <tr>\n",
       "      <th>std</th>\n",
       "      <td>0.024035</td>\n",
       "      <td>0.021581</td>\n",
       "      <td>0.024405</td>\n",
       "      <td>0.021841</td>\n",
       "    </tr>\n",
       "    <tr>\n",
       "      <th>min</th>\n",
       "      <td>0.460208</td>\n",
       "      <td>0.513208</td>\n",
       "      <td>0.512077</td>\n",
       "      <td>0.516008</td>\n",
       "    </tr>\n",
       "    <tr>\n",
       "      <th>25%</th>\n",
       "      <td>0.498725</td>\n",
       "      <td>0.539508</td>\n",
       "      <td>0.527080</td>\n",
       "      <td>0.534693</td>\n",
       "    </tr>\n",
       "    <tr>\n",
       "      <th>50%</th>\n",
       "      <td>0.507442</td>\n",
       "      <td>0.546684</td>\n",
       "      <td>0.545215</td>\n",
       "      <td>0.548041</td>\n",
       "    </tr>\n",
       "    <tr>\n",
       "      <th>75%</th>\n",
       "      <td>0.523476</td>\n",
       "      <td>0.562143</td>\n",
       "      <td>0.558607</td>\n",
       "      <td>0.561759</td>\n",
       "    </tr>\n",
       "    <tr>\n",
       "      <th>max</th>\n",
       "      <td>0.542881</td>\n",
       "      <td>0.586425</td>\n",
       "      <td>0.588889</td>\n",
       "      <td>0.583559</td>\n",
       "    </tr>\n",
       "  </tbody>\n",
       "</table>\n",
       "</div>"
      ],
      "text/plain": [
       "             KNN   LightGBM  RandomForest    XGBoost\n",
       "count  10.000000  10.000000     10.000000  10.000000\n",
       "mean    0.508034   0.548642      0.544844   0.547988\n",
       "std     0.024035   0.021581      0.024405   0.021841\n",
       "min     0.460208   0.513208      0.512077   0.516008\n",
       "25%     0.498725   0.539508      0.527080   0.534693\n",
       "50%     0.507442   0.546684      0.545215   0.548041\n",
       "75%     0.523476   0.562143      0.558607   0.561759\n",
       "max     0.542881   0.586425      0.588889   0.583559"
      ]
     },
     "execution_count": 46,
     "metadata": {},
     "output_type": "execute_result"
    }
   ],
   "source": [
    "model_results_optim_df.describe()"
   ]
  },
  {
   "cell_type": "markdown",
   "metadata": {
    "id": "L2E68ygZzRDI"
   },
   "source": [
    "The results of individual models were visualized:"
   ]
  },
  {
   "cell_type": "code",
   "execution_count": 47,
   "metadata": {
    "id": "LxRDoX2KS2rN"
   },
   "outputs": [
    {
     "data": {
      "image/png": "[encoded data removed]",
      "text/plain": [
       "<Figure size 432x288 with 1 Axes>"
      ]
     },
     "metadata": {},
     "output_type": "display_data"
    }
   ],
   "source": [
    "ax = sns.boxplot(data=model_results_optim_df, palette=\"Blues_r\")\n",
    "plt.show()"
   ]
  },
  {
   "cell_type": "markdown",
   "metadata": {
    "id": "Fw-aRG-ozetS"
   },
   "source": [
    "And then a significance test was performed:"
   ]
  },
  {
   "cell_type": "code",
   "execution_count": 48,
   "metadata": {
    "id": "bYk5h-clS2rO"
   },
   "outputs": [
    {
     "data": {
      "text/html": [
       "<div>\n",
       "<style scoped>\n",
       "    .dataframe tbody tr th:only-of-type {\n",
       "        vertical-align: middle;\n",
       "    }\n",
       "\n",
       "    .dataframe tbody tr th {\n",
       "        vertical-align: top;\n",
       "    }\n",
       "\n",
       "    .dataframe thead th {\n",
       "        text-align: right;\n",
       "    }\n",
       "</style>\n",
       "<table border=\"1\" class=\"dataframe\">\n",
       "  <thead>\n",
       "    <tr style=\"text-align: right;\">\n",
       "      <th></th>\n",
       "      <th>Source</th>\n",
       "      <th>ddof1</th>\n",
       "      <th>H</th>\n",
       "      <th>p-unc</th>\n",
       "    </tr>\n",
       "  </thead>\n",
       "  <tbody>\n",
       "    <tr>\n",
       "      <th>Kruskal</th>\n",
       "      <td>model</td>\n",
       "      <td>3</td>\n",
       "      <td>14.4849</td>\n",
       "      <td>0.0023</td>\n",
       "    </tr>\n",
       "  </tbody>\n",
       "</table>\n",
       "</div>"
      ],
      "text/plain": [
       "        Source  ddof1        H   p-unc\n",
       "Kruskal  model      3  14.4849  0.0023"
      ]
     },
     "execution_count": 48,
     "metadata": {},
     "output_type": "execute_result"
    }
   ],
   "source": [
    "model_results_optim_normalized = model_results_optim_df.melt(var_name='model', \n",
    "                                                               value_name='result')\n",
    "pg.kruskal(model_results_optim_normalized, dv='result', between='model').round(4)"
   ]
  },
  {
   "cell_type": "code",
   "execution_count": 49,
   "metadata": {
    "id": "KXh9vNPJS2rO"
   },
   "outputs": [
    {
     "data": {
      "text/html": [
       "<div>\n",
       "<style scoped>\n",
       "    .dataframe tbody tr th:only-of-type {\n",
       "        vertical-align: middle;\n",
       "    }\n",
       "\n",
       "    .dataframe tbody tr th {\n",
       "        vertical-align: top;\n",
       "    }\n",
       "\n",
       "    .dataframe thead th {\n",
       "        text-align: right;\n",
       "    }\n",
       "</style>\n",
       "<table border=\"1\" class=\"dataframe\">\n",
       "  <thead>\n",
       "    <tr style=\"text-align: right;\">\n",
       "      <th></th>\n",
       "      <th>Contrast</th>\n",
       "      <th>A</th>\n",
       "      <th>B</th>\n",
       "      <th>Paired</th>\n",
       "      <th>Parametric</th>\n",
       "      <th>U-val</th>\n",
       "      <th>alternative</th>\n",
       "      <th>p-unc</th>\n",
       "      <th>hedges</th>\n",
       "    </tr>\n",
       "  </thead>\n",
       "  <tbody>\n",
       "    <tr>\n",
       "      <th>0</th>\n",
       "      <td>model</td>\n",
       "      <td>KNN</td>\n",
       "      <td>LightGBM</td>\n",
       "      <td>False</td>\n",
       "      <td>False</td>\n",
       "      <td>8.0</td>\n",
       "      <td>two-sided</td>\n",
       "      <td>0.002</td>\n",
       "      <td>-1.703</td>\n",
       "    </tr>\n",
       "    <tr>\n",
       "      <th>1</th>\n",
       "      <td>model</td>\n",
       "      <td>KNN</td>\n",
       "      <td>RandomForest</td>\n",
       "      <td>False</td>\n",
       "      <td>False</td>\n",
       "      <td>12.0</td>\n",
       "      <td>two-sided</td>\n",
       "      <td>0.005</td>\n",
       "      <td>-1.456</td>\n",
       "    </tr>\n",
       "    <tr>\n",
       "      <th>2</th>\n",
       "      <td>model</td>\n",
       "      <td>KNN</td>\n",
       "      <td>XGBoost</td>\n",
       "      <td>False</td>\n",
       "      <td>False</td>\n",
       "      <td>9.0</td>\n",
       "      <td>two-sided</td>\n",
       "      <td>0.002</td>\n",
       "      <td>-1.666</td>\n",
       "    </tr>\n",
       "    <tr>\n",
       "      <th>3</th>\n",
       "      <td>model</td>\n",
       "      <td>LightGBM</td>\n",
       "      <td>RandomForest</td>\n",
       "      <td>False</td>\n",
       "      <td>False</td>\n",
       "      <td>55.0</td>\n",
       "      <td>two-sided</td>\n",
       "      <td>0.734</td>\n",
       "      <td>0.158</td>\n",
       "    </tr>\n",
       "    <tr>\n",
       "      <th>4</th>\n",
       "      <td>model</td>\n",
       "      <td>LightGBM</td>\n",
       "      <td>XGBoost</td>\n",
       "      <td>False</td>\n",
       "      <td>False</td>\n",
       "      <td>48.0</td>\n",
       "      <td>two-sided</td>\n",
       "      <td>0.910</td>\n",
       "      <td>0.029</td>\n",
       "    </tr>\n",
       "    <tr>\n",
       "      <th>5</th>\n",
       "      <td>model</td>\n",
       "      <td>RandomForest</td>\n",
       "      <td>XGBoost</td>\n",
       "      <td>False</td>\n",
       "      <td>False</td>\n",
       "      <td>44.0</td>\n",
       "      <td>two-sided</td>\n",
       "      <td>0.678</td>\n",
       "      <td>-0.130</td>\n",
       "    </tr>\n",
       "  </tbody>\n",
       "</table>\n",
       "</div>"
      ],
      "text/plain": [
       "  Contrast             A             B  Paired  Parametric  U-val alternative  \\\n",
       "0    model           KNN      LightGBM   False       False    8.0   two-sided   \n",
       "1    model           KNN  RandomForest   False       False   12.0   two-sided   \n",
       "2    model           KNN       XGBoost   False       False    9.0   two-sided   \n",
       "3    model      LightGBM  RandomForest   False       False   55.0   two-sided   \n",
       "4    model      LightGBM       XGBoost   False       False   48.0   two-sided   \n",
       "5    model  RandomForest       XGBoost   False       False   44.0   two-sided   \n",
       "\n",
       "   p-unc  hedges  \n",
       "0  0.002  -1.703  \n",
       "1  0.005  -1.456  \n",
       "2  0.002  -1.666  \n",
       "3  0.734   0.158  \n",
       "4  0.910   0.029  \n",
       "5  0.678  -0.130  "
      ]
     },
     "execution_count": 49,
     "metadata": {},
     "output_type": "execute_result"
    }
   ],
   "source": [
    "pg.pairwise_ttests(model_results_optim_normalized, \n",
    "                   parametric=False, dv='result', between='model').round(3)"
   ]
  },
  {
   "cell_type": "markdown",
   "metadata": {
    "id": "e2KwBJWx0O1e"
   },
   "source": [
    "The performed initial optimization of hyperparameters, despite the improvement of the model results, did not help in finding the best model. The decision was made to further optimize the XGBoost model, although both the LightGBM and RandomForest models seem to show similar potential for prediction purposes."
   ]
  },
  {
   "cell_type": "markdown",
   "metadata": {
    "id": "L6aBrmwa1dEf"
   },
   "source": [
    "# Final model recomendation and further optimization"
   ]
  },
  {
   "cell_type": "markdown",
   "metadata": {
    "id": "0DHWWHEt0PD8"
   },
   "source": [
    "XGBoost model was selected. The results from the **Grid Search** process were used as basic parameters. The model was placed in the temporarily created Pipeline:"
   ]
  },
  {
   "cell_type": "code",
   "execution_count": 50,
   "metadata": {
    "id": "2k5y-B0W2hRY"
   },
   "outputs": [
    {
     "data": {
      "text/html": [
       "<style>#sk-3e1844fc-b173-4891-9f83-cf3b5138b354 {color: black;background-color: white;}#sk-3e1844fc-b173-4891-9f83-cf3b5138b354 pre{padding: 0;}#sk-3e1844fc-b173-4891-9f83-cf3b5138b354 div.sk-toggleable {background-color: white;}#sk-3e1844fc-b173-4891-9f83-cf3b5138b354 label.sk-toggleable__label {cursor: pointer;display: block;width: 100%;margin-bottom: 0;padding: 0.3em;box-sizing: border-box;text-align: center;}#sk-3e1844fc-b173-4891-9f83-cf3b5138b354 label.sk-toggleable__label-arrow:before {content: \"▸\";float: left;margin-right: 0.25em;color: #696969;}#sk-3e1844fc-b173-4891-9f83-cf3b5138b354 label.sk-toggleable__label-arrow:hover:before {color: black;}#sk-3e1844fc-b173-4891-9f83-cf3b5138b354 div.sk-estimator:hover label.sk-toggleable__label-arrow:before {color: black;}#sk-3e1844fc-b173-4891-9f83-cf3b5138b354 div.sk-toggleable__content {max-height: 0;max-width: 0;overflow: hidden;text-align: left;background-color: #f0f8ff;}#sk-3e1844fc-b173-4891-9f83-cf3b5138b354 div.sk-toggleable__content pre {margin: 0.2em;color: black;border-radius: 0.25em;background-color: #f0f8ff;}#sk-3e1844fc-b173-4891-9f83-cf3b5138b354 input.sk-toggleable__control:checked~div.sk-toggleable__content {max-height: 200px;max-width: 100%;overflow: auto;}#sk-3e1844fc-b173-4891-9f83-cf3b5138b354 input.sk-toggleable__control:checked~label.sk-toggleable__label-arrow:before {content: \"▾\";}#sk-3e1844fc-b173-4891-9f83-cf3b5138b354 div.sk-estimator input.sk-toggleable__control:checked~label.sk-toggleable__label {background-color: #d4ebff;}#sk-3e1844fc-b173-4891-9f83-cf3b5138b354 div.sk-label input.sk-toggleable__control:checked~label.sk-toggleable__label {background-color: #d4ebff;}#sk-3e1844fc-b173-4891-9f83-cf3b5138b354 input.sk-hidden--visually {border: 0;clip: rect(1px 1px 1px 1px);clip: rect(1px, 1px, 1px, 1px);height: 1px;margin: -1px;overflow: hidden;padding: 0;position: absolute;width: 1px;}#sk-3e1844fc-b173-4891-9f83-cf3b5138b354 div.sk-estimator {font-family: monospace;background-color: #f0f8ff;border: 1px dotted black;border-radius: 0.25em;box-sizing: border-box;margin-bottom: 0.5em;}#sk-3e1844fc-b173-4891-9f83-cf3b5138b354 div.sk-estimator:hover {background-color: #d4ebff;}#sk-3e1844fc-b173-4891-9f83-cf3b5138b354 div.sk-parallel-item::after {content: \"\";width: 100%;border-bottom: 1px solid gray;flex-grow: 1;}#sk-3e1844fc-b173-4891-9f83-cf3b5138b354 div.sk-label:hover label.sk-toggleable__label {background-color: #d4ebff;}#sk-3e1844fc-b173-4891-9f83-cf3b5138b354 div.sk-serial::before {content: \"\";position: absolute;border-left: 1px solid gray;box-sizing: border-box;top: 2em;bottom: 0;left: 50%;}#sk-3e1844fc-b173-4891-9f83-cf3b5138b354 div.sk-serial {display: flex;flex-direction: column;align-items: center;background-color: white;padding-right: 0.2em;padding-left: 0.2em;}#sk-3e1844fc-b173-4891-9f83-cf3b5138b354 div.sk-item {z-index: 1;}#sk-3e1844fc-b173-4891-9f83-cf3b5138b354 div.sk-parallel {display: flex;align-items: stretch;justify-content: center;background-color: white;}#sk-3e1844fc-b173-4891-9f83-cf3b5138b354 div.sk-parallel::before {content: \"\";position: absolute;border-left: 1px solid gray;box-sizing: border-box;top: 2em;bottom: 0;left: 50%;}#sk-3e1844fc-b173-4891-9f83-cf3b5138b354 div.sk-parallel-item {display: flex;flex-direction: column;position: relative;background-color: white;}#sk-3e1844fc-b173-4891-9f83-cf3b5138b354 div.sk-parallel-item:first-child::after {align-self: flex-end;width: 50%;}#sk-3e1844fc-b173-4891-9f83-cf3b5138b354 div.sk-parallel-item:last-child::after {align-self: flex-start;width: 50%;}#sk-3e1844fc-b173-4891-9f83-cf3b5138b354 div.sk-parallel-item:only-child::after {width: 0;}#sk-3e1844fc-b173-4891-9f83-cf3b5138b354 div.sk-dashed-wrapped {border: 1px dashed gray;margin: 0 0.4em 0.5em 0.4em;box-sizing: border-box;padding-bottom: 0.4em;background-color: white;position: relative;}#sk-3e1844fc-b173-4891-9f83-cf3b5138b354 div.sk-label label {font-family: monospace;font-weight: bold;background-color: white;display: inline-block;line-height: 1.2em;}#sk-3e1844fc-b173-4891-9f83-cf3b5138b354 div.sk-label-container {position: relative;z-index: 2;text-align: center;}#sk-3e1844fc-b173-4891-9f83-cf3b5138b354 div.sk-container {/* jupyter's `normalize.less` sets `[hidden] { display: none; }` but bootstrap.min.css set `[hidden] { display: none !important; }` so we also need the `!important` here to be able to override the default hidden behavior on the sphinx rendered scikit-learn.org. See: https://github.com/scikit-learn/scikit-learn/issues/21755 */display: inline-block !important;position: relative;}#sk-3e1844fc-b173-4891-9f83-cf3b5138b354 div.sk-text-repr-fallback {display: none;}</style><div id=\"sk-3e1844fc-b173-4891-9f83-cf3b5138b354\" class=\"sk-top-container\"><div class=\"sk-text-repr-fallback\"><pre>Pipeline(steps=[(&#x27;preprocessor&#x27;,\n",
       "                 ColumnTransformer(transformers=[(&#x27;numerical&#x27;, StandardScaler(),\n",
       "                                                  [&#x27;limit_bal&#x27;, &#x27;age&#x27;, &#x27;pay_0&#x27;,\n",
       "                                                   &#x27;pay_2&#x27;, &#x27;pay_3&#x27;, &#x27;pay_4&#x27;,\n",
       "                                                   &#x27;pay_5&#x27;, &#x27;pay_6&#x27;,\n",
       "                                                   &#x27;bill_amt1&#x27;, &#x27;bill_amt2&#x27;,\n",
       "                                                   &#x27;bill_amt3&#x27;, &#x27;bill_amt4&#x27;,\n",
       "                                                   &#x27;bill_amt5&#x27;, &#x27;bill_amt6&#x27;,\n",
       "                                                   &#x27;pay_amt1&#x27;, &#x27;pay_amt2&#x27;,\n",
       "                                                   &#x27;pay_amt3&#x27;, &#x27;pay_amt4&#x27;,\n",
       "                                                   &#x27;pay_amt5&#x27;, &#x27;pay_amt6&#x27;]),\n",
       "                                                 (&#x27;categorical&#x27;,\n",
       "                                                  OneHotEncoder(sparse=False),\n",
       "                                                  [&#x27;sex&#x27;...\n",
       "                               interaction_constraints=&#x27;&#x27;,\n",
       "                               learning_rate=0.300000012, max_delta_step=0,\n",
       "                               max_depth=3, min_child_weight=2, missing=nan,\n",
       "                               monotone_constraints=&#x27;()&#x27;, n_estimators=100,\n",
       "                               n_jobs=4, num_parallel_tree=1, predictor=&#x27;auto&#x27;,\n",
       "                               random_state=0, reg_alpha=0, reg_lambda=1,\n",
       "                               scale_pos_weight=1, subsample=1,\n",
       "                               tree_method=&#x27;exact&#x27;, use_label_encoder=False,\n",
       "                               validate_parameters=1, verbosity=0)]])</pre><b>Please rerun this cell to show the HTML repr or trust the notebook.</b></div><div class=\"sk-container\" hidden><div class=\"sk-item sk-dashed-wrapped\"><div class=\"sk-label-container\"><div class=\"sk-label sk-toggleable\"><input class=\"sk-toggleable__control sk-hidden--visually\" id=\"60ce23af-a217-475c-8726-7077641a1577\" type=\"checkbox\" ><label for=\"60ce23af-a217-475c-8726-7077641a1577\" class=\"sk-toggleable__label sk-toggleable__label-arrow\">Pipeline</label><div class=\"sk-toggleable__content\"><pre>Pipeline(steps=[(&#x27;preprocessor&#x27;,\n",
       "                 ColumnTransformer(transformers=[(&#x27;numerical&#x27;, StandardScaler(),\n",
       "                                                  [&#x27;limit_bal&#x27;, &#x27;age&#x27;, &#x27;pay_0&#x27;,\n",
       "                                                   &#x27;pay_2&#x27;, &#x27;pay_3&#x27;, &#x27;pay_4&#x27;,\n",
       "                                                   &#x27;pay_5&#x27;, &#x27;pay_6&#x27;,\n",
       "                                                   &#x27;bill_amt1&#x27;, &#x27;bill_amt2&#x27;,\n",
       "                                                   &#x27;bill_amt3&#x27;, &#x27;bill_amt4&#x27;,\n",
       "                                                   &#x27;bill_amt5&#x27;, &#x27;bill_amt6&#x27;,\n",
       "                                                   &#x27;pay_amt1&#x27;, &#x27;pay_amt2&#x27;,\n",
       "                                                   &#x27;pay_amt3&#x27;, &#x27;pay_amt4&#x27;,\n",
       "                                                   &#x27;pay_amt5&#x27;, &#x27;pay_amt6&#x27;]),\n",
       "                                                 (&#x27;categorical&#x27;,\n",
       "                                                  OneHotEncoder(sparse=False),\n",
       "                                                  [&#x27;sex&#x27;...\n",
       "                               interaction_constraints=&#x27;&#x27;,\n",
       "                               learning_rate=0.300000012, max_delta_step=0,\n",
       "                               max_depth=3, min_child_weight=2, missing=nan,\n",
       "                               monotone_constraints=&#x27;()&#x27;, n_estimators=100,\n",
       "                               n_jobs=4, num_parallel_tree=1, predictor=&#x27;auto&#x27;,\n",
       "                               random_state=0, reg_alpha=0, reg_lambda=1,\n",
       "                               scale_pos_weight=1, subsample=1,\n",
       "                               tree_method=&#x27;exact&#x27;, use_label_encoder=False,\n",
       "                               validate_parameters=1, verbosity=0)]])</pre></div></div></div><div class=\"sk-serial\"><div class=\"sk-item sk-dashed-wrapped\"><div class=\"sk-label-container\"><div class=\"sk-label sk-toggleable\"><input class=\"sk-toggleable__control sk-hidden--visually\" id=\"495590ae-abbd-4e18-92b6-95a2f9d087ac\" type=\"checkbox\" ><label for=\"495590ae-abbd-4e18-92b6-95a2f9d087ac\" class=\"sk-toggleable__label sk-toggleable__label-arrow\">preprocessor: ColumnTransformer</label><div class=\"sk-toggleable__content\"><pre>ColumnTransformer(transformers=[(&#x27;numerical&#x27;, StandardScaler(),\n",
       "                                 [&#x27;limit_bal&#x27;, &#x27;age&#x27;, &#x27;pay_0&#x27;, &#x27;pay_2&#x27;, &#x27;pay_3&#x27;,\n",
       "                                  &#x27;pay_4&#x27;, &#x27;pay_5&#x27;, &#x27;pay_6&#x27;, &#x27;bill_amt1&#x27;,\n",
       "                                  &#x27;bill_amt2&#x27;, &#x27;bill_amt3&#x27;, &#x27;bill_amt4&#x27;,\n",
       "                                  &#x27;bill_amt5&#x27;, &#x27;bill_amt6&#x27;, &#x27;pay_amt1&#x27;,\n",
       "                                  &#x27;pay_amt2&#x27;, &#x27;pay_amt3&#x27;, &#x27;pay_amt4&#x27;,\n",
       "                                  &#x27;pay_amt5&#x27;, &#x27;pay_amt6&#x27;]),\n",
       "                                (&#x27;categorical&#x27;, OneHotEncoder(sparse=False),\n",
       "                                 [&#x27;sex&#x27;, &#x27;marriage&#x27;]),\n",
       "                                (&#x27;ord_categorical&#x27;,\n",
       "                                 OrdinalEncoder(categories=[[&#x27;others&#x27;,\n",
       "                                                             &#x27;high school&#x27;,\n",
       "                                                             &#x27;university&#x27;,\n",
       "                                                             &#x27;graduate &#x27;\n",
       "                                                             &#x27;school&#x27;]]),\n",
       "                                 [&#x27;education&#x27;])])</pre></div></div></div><div class=\"sk-parallel\"><div class=\"sk-parallel-item\"><div class=\"sk-item\"><div class=\"sk-label-container\"><div class=\"sk-label sk-toggleable\"><input class=\"sk-toggleable__control sk-hidden--visually\" id=\"a3c38c2c-e0b3-4d8f-a1fb-0e057d9b60d7\" type=\"checkbox\" ><label for=\"a3c38c2c-e0b3-4d8f-a1fb-0e057d9b60d7\" class=\"sk-toggleable__label sk-toggleable__label-arrow\">numerical</label><div class=\"sk-toggleable__content\"><pre>[&#x27;limit_bal&#x27;, &#x27;age&#x27;, &#x27;pay_0&#x27;, &#x27;pay_2&#x27;, &#x27;pay_3&#x27;, &#x27;pay_4&#x27;, &#x27;pay_5&#x27;, &#x27;pay_6&#x27;, &#x27;bill_amt1&#x27;, &#x27;bill_amt2&#x27;, &#x27;bill_amt3&#x27;, &#x27;bill_amt4&#x27;, &#x27;bill_amt5&#x27;, &#x27;bill_amt6&#x27;, &#x27;pay_amt1&#x27;, &#x27;pay_amt2&#x27;, &#x27;pay_amt3&#x27;, &#x27;pay_amt4&#x27;, &#x27;pay_amt5&#x27;, &#x27;pay_amt6&#x27;]</pre></div></div></div><div class=\"sk-serial\"><div class=\"sk-item\"><div class=\"sk-estimator sk-toggleable\"><input class=\"sk-toggleable__control sk-hidden--visually\" id=\"07a3a7f7-5fc2-4ce4-ad44-876f201dccc5\" type=\"checkbox\" ><label for=\"07a3a7f7-5fc2-4ce4-ad44-876f201dccc5\" class=\"sk-toggleable__label sk-toggleable__label-arrow\">StandardScaler</label><div class=\"sk-toggleable__content\"><pre>StandardScaler()</pre></div></div></div></div></div></div><div class=\"sk-parallel-item\"><div class=\"sk-item\"><div class=\"sk-label-container\"><div class=\"sk-label sk-toggleable\"><input class=\"sk-toggleable__control sk-hidden--visually\" id=\"ce48739b-6471-4f97-b844-fcd68bfa561a\" type=\"checkbox\" ><label for=\"ce48739b-6471-4f97-b844-fcd68bfa561a\" class=\"sk-toggleable__label sk-toggleable__label-arrow\">categorical</label><div class=\"sk-toggleable__content\"><pre>[&#x27;sex&#x27;, &#x27;marriage&#x27;]</pre></div></div></div><div class=\"sk-serial\"><div class=\"sk-item\"><div class=\"sk-estimator sk-toggleable\"><input class=\"sk-toggleable__control sk-hidden--visually\" id=\"e7525ded-b688-437c-979e-f93bca387cd3\" type=\"checkbox\" ><label for=\"e7525ded-b688-437c-979e-f93bca387cd3\" class=\"sk-toggleable__label sk-toggleable__label-arrow\">OneHotEncoder</label><div class=\"sk-toggleable__content\"><pre>OneHotEncoder(sparse=False)</pre></div></div></div></div></div></div><div class=\"sk-parallel-item\"><div class=\"sk-item\"><div class=\"sk-label-container\"><div class=\"sk-label sk-toggleable\"><input class=\"sk-toggleable__control sk-hidden--visually\" id=\"2149631c-142c-4a2b-b63f-748eb50b4fb6\" type=\"checkbox\" ><label for=\"2149631c-142c-4a2b-b63f-748eb50b4fb6\" class=\"sk-toggleable__label sk-toggleable__label-arrow\">ord_categorical</label><div class=\"sk-toggleable__content\"><pre>[&#x27;education&#x27;]</pre></div></div></div><div class=\"sk-serial\"><div class=\"sk-item\"><div class=\"sk-estimator sk-toggleable\"><input class=\"sk-toggleable__control sk-hidden--visually\" id=\"ef3bc83f-0ed3-4839-98b8-4a34dad688af\" type=\"checkbox\" ><label for=\"ef3bc83f-0ed3-4839-98b8-4a34dad688af\" class=\"sk-toggleable__label sk-toggleable__label-arrow\">OrdinalEncoder</label><div class=\"sk-toggleable__content\"><pre>OrdinalEncoder(categories=[[&#x27;others&#x27;, &#x27;high school&#x27;, &#x27;university&#x27;,\n",
       "                            &#x27;graduate school&#x27;]])</pre></div></div></div></div></div></div></div></div><div class=\"sk-item\"><div class=\"sk-estimator sk-toggleable\"><input class=\"sk-toggleable__control sk-hidden--visually\" id=\"4bae0416-31a6-4499-a331-077e182a940d\" type=\"checkbox\" ><label for=\"4bae0416-31a6-4499-a331-077e182a940d\" class=\"sk-toggleable__label sk-toggleable__label-arrow\">NeighbourhoodCleaningRule</label><div class=\"sk-toggleable__content\"><pre>NeighbourhoodCleaningRule()</pre></div></div></div><div class=\"sk-item\"><div class=\"sk-estimator sk-toggleable\"><input class=\"sk-toggleable__control sk-hidden--visually\" id=\"e41bb442-1826-4003-a643-455fa6a10f00\" type=\"checkbox\" ><label for=\"e41bb442-1826-4003-a643-455fa6a10f00\" class=\"sk-toggleable__label sk-toggleable__label-arrow\">XGBClassifier</label><div class=\"sk-toggleable__content\"><pre>XGBClassifier(base_score=0.5, booster=&#x27;gbtree&#x27;, colsample_bylevel=1,\n",
       "              colsample_bynode=1, colsample_bytree=1.0,\n",
       "              enable_categorical=False, gamma=0, gpu_id=-1,\n",
       "              importance_type=None, interaction_constraints=&#x27;&#x27;,\n",
       "              learning_rate=0.300000012, max_delta_step=0, max_depth=3,\n",
       "              min_child_weight=2, missing=nan, monotone_constraints=&#x27;()&#x27;,\n",
       "              n_estimators=100, n_jobs=4, num_parallel_tree=1, predictor=&#x27;auto&#x27;,\n",
       "              random_state=0, reg_alpha=0, reg_lambda=1, scale_pos_weight=1,\n",
       "              subsample=1, tree_method=&#x27;exact&#x27;, use_label_encoder=False,\n",
       "              validate_parameters=1, verbosity=0)</pre></div></div></div></div></div></div></div>"
      ],
      "text/plain": [
       "Pipeline(steps=[('preprocessor',\n",
       "                 ColumnTransformer(transformers=[('numerical', StandardScaler(),\n",
       "                                                  ['limit_bal', 'age', 'pay_0',\n",
       "                                                   'pay_2', 'pay_3', 'pay_4',\n",
       "                                                   'pay_5', 'pay_6',\n",
       "                                                   'bill_amt1', 'bill_amt2',\n",
       "                                                   'bill_amt3', 'bill_amt4',\n",
       "                                                   'bill_amt5', 'bill_amt6',\n",
       "                                                   'pay_amt1', 'pay_amt2',\n",
       "                                                   'pay_amt3', 'pay_amt4',\n",
       "                                                   'pay_amt5', 'pay_amt6']),\n",
       "                                                 ('categorical',\n",
       "                                                  OneHotEncoder(sparse=False),\n",
       "                                                  ['sex'...\n",
       "                               interaction_constraints='',\n",
       "                               learning_rate=0.300000012, max_delta_step=0,\n",
       "                               max_depth=3, min_child_weight=2, missing=nan,\n",
       "                               monotone_constraints='()', n_estimators=100,\n",
       "                               n_jobs=4, num_parallel_tree=1, predictor='auto',\n",
       "                               random_state=0, reg_alpha=0, reg_lambda=1,\n",
       "                               scale_pos_weight=1, subsample=1,\n",
       "                               tree_method='exact', use_label_encoder=False,\n",
       "                               validate_parameters=1, verbosity=0)]])"
      ]
     },
     "execution_count": 50,
     "metadata": {},
     "output_type": "execute_result"
    }
   ],
   "source": [
    "best_params_gs = search_data_df.loc['XGBoost'].best_params\n",
    "selected_model = xgb.XGBClassifier(use_label_encoder=False, \n",
    "                                   **best_params_gs, \n",
    "                                   verbosity=0, \n",
    "                                  # learning_rate=0.05,\n",
    "                                   #n_estimators=500\n",
    "                                  )\n",
    "\n",
    "pipe_copy = clone(pipe)\n",
    "pipe_copy.steps.append(['classifier', selected_model])\n",
    "pipe_copy.fit(X_train, y_train)"
   ]
  },
  {
   "cell_type": "markdown",
   "metadata": {
    "id": "p87ayYpm0v_W"
   },
   "source": [
    "## Detailed model evaluation"
   ]
  },
  {
   "cell_type": "markdown",
   "metadata": {
    "id": "2GvzLMQp1FqD"
   },
   "source": [
    "In order to more precisely evaluate the model and its subsequent optimization steps, the `model_performance_check` function was created, which will allow for a detailed presentation of the evaluation of the model's effectiveness at each stage."
   ]
  },
  {
   "cell_type": "code",
   "execution_count": 51,
   "metadata": {
    "id": "Z0N4WwOE1DwX"
   },
   "outputs": [],
   "source": [
    "def model_performance_check(model, X_test, y_test):\n",
    "    \n",
    "    #Prediction\n",
    "    y_pred = model.predict(X_test)\n",
    "    y_pred_prob = model.predict_proba(X_test)\n",
    "\n",
    "    conf_matix = confusion_matrix(y_test, y_pred)\n",
    "    tn, fp, fn, tp = conf_matix.ravel()\n",
    "\n",
    "    pos_probs = y_pred_prob[:, 1]\n",
    "\n",
    "    fpr, tpr, _ = roc_curve(y_test, pos_probs) \n",
    "    precision, recall, _ = precision_recall_curve(y_test, pos_probs)\n",
    "        \n",
    "    if not model.__class__.__name__ == 'Pipeline':\n",
    "        model_name = model.__class__.__name__\n",
    "    else:\n",
    "        model_name = model.steps[-1][1].__class__.__name__\n",
    "    \n",
    "    #Plots\n",
    "    fig, ax = plt.subplots(1, 3, figsize=(15, 5))\n",
    "    fig.suptitle(f'{model_name}', fontsize=16)\n",
    "\n",
    "    #Confusion matrix\n",
    "    labels = ['Negative', 'Positive']\n",
    "    annot_names = ['TN','FP','FN','TP']\n",
    "    annot_count = ['{0:0.0f}'.format(v) for v in conf_matix.flatten()]\n",
    "    annot_pct = ['{0:.2%}'.format(v) for v in conf_matix.flatten()/np.sum(conf_matix)]\n",
    "    annot = [f'{v1}\\n{v2}\\n{v3}' for v1, v2, v3 in zip(annot_names, annot_count, annot_pct)]\n",
    "    annot = np.asarray(annot).reshape(2,2)\n",
    "\n",
    "    sns.heatmap(conf_matix, annot=annot, fmt=\"\", linewidths=.5, \n",
    "              cmap='Blues_r', robust=True, square=True, cbar=False, ax=ax[0],\n",
    "              annot_kws={\"ha\": 'center', \"va\": 'center', 'size':12})\n",
    "\n",
    "    ax[0].set(xlabel='Predicted', ylabel='Actual', title='Confusion Matrix')\n",
    "    ax[0].xaxis.set_ticklabels(labels)\n",
    "    ax[0].yaxis.set_ticklabels(labels)\n",
    "\n",
    "    #ROC Curve\n",
    "    ax[1].plot([0, 1], [0, 1], linestyle='--', label='Random')  \n",
    "    ax[1].plot(fpr, tpr, marker='.', label='model')\n",
    "    ax[1].grid(visible=True, linestyle=\"--\", color='gray',linewidth=0.5)\n",
    "    ax[1].set_xlabel('False Positive Rate')\n",
    "    ax[1].set_ylabel('True Positive Rate')\n",
    "    ax[1].set_title('ROC Curve')\n",
    "\n",
    "    #PR Curve\n",
    "    no_skill = len(y_test[y_test==1]) / len(y_test)\n",
    "    ax[2].plot([0, 1], [no_skill, no_skill], linestyle='--', label='No Skill')\n",
    "    ax[2].plot(recall, precision, label='Trained model')\n",
    "    ax[2].grid(visible=True, linestyle=\"--\", color='gray',linewidth=0.5)\n",
    "    ax[2].set_xlabel('Recall')\n",
    "    ax[2].set_ylabel('Precision')\n",
    "    ax[2].set_title('P-R Curve')\n",
    "\n",
    "    handles, labels = ax[2].get_legend_handles_labels()\n",
    "    fig.legend(handles, labels, loc='lower center', bbox_to_anchor=(0.5, -0.05), ncol=3)\n",
    " \n",
    "    roc_auc = roc_auc_score(y_test, pos_probs)\n",
    "    auc_score = auc(recall, precision)\n",
    "    \n",
    "    plt.show()\n",
    "\n",
    "    print(f'F1 Score: {f1_score(y_test, y_pred):.4f}')    \n",
    "    print(f'Recall: {recall_score(y_test, y_pred):.4f}')    \n",
    "    print(f'Precision: {precision_score(y_test, y_pred):.4f}')    \n",
    "    print(f'Specificity: {(tn / (tn + fp)):.4f}')    \n",
    "    print(f'ROC AUC Score: {roc_auc}')\n",
    "    print(f'P-R AUC Score: {auc_score}')"
   ]
  },
  {
   "cell_type": "code",
   "execution_count": 52,
   "metadata": {
    "id": "dm_nhV_vS2rP"
   },
   "outputs": [
    {
     "name": "stderr",
     "output_type": "stream",
     "text": [
      "C:\\ProgramData\\Anaconda3\\lib\\site-packages\\seaborn\\matrix.py:302: MatplotlibDeprecationWarning: Auto-removal of grids by pcolor() and pcolormesh() is deprecated since 3.5 and will be removed two minor releases later; please call grid(False) first.\n",
      "  mesh = ax.pcolormesh(self.plot_data, cmap=self.cmap, **kws)\n"
     ]
    },
    {
     "data": {
      "image/png": "[encoded data removed]",
      "text/plain": [
       "<Figure size 1080x360 with 3 Axes>"
      ]
     },
     "metadata": {},
     "output_type": "display_data"
    },
    {
     "name": "stdout",
     "output_type": "stream",
     "text": [
      "F1 Score: 0.5672\n",
      "Recall: 0.5762\n",
      "Precision: 0.5585\n",
      "Specificity: 0.8708\n",
      "ROC AUC Score: 0.7958753890944482\n",
      "P-R AUC Score: 0.5612113429517127\n"
     ]
    }
   ],
   "source": [
    "model_performance_check(pipe_copy, X_val, y_val)"
   ]
  },
  {
   "cell_type": "markdown",
   "metadata": {
    "id": "JbsNwyIH18oL"
   },
   "source": [
    "## Feature importance"
   ]
  },
  {
   "cell_type": "markdown",
   "metadata": {},
   "source": [
    "The best-rated model so far has been examined in terms of importance of its features. The **feature importance** shows how useful it was in creating the decision tree of the model. Since usability is calculated for each feature in the dataset, the values obtained by creating node points in the decision tree allow for proper ranking and comparison of all features in terms of their impact on the model construction.\n",
    "\n",
    "The names of the features were distinguished, and then, on the basis of the `.feature_importance_` attribute contained in the XGBoost model, a DataFrame was created, which will be used for the visualization."
   ]
  },
  {
   "cell_type": "code",
   "execution_count": 53,
   "metadata": {
    "id": "nEE3QRhg3Bps"
   },
   "outputs": [
    {
     "data": {
      "text/html": [
       "<div>\n",
       "<style scoped>\n",
       "    .dataframe tbody tr th:only-of-type {\n",
       "        vertical-align: middle;\n",
       "    }\n",
       "\n",
       "    .dataframe tbody tr th {\n",
       "        vertical-align: top;\n",
       "    }\n",
       "\n",
       "    .dataframe thead th {\n",
       "        text-align: right;\n",
       "    }\n",
       "</style>\n",
       "<table border=\"1\" class=\"dataframe\">\n",
       "  <thead>\n",
       "    <tr style=\"text-align: right;\">\n",
       "      <th></th>\n",
       "      <th>feature</th>\n",
       "      <th>importance</th>\n",
       "      <th>cumul_importance</th>\n",
       "    </tr>\n",
       "  </thead>\n",
       "  <tbody>\n",
       "    <tr>\n",
       "      <th>2</th>\n",
       "      <td>pay_0</td>\n",
       "      <td>0.334455</td>\n",
       "      <td>0.334455</td>\n",
       "    </tr>\n",
       "    <tr>\n",
       "      <th>3</th>\n",
       "      <td>pay_2</td>\n",
       "      <td>0.166025</td>\n",
       "      <td>0.500480</td>\n",
       "    </tr>\n",
       "    <tr>\n",
       "      <th>4</th>\n",
       "      <td>pay_3</td>\n",
       "      <td>0.077669</td>\n",
       "      <td>0.578149</td>\n",
       "    </tr>\n",
       "    <tr>\n",
       "      <th>6</th>\n",
       "      <td>pay_5</td>\n",
       "      <td>0.054936</td>\n",
       "      <td>0.633086</td>\n",
       "    </tr>\n",
       "    <tr>\n",
       "      <th>7</th>\n",
       "      <td>pay_6</td>\n",
       "      <td>0.044740</td>\n",
       "      <td>0.677826</td>\n",
       "    </tr>\n",
       "  </tbody>\n",
       "</table>\n",
       "</div>"
      ],
      "text/plain": [
       "  feature  importance  cumul_importance\n",
       "2   pay_0    0.334455          0.334455\n",
       "3   pay_2    0.166025          0.500480\n",
       "4   pay_3    0.077669          0.578149\n",
       "6   pay_5    0.054936          0.633086\n",
       "7   pay_6    0.044740          0.677826"
      ]
     },
     "execution_count": 53,
     "metadata": {},
     "output_type": "execute_result"
    }
   ],
   "source": [
    "cat_names= pipe_copy['preprocessor'].named_transformers_['categorical'].get_feature_names_out()\n",
    "\n",
    "feature_names = np.r_[num_features, cat_names, ord_features]\n",
    "feature_importance_df = pd.DataFrame(data={'feature': feature_names, \n",
    "                                           'importance': pipe_copy['classifier'].feature_importances_\n",
    "                                          }).sort_values(by='importance',ascending=False)\n",
    "feature_importance_df['cumul_importance'] = np.cumsum(feature_importance_df.importance)\n",
    "feature_importance_df.head(5)"
   ]
  },
  {
   "cell_type": "markdown",
   "metadata": {
    "id": "RrRjXwQv4E5F"
   },
   "source": [
    "The charts below show the importance of a feature and its impact on the model, as well as the cumulative increase in importance, taking into account subsequent features."
   ]
  },
  {
   "cell_type": "code",
   "execution_count": 54,
   "metadata": {
    "id": "yGmOcRfJS2rS"
   },
   "outputs": [
    {
     "data": {
      "image/png": "[encoded data removed]",
      "text/plain": [
       "<Figure size 864x432 with 2 Axes>"
      ]
     },
     "metadata": {},
     "output_type": "display_data"
    }
   ],
   "source": [
    "fig, axes = plt.subplots(1, 2, figsize=(12, 6))\n",
    "sns.barplot(data=feature_importance_df.sort_values(by='importance', \n",
    "            ascending=False), y='feature', x='importance', orient = 'h', \n",
    "            palette='Blues_r', ax=axes[0])\n",
    "plt.grid()\n",
    "sns.lineplot(data=feature_importance_df, \n",
    "                    x=range(len(feature_names)), \n",
    "                    y=feature_importance_df['cumul_importance'], \n",
    "                    #ax=axes[1], lw=2).axhline(y = 0.95, color = 'g', lw=2, ls='--'\n",
    "                    )\n",
    "plt.xlabel(\"number of features\")\n",
    "plt.grid()\n"
   ]
  },
  {
   "cell_type": "markdown",
   "metadata": {
    "id": "izJh5Zg_8FVn"
   },
   "source": [
    "## Hyperparameters optimization - Bayesian approach "
   ]
  },
  {
   "cell_type": "markdown",
   "metadata": {},
   "source": [
    "A different optimization method will be used to further improve the performance of the selected model. With the Bayesian approach, the main assumption is that, unlike simple optimization techniques such as **Grid Search** as well as **Random Search** (which selects hyperparameters at random), the hyperparameter space is searched more well-thought-out, which is associated with a greater expenditure on the preparation process of this optimization technique, but with the benefit of reducing completely suboptimal choices and, as a result, greater computational efficiency.\n",
    "\n",
    "The **Hyperopt** library will be used to perform this optimization method. The implementation will require the creation of an objective function, and then, using an appropriate algorithm: Tree-Structured Parzen Estimator (TPE), the best combination of arguments from the hyperparameter space will be selected by minimizing errors within the indicated number of iterations."
   ]
  },
  {
   "cell_type": "markdown",
   "metadata": {},
   "source": [
    "Below, the hyperparameter space for the selected model is defined and placed in the `space` dictionary:"
   ]
  },
  {
   "cell_type": "code",
   "execution_count": 55,
   "metadata": {
    "id": "tJMh7dUA8VgL"
   },
   "outputs": [],
   "source": [
    "space={'max_depth': hp.choice('max_depth', np.arange(2, 15, dtype=int)),\n",
    "        'gamma': hp.uniform('gamma', 1,10),\n",
    "        'subsample': hp.quniform ('subsample', 0.5, 1 , 0.1),\n",
    "        'reg_alpha' : hp.uniform('reg_alpha', 0, 2),\n",
    "        'reg_lambda' : hp.uniform('reg_lambda',0, 3), #1\n",
    "        'colsample_bytree' : hp.uniform('colsample_bytree', 0.5, 1), #1\n",
    "        'min_child_weight' : hp.choice('min_child_weight', np.arange(0, 10, dtype=int)),\n",
    "    }"
   ]
  },
  {
   "cell_type": "markdown",
   "metadata": {
    "id": "FrEyvtNA8Zxr"
   },
   "source": [
    "The objective function was also created:"
   ]
  },
  {
   "cell_type": "code",
   "execution_count": 56,
   "metadata": {
    "id": "sxXHkBQy8Z4w"
   },
   "outputs": [],
   "source": [
    "def objective(params):   \n",
    "    \n",
    "    pipe_params = {}\n",
    "    space = params\n",
    "    for s in space:\n",
    "        pipe_params[f\"classifier__{s}\"] = space[s]\n",
    "    \n",
    "    pipe_copy.set_params(**pipe_params)\n",
    "    \n",
    "    score = cross_val_score(pipe_copy, X_train, y_train, \n",
    "                        cv=skfold, scoring=f1_scoring, error_score='raise')\n",
    "    return -score.mean()"
   ]
  },
  {
   "cell_type": "markdown",
   "metadata": {
    "id": "KwoObaV98k-s"
   },
   "source": [
    "Then, using the `fmin` function from the **Hyperopt** library, a search for the combination of hyperparameters was started, minimizing the loss function:"
   ]
  },
  {
   "cell_type": "code",
   "execution_count": 57,
   "metadata": {
    "id": "R2sJ6P5w8lFV"
   },
   "outputs": [
    {
     "name": "stdout",
     "output_type": "stream",
     "text": [
      "100%|█████████████████████████████████████████████| 50/50 [1:08:54<00:00, 82.69s/trial, best loss: -0.5478663680448139]\n",
      "Wall time: 1h 8min 54s\n"
     ]
    }
   ],
   "source": [
    "%%time\n",
    "\n",
    "MAX_EVALS = 50\n",
    "\n",
    "trials = Trials()\n",
    "best_params_bayes = fmin(fn= objective,\n",
    "                space= space,\n",
    "                algo= tpe.suggest,\n",
    "                max_evals = MAX_EVALS,\n",
    "                trials= trials)"
   ]
  },
  {
   "cell_type": "markdown",
   "metadata": {
    "id": "Uo1hbb7_83iV"
   },
   "source": [
    "The data collected in the created `trials` object and sent to DataFrame allowed for the visualization of the process of minimizing the loss function during subsequent iterations:"
   ]
  },
  {
   "cell_type": "code",
   "execution_count": 58,
   "metadata": {
    "id": "musgQBQK83or"
   },
   "outputs": [
    {
     "data": {
      "image/png": "[encoded data removed]",
      "text/plain": [
       "<Figure size 432x288 with 1 Axes>"
      ]
     },
     "metadata": {},
     "output_type": "display_data"
    }
   ],
   "source": [
    "bayes_df = pd.DataFrame(trials.losses(), columns=['loss'])\n",
    "sns.lineplot(data=bayes_df, x=bayes_df.index, y=\"loss\")\n",
    "plt.show()"
   ]
  },
  {
   "cell_type": "markdown",
   "metadata": {
    "id": "E7Z8U2WW8zQK"
   },
   "source": [
    "This way, the best combination of hyparameters in the iteration was obtained and passed to the XGBoost model. The model was placed in the `pipe_final` object, which was then trained throughout cross-validation."
   ]
  },
  {
   "cell_type": "code",
   "execution_count": 59,
   "metadata": {
    "id": "0aYv4U6z86Dm"
   },
   "outputs": [],
   "source": [
    "model_results_final = []\n",
    "\n",
    "final_model = xgb.XGBClassifier(use_label_encoder=False, \n",
    "                                   **best_params_bayes, \n",
    "                                   verbosity=0 \n",
    "                                   #learning_rate=0.05,\n",
    "                                   #n_estimators=500\n",
    "                               )\n",
    "\n",
    "pipe_final = clone(pipe)\n",
    "pipe_final.steps.append(['classifier', final_model])\n",
    "pipe_final.fit(X_train, y_train)\n",
    "\n",
    "cv_res_final = cross_val_score(pipe_final, X_train, y_train, cv=skfold, \n",
    "                                n_jobs=5, scoring=f1_scoring)\n"
   ]
  },
  {
   "cell_type": "code",
   "execution_count": 60,
   "metadata": {},
   "outputs": [
    {
     "data": {
      "text/html": [
       "<div>\n",
       "<style scoped>\n",
       "    .dataframe tbody tr th:only-of-type {\n",
       "        vertical-align: middle;\n",
       "    }\n",
       "\n",
       "    .dataframe tbody tr th {\n",
       "        vertical-align: top;\n",
       "    }\n",
       "\n",
       "    .dataframe thead th {\n",
       "        text-align: right;\n",
       "    }\n",
       "</style>\n",
       "<table border=\"1\" class=\"dataframe\">\n",
       "  <thead>\n",
       "    <tr style=\"text-align: right;\">\n",
       "      <th></th>\n",
       "      <th>count</th>\n",
       "      <th>mean</th>\n",
       "      <th>std</th>\n",
       "      <th>min</th>\n",
       "      <th>25%</th>\n",
       "      <th>50%</th>\n",
       "      <th>75%</th>\n",
       "      <th>max</th>\n",
       "    </tr>\n",
       "  </thead>\n",
       "  <tbody>\n",
       "    <tr>\n",
       "      <th>XGBoost</th>\n",
       "      <td>10.0</td>\n",
       "      <td>0.5375</td>\n",
       "      <td>0.0257</td>\n",
       "      <td>0.5015</td>\n",
       "      <td>0.5246</td>\n",
       "      <td>0.5335</td>\n",
       "      <td>0.5509</td>\n",
       "      <td>0.5824</td>\n",
       "    </tr>\n",
       "  </tbody>\n",
       "</table>\n",
       "</div>"
      ],
      "text/plain": [
       "         count    mean     std     min     25%     50%     75%     max\n",
       "XGBoost   10.0  0.5375  0.0257  0.5015  0.5246  0.5335  0.5509  0.5824"
      ]
     },
     "execution_count": 60,
     "metadata": {},
     "output_type": "execute_result"
    }
   ],
   "source": [
    "model_results_final_df = pd.DataFrame(cv_res_final, columns=['XGBoost'])\n",
    "model_results_final_df.describe().transpose().round(4)"
   ]
  },
  {
   "cell_type": "code",
   "execution_count": 61,
   "metadata": {},
   "outputs": [
    {
     "data": {
      "text/html": [
       "<style>#sk-8b5756d7-12fe-4b0c-9263-5a5c232e000b {color: black;background-color: white;}#sk-8b5756d7-12fe-4b0c-9263-5a5c232e000b pre{padding: 0;}#sk-8b5756d7-12fe-4b0c-9263-5a5c232e000b div.sk-toggleable {background-color: white;}#sk-8b5756d7-12fe-4b0c-9263-5a5c232e000b label.sk-toggleable__label {cursor: pointer;display: block;width: 100%;margin-bottom: 0;padding: 0.3em;box-sizing: border-box;text-align: center;}#sk-8b5756d7-12fe-4b0c-9263-5a5c232e000b label.sk-toggleable__label-arrow:before {content: \"▸\";float: left;margin-right: 0.25em;color: #696969;}#sk-8b5756d7-12fe-4b0c-9263-5a5c232e000b label.sk-toggleable__label-arrow:hover:before {color: black;}#sk-8b5756d7-12fe-4b0c-9263-5a5c232e000b div.sk-estimator:hover label.sk-toggleable__label-arrow:before {color: black;}#sk-8b5756d7-12fe-4b0c-9263-5a5c232e000b div.sk-toggleable__content {max-height: 0;max-width: 0;overflow: hidden;text-align: left;background-color: #f0f8ff;}#sk-8b5756d7-12fe-4b0c-9263-5a5c232e000b div.sk-toggleable__content pre {margin: 0.2em;color: black;border-radius: 0.25em;background-color: #f0f8ff;}#sk-8b5756d7-12fe-4b0c-9263-5a5c232e000b input.sk-toggleable__control:checked~div.sk-toggleable__content {max-height: 200px;max-width: 100%;overflow: auto;}#sk-8b5756d7-12fe-4b0c-9263-5a5c232e000b input.sk-toggleable__control:checked~label.sk-toggleable__label-arrow:before {content: \"▾\";}#sk-8b5756d7-12fe-4b0c-9263-5a5c232e000b div.sk-estimator input.sk-toggleable__control:checked~label.sk-toggleable__label {background-color: #d4ebff;}#sk-8b5756d7-12fe-4b0c-9263-5a5c232e000b div.sk-label input.sk-toggleable__control:checked~label.sk-toggleable__label {background-color: #d4ebff;}#sk-8b5756d7-12fe-4b0c-9263-5a5c232e000b input.sk-hidden--visually {border: 0;clip: rect(1px 1px 1px 1px);clip: rect(1px, 1px, 1px, 1px);height: 1px;margin: -1px;overflow: hidden;padding: 0;position: absolute;width: 1px;}#sk-8b5756d7-12fe-4b0c-9263-5a5c232e000b div.sk-estimator {font-family: monospace;background-color: #f0f8ff;border: 1px dotted black;border-radius: 0.25em;box-sizing: border-box;margin-bottom: 0.5em;}#sk-8b5756d7-12fe-4b0c-9263-5a5c232e000b div.sk-estimator:hover {background-color: #d4ebff;}#sk-8b5756d7-12fe-4b0c-9263-5a5c232e000b div.sk-parallel-item::after {content: \"\";width: 100%;border-bottom: 1px solid gray;flex-grow: 1;}#sk-8b5756d7-12fe-4b0c-9263-5a5c232e000b div.sk-label:hover label.sk-toggleable__label {background-color: #d4ebff;}#sk-8b5756d7-12fe-4b0c-9263-5a5c232e000b div.sk-serial::before {content: \"\";position: absolute;border-left: 1px solid gray;box-sizing: border-box;top: 2em;bottom: 0;left: 50%;}#sk-8b5756d7-12fe-4b0c-9263-5a5c232e000b div.sk-serial {display: flex;flex-direction: column;align-items: center;background-color: white;padding-right: 0.2em;padding-left: 0.2em;}#sk-8b5756d7-12fe-4b0c-9263-5a5c232e000b div.sk-item {z-index: 1;}#sk-8b5756d7-12fe-4b0c-9263-5a5c232e000b div.sk-parallel {display: flex;align-items: stretch;justify-content: center;background-color: white;}#sk-8b5756d7-12fe-4b0c-9263-5a5c232e000b div.sk-parallel::before {content: \"\";position: absolute;border-left: 1px solid gray;box-sizing: border-box;top: 2em;bottom: 0;left: 50%;}#sk-8b5756d7-12fe-4b0c-9263-5a5c232e000b div.sk-parallel-item {display: flex;flex-direction: column;position: relative;background-color: white;}#sk-8b5756d7-12fe-4b0c-9263-5a5c232e000b div.sk-parallel-item:first-child::after {align-self: flex-end;width: 50%;}#sk-8b5756d7-12fe-4b0c-9263-5a5c232e000b div.sk-parallel-item:last-child::after {align-self: flex-start;width: 50%;}#sk-8b5756d7-12fe-4b0c-9263-5a5c232e000b div.sk-parallel-item:only-child::after {width: 0;}#sk-8b5756d7-12fe-4b0c-9263-5a5c232e000b div.sk-dashed-wrapped {border: 1px dashed gray;margin: 0 0.4em 0.5em 0.4em;box-sizing: border-box;padding-bottom: 0.4em;background-color: white;position: relative;}#sk-8b5756d7-12fe-4b0c-9263-5a5c232e000b div.sk-label label {font-family: monospace;font-weight: bold;background-color: white;display: inline-block;line-height: 1.2em;}#sk-8b5756d7-12fe-4b0c-9263-5a5c232e000b div.sk-label-container {position: relative;z-index: 2;text-align: center;}#sk-8b5756d7-12fe-4b0c-9263-5a5c232e000b div.sk-container {/* jupyter's `normalize.less` sets `[hidden] { display: none; }` but bootstrap.min.css set `[hidden] { display: none !important; }` so we also need the `!important` here to be able to override the default hidden behavior on the sphinx rendered scikit-learn.org. See: https://github.com/scikit-learn/scikit-learn/issues/21755 */display: inline-block !important;position: relative;}#sk-8b5756d7-12fe-4b0c-9263-5a5c232e000b div.sk-text-repr-fallback {display: none;}</style><div id=\"sk-8b5756d7-12fe-4b0c-9263-5a5c232e000b\" class=\"sk-top-container\"><div class=\"sk-text-repr-fallback\"><pre>Pipeline(steps=[(&#x27;preprocessor&#x27;,\n",
       "                 ColumnTransformer(transformers=[(&#x27;numerical&#x27;, StandardScaler(),\n",
       "                                                  [&#x27;limit_bal&#x27;, &#x27;age&#x27;, &#x27;pay_0&#x27;,\n",
       "                                                   &#x27;pay_2&#x27;, &#x27;pay_3&#x27;, &#x27;pay_4&#x27;,\n",
       "                                                   &#x27;pay_5&#x27;, &#x27;pay_6&#x27;,\n",
       "                                                   &#x27;bill_amt1&#x27;, &#x27;bill_amt2&#x27;,\n",
       "                                                   &#x27;bill_amt3&#x27;, &#x27;bill_amt4&#x27;,\n",
       "                                                   &#x27;bill_amt5&#x27;, &#x27;bill_amt6&#x27;,\n",
       "                                                   &#x27;pay_amt1&#x27;, &#x27;pay_amt2&#x27;,\n",
       "                                                   &#x27;pay_amt3&#x27;, &#x27;pay_amt4&#x27;,\n",
       "                                                   &#x27;pay_amt5&#x27;, &#x27;pay_amt6&#x27;]),\n",
       "                                                 (&#x27;categorical&#x27;,\n",
       "                                                  OneHotEncoder(sparse=False),\n",
       "                                                  [&#x27;sex&#x27;...\n",
       "                               learning_rate=0.300000012, max_delta_step=0,\n",
       "                               max_depth=1, min_child_weight=9, missing=nan,\n",
       "                               monotone_constraints=&#x27;()&#x27;, n_estimators=100,\n",
       "                               n_jobs=4, num_parallel_tree=1, predictor=&#x27;auto&#x27;,\n",
       "                               random_state=0, reg_alpha=1.83954695440194,\n",
       "                               reg_lambda=1.1977620771915052,\n",
       "                               scale_pos_weight=1, subsample=1.0,\n",
       "                               tree_method=&#x27;exact&#x27;, use_label_encoder=False,\n",
       "                               validate_parameters=1, verbosity=0)]])</pre><b>Please rerun this cell to show the HTML repr or trust the notebook.</b></div><div class=\"sk-container\" hidden><div class=\"sk-item sk-dashed-wrapped\"><div class=\"sk-label-container\"><div class=\"sk-label sk-toggleable\"><input class=\"sk-toggleable__control sk-hidden--visually\" id=\"6e3a9b1b-afd7-4e82-8f11-1b07b8be66b3\" type=\"checkbox\" ><label for=\"6e3a9b1b-afd7-4e82-8f11-1b07b8be66b3\" class=\"sk-toggleable__label sk-toggleable__label-arrow\">Pipeline</label><div class=\"sk-toggleable__content\"><pre>Pipeline(steps=[(&#x27;preprocessor&#x27;,\n",
       "                 ColumnTransformer(transformers=[(&#x27;numerical&#x27;, StandardScaler(),\n",
       "                                                  [&#x27;limit_bal&#x27;, &#x27;age&#x27;, &#x27;pay_0&#x27;,\n",
       "                                                   &#x27;pay_2&#x27;, &#x27;pay_3&#x27;, &#x27;pay_4&#x27;,\n",
       "                                                   &#x27;pay_5&#x27;, &#x27;pay_6&#x27;,\n",
       "                                                   &#x27;bill_amt1&#x27;, &#x27;bill_amt2&#x27;,\n",
       "                                                   &#x27;bill_amt3&#x27;, &#x27;bill_amt4&#x27;,\n",
       "                                                   &#x27;bill_amt5&#x27;, &#x27;bill_amt6&#x27;,\n",
       "                                                   &#x27;pay_amt1&#x27;, &#x27;pay_amt2&#x27;,\n",
       "                                                   &#x27;pay_amt3&#x27;, &#x27;pay_amt4&#x27;,\n",
       "                                                   &#x27;pay_amt5&#x27;, &#x27;pay_amt6&#x27;]),\n",
       "                                                 (&#x27;categorical&#x27;,\n",
       "                                                  OneHotEncoder(sparse=False),\n",
       "                                                  [&#x27;sex&#x27;...\n",
       "                               learning_rate=0.300000012, max_delta_step=0,\n",
       "                               max_depth=1, min_child_weight=9, missing=nan,\n",
       "                               monotone_constraints=&#x27;()&#x27;, n_estimators=100,\n",
       "                               n_jobs=4, num_parallel_tree=1, predictor=&#x27;auto&#x27;,\n",
       "                               random_state=0, reg_alpha=1.83954695440194,\n",
       "                               reg_lambda=1.1977620771915052,\n",
       "                               scale_pos_weight=1, subsample=1.0,\n",
       "                               tree_method=&#x27;exact&#x27;, use_label_encoder=False,\n",
       "                               validate_parameters=1, verbosity=0)]])</pre></div></div></div><div class=\"sk-serial\"><div class=\"sk-item sk-dashed-wrapped\"><div class=\"sk-label-container\"><div class=\"sk-label sk-toggleable\"><input class=\"sk-toggleable__control sk-hidden--visually\" id=\"581f3582-56c3-4c59-87b2-903b4c6caf5f\" type=\"checkbox\" ><label for=\"581f3582-56c3-4c59-87b2-903b4c6caf5f\" class=\"sk-toggleable__label sk-toggleable__label-arrow\">preprocessor: ColumnTransformer</label><div class=\"sk-toggleable__content\"><pre>ColumnTransformer(transformers=[(&#x27;numerical&#x27;, StandardScaler(),\n",
       "                                 [&#x27;limit_bal&#x27;, &#x27;age&#x27;, &#x27;pay_0&#x27;, &#x27;pay_2&#x27;, &#x27;pay_3&#x27;,\n",
       "                                  &#x27;pay_4&#x27;, &#x27;pay_5&#x27;, &#x27;pay_6&#x27;, &#x27;bill_amt1&#x27;,\n",
       "                                  &#x27;bill_amt2&#x27;, &#x27;bill_amt3&#x27;, &#x27;bill_amt4&#x27;,\n",
       "                                  &#x27;bill_amt5&#x27;, &#x27;bill_amt6&#x27;, &#x27;pay_amt1&#x27;,\n",
       "                                  &#x27;pay_amt2&#x27;, &#x27;pay_amt3&#x27;, &#x27;pay_amt4&#x27;,\n",
       "                                  &#x27;pay_amt5&#x27;, &#x27;pay_amt6&#x27;]),\n",
       "                                (&#x27;categorical&#x27;, OneHotEncoder(sparse=False),\n",
       "                                 [&#x27;sex&#x27;, &#x27;marriage&#x27;]),\n",
       "                                (&#x27;ord_categorical&#x27;,\n",
       "                                 OrdinalEncoder(categories=[[&#x27;others&#x27;,\n",
       "                                                             &#x27;high school&#x27;,\n",
       "                                                             &#x27;university&#x27;,\n",
       "                                                             &#x27;graduate &#x27;\n",
       "                                                             &#x27;school&#x27;]]),\n",
       "                                 [&#x27;education&#x27;])])</pre></div></div></div><div class=\"sk-parallel\"><div class=\"sk-parallel-item\"><div class=\"sk-item\"><div class=\"sk-label-container\"><div class=\"sk-label sk-toggleable\"><input class=\"sk-toggleable__control sk-hidden--visually\" id=\"5e955290-cb88-40d9-bd50-97f7bda62181\" type=\"checkbox\" ><label for=\"5e955290-cb88-40d9-bd50-97f7bda62181\" class=\"sk-toggleable__label sk-toggleable__label-arrow\">numerical</label><div class=\"sk-toggleable__content\"><pre>[&#x27;limit_bal&#x27;, &#x27;age&#x27;, &#x27;pay_0&#x27;, &#x27;pay_2&#x27;, &#x27;pay_3&#x27;, &#x27;pay_4&#x27;, &#x27;pay_5&#x27;, &#x27;pay_6&#x27;, &#x27;bill_amt1&#x27;, &#x27;bill_amt2&#x27;, &#x27;bill_amt3&#x27;, &#x27;bill_amt4&#x27;, &#x27;bill_amt5&#x27;, &#x27;bill_amt6&#x27;, &#x27;pay_amt1&#x27;, &#x27;pay_amt2&#x27;, &#x27;pay_amt3&#x27;, &#x27;pay_amt4&#x27;, &#x27;pay_amt5&#x27;, &#x27;pay_amt6&#x27;]</pre></div></div></div><div class=\"sk-serial\"><div class=\"sk-item\"><div class=\"sk-estimator sk-toggleable\"><input class=\"sk-toggleable__control sk-hidden--visually\" id=\"aa04178f-637f-420d-99be-422f64076585\" type=\"checkbox\" ><label for=\"aa04178f-637f-420d-99be-422f64076585\" class=\"sk-toggleable__label sk-toggleable__label-arrow\">StandardScaler</label><div class=\"sk-toggleable__content\"><pre>StandardScaler()</pre></div></div></div></div></div></div><div class=\"sk-parallel-item\"><div class=\"sk-item\"><div class=\"sk-label-container\"><div class=\"sk-label sk-toggleable\"><input class=\"sk-toggleable__control sk-hidden--visually\" id=\"0171383b-68be-4a70-b44e-f4466af7bb0c\" type=\"checkbox\" ><label for=\"0171383b-68be-4a70-b44e-f4466af7bb0c\" class=\"sk-toggleable__label sk-toggleable__label-arrow\">categorical</label><div class=\"sk-toggleable__content\"><pre>[&#x27;sex&#x27;, &#x27;marriage&#x27;]</pre></div></div></div><div class=\"sk-serial\"><div class=\"sk-item\"><div class=\"sk-estimator sk-toggleable\"><input class=\"sk-toggleable__control sk-hidden--visually\" id=\"6929d046-8757-4447-91ff-ba6393e601ea\" type=\"checkbox\" ><label for=\"6929d046-8757-4447-91ff-ba6393e601ea\" class=\"sk-toggleable__label sk-toggleable__label-arrow\">OneHotEncoder</label><div class=\"sk-toggleable__content\"><pre>OneHotEncoder(sparse=False)</pre></div></div></div></div></div></div><div class=\"sk-parallel-item\"><div class=\"sk-item\"><div class=\"sk-label-container\"><div class=\"sk-label sk-toggleable\"><input class=\"sk-toggleable__control sk-hidden--visually\" id=\"134f48fd-ceaf-46f3-835a-009f34a1d9a9\" type=\"checkbox\" ><label for=\"134f48fd-ceaf-46f3-835a-009f34a1d9a9\" class=\"sk-toggleable__label sk-toggleable__label-arrow\">ord_categorical</label><div class=\"sk-toggleable__content\"><pre>[&#x27;education&#x27;]</pre></div></div></div><div class=\"sk-serial\"><div class=\"sk-item\"><div class=\"sk-estimator sk-toggleable\"><input class=\"sk-toggleable__control sk-hidden--visually\" id=\"9f794367-ce44-4fad-b716-be09a1882094\" type=\"checkbox\" ><label for=\"9f794367-ce44-4fad-b716-be09a1882094\" class=\"sk-toggleable__label sk-toggleable__label-arrow\">OrdinalEncoder</label><div class=\"sk-toggleable__content\"><pre>OrdinalEncoder(categories=[[&#x27;others&#x27;, &#x27;high school&#x27;, &#x27;university&#x27;,\n",
       "                            &#x27;graduate school&#x27;]])</pre></div></div></div></div></div></div></div></div><div class=\"sk-item\"><div class=\"sk-estimator sk-toggleable\"><input class=\"sk-toggleable__control sk-hidden--visually\" id=\"fd7a47d0-0235-4912-b1b7-d18e4440c080\" type=\"checkbox\" ><label for=\"fd7a47d0-0235-4912-b1b7-d18e4440c080\" class=\"sk-toggleable__label sk-toggleable__label-arrow\">NeighbourhoodCleaningRule</label><div class=\"sk-toggleable__content\"><pre>NeighbourhoodCleaningRule()</pre></div></div></div><div class=\"sk-item\"><div class=\"sk-estimator sk-toggleable\"><input class=\"sk-toggleable__control sk-hidden--visually\" id=\"bb3bcdac-ffc3-4198-abd6-05f01be19432\" type=\"checkbox\" ><label for=\"bb3bcdac-ffc3-4198-abd6-05f01be19432\" class=\"sk-toggleable__label sk-toggleable__label-arrow\">XGBClassifier</label><div class=\"sk-toggleable__content\"><pre>XGBClassifier(base_score=0.5, booster=&#x27;gbtree&#x27;, colsample_bylevel=1,\n",
       "              colsample_bynode=1, colsample_bytree=0.6858918981494108,\n",
       "              enable_categorical=False, gamma=4.424919234342263, gpu_id=-1,\n",
       "              importance_type=None, interaction_constraints=&#x27;&#x27;,\n",
       "              learning_rate=0.300000012, max_delta_step=0, max_depth=1,\n",
       "              min_child_weight=9, missing=nan, monotone_constraints=&#x27;()&#x27;,\n",
       "              n_estimators=100, n_jobs=4, num_parallel_tree=1, predictor=&#x27;auto&#x27;,\n",
       "              random_state=0, reg_alpha=1.83954695440194,\n",
       "              reg_lambda=1.1977620771915052, scale_pos_weight=1, subsample=1.0,\n",
       "              tree_method=&#x27;exact&#x27;, use_label_encoder=False,\n",
       "              validate_parameters=1, verbosity=0)</pre></div></div></div></div></div></div></div>"
      ],
      "text/plain": [
       "Pipeline(steps=[('preprocessor',\n",
       "                 ColumnTransformer(transformers=[('numerical', StandardScaler(),\n",
       "                                                  ['limit_bal', 'age', 'pay_0',\n",
       "                                                   'pay_2', 'pay_3', 'pay_4',\n",
       "                                                   'pay_5', 'pay_6',\n",
       "                                                   'bill_amt1', 'bill_amt2',\n",
       "                                                   'bill_amt3', 'bill_amt4',\n",
       "                                                   'bill_amt5', 'bill_amt6',\n",
       "                                                   'pay_amt1', 'pay_amt2',\n",
       "                                                   'pay_amt3', 'pay_amt4',\n",
       "                                                   'pay_amt5', 'pay_amt6']),\n",
       "                                                 ('categorical',\n",
       "                                                  OneHotEncoder(sparse=False),\n",
       "                                                  ['sex'...\n",
       "                               learning_rate=0.300000012, max_delta_step=0,\n",
       "                               max_depth=1, min_child_weight=9, missing=nan,\n",
       "                               monotone_constraints='()', n_estimators=100,\n",
       "                               n_jobs=4, num_parallel_tree=1, predictor='auto',\n",
       "                               random_state=0, reg_alpha=1.83954695440194,\n",
       "                               reg_lambda=1.1977620771915052,\n",
       "                               scale_pos_weight=1, subsample=1.0,\n",
       "                               tree_method='exact', use_label_encoder=False,\n",
       "                               validate_parameters=1, verbosity=0)]])"
      ]
     },
     "execution_count": 61,
     "metadata": {},
     "output_type": "execute_result"
    }
   ],
   "source": [
    "pipe_final"
   ]
  },
  {
   "cell_type": "markdown",
   "metadata": {
    "id": "6XZoAwYu9C-K"
   },
   "source": [
    "The efficiency of the model was once again tested on validation data:"
   ]
  },
  {
   "cell_type": "code",
   "execution_count": 62,
   "metadata": {
    "id": "wK6l8S8lS2rc"
   },
   "outputs": [
    {
     "name": "stderr",
     "output_type": "stream",
     "text": [
      "C:\\ProgramData\\Anaconda3\\lib\\site-packages\\seaborn\\matrix.py:302: MatplotlibDeprecationWarning: Auto-removal of grids by pcolor() and pcolormesh() is deprecated since 3.5 and will be removed two minor releases later; please call grid(False) first.\n",
      "  mesh = ax.pcolormesh(self.plot_data, cmap=self.cmap, **kws)\n"
     ]
    },
    {
     "data": {
      "image/png": "[encoded data removed]",
      "text/plain": [
       "<Figure size 1080x360 with 3 Axes>"
      ]
     },
     "metadata": {},
     "output_type": "display_data"
    },
    {
     "name": "stdout",
     "output_type": "stream",
     "text": [
      "F1 Score: 0.5577\n",
      "Recall: 0.5354\n",
      "Precision: 0.5820\n",
      "Specificity: 0.8909\n",
      "ROC AUC Score: 0.8007510499015447\n",
      "P-R AUC Score: 0.5747371458697376\n"
     ]
    }
   ],
   "source": [
    "model_performance_check(pipe_final, X_val, y_val)"
   ]
  },
  {
   "cell_type": "markdown",
   "metadata": {
    "id": "DrtihVTt9JAf"
   },
   "source": [
    "# Final model evaluation on test data"
   ]
  },
  {
   "cell_type": "markdown",
   "metadata": {},
   "source": [
    "Once went through the subsequent stages of model training, including initial data processing, undersampling, and then optimization using the Grid Search technique and Bayesian optimization method, a decision was made to finally check the model on test data.\n",
    "\n",
    "As can be seen, the value of the Harmonic Precision-Recall Mean (F1) in the test data prediction turned out to be lower than F1 in the validation data."
   ]
  },
  {
   "cell_type": "code",
   "execution_count": 63,
   "metadata": {
    "id": "X3WLgm_U9JNS"
   },
   "outputs": [
    {
     "name": "stderr",
     "output_type": "stream",
     "text": [
      "C:\\ProgramData\\Anaconda3\\lib\\site-packages\\seaborn\\matrix.py:302: MatplotlibDeprecationWarning: Auto-removal of grids by pcolor() and pcolormesh() is deprecated since 3.5 and will be removed two minor releases later; please call grid(False) first.\n",
      "  mesh = ax.pcolormesh(self.plot_data, cmap=self.cmap, **kws)\n"
     ]
    },
    {
     "data": {
      "image/png": "[encoded data removed]",
      "text/plain": [
       "<Figure size 1080x360 with 3 Axes>"
      ]
     },
     "metadata": {},
     "output_type": "display_data"
    },
    {
     "name": "stdout",
     "output_type": "stream",
     "text": [
      "F1 Score: 0.5226\n",
      "Recall: 0.4955\n",
      "Precision: 0.5529\n",
      "Specificity: 0.8861\n",
      "ROC AUC Score: 0.7697665662650601\n",
      "P-R AUC Score: 0.5352190605767823\n"
     ]
    }
   ],
   "source": [
    "model_performance_check(pipe_final, X_test, y_test)"
   ]
  },
  {
   "cell_type": "markdown",
   "metadata": {
    "id": "vuZh20Cy9OO0"
   },
   "source": [
    "# Conclusion"
   ]
  },
  {
   "cell_type": "markdown",
   "metadata": {},
   "source": [
    "In this experiment, a number of sampling tools and optimization techniques were used, which allowed for a relatively small increase in the average prediction score of the F1 model from 0.47 to F1 at the level of 0.55 for training data. The final prediction score for the validation data changed to 0.56, the prediction for the test data did not allow to obtain an equally high score.\n",
    "\n",
    "The difference between the score of validation data and the test data may have arisen due to the random split of the data made at the beginning of the modeling and the determined proportion of these data, which is worth paying attention to when determining the percentage size of the splits during subsequent experiments.\n",
    "\n",
    "In addition, due to the relative effectiveness of the undersampling technique used, it is worth considering the use of other sampling algorithms - also in combination with the Bayesian method of hyperparameter optimization.\n",
    "\n",
    "Moreover, the used F1 metric has other variants which, when maximized in the model training process, may have an impact on the reduction of false negative predictions at the expense of false positive and vice versa, depending on the need to approach the problem.\n",
    "\n",
    "As part of the assessment of the potential usefulness of the model to predict classes of new observations, using the above visualization of the P-R (Precision-Recall) curve on the graph, it can be assumed that the results achieved by the trained model seem to be significantly higher than the completely random model. This leads to the final conclusion that the implementation of such a classification model may ultimately depend on the potential costs of non-detection of a positive class and the costs of misclassification. In the case of the tested data set, the implementation of the model may, for example, be an additional indicator when planning to secure the liquidity of the lender."
   ]
  },
  {
   "cell_type": "markdown",
   "metadata": {},
   "source": [
    "# References:"
   ]
  },
  {
   "cell_type": "markdown",
   "metadata": {
    "id": "CjjgAYYZ-u_0"
   },
   "source": [
    "Dataset:\n",
    "\n",
    "https://archive.ics.uci.edu/ml/datasets/default+of+credit+card+clients\n",
    "\n",
    "Books:\n",
    "\n",
    "*   Bruce P., Bruce A., Geodeck P., *Practical Statistics for Data Scientists: 50+ Essential Concepts Using R and Python, 2nd Edition*, Helion 2021\n",
    "*   Lewinson E., *Python for Finance Cookbook*, Packt Publishing 2020\n",
    "\n",
    "Website materials:\n",
    "\n",
    "*   https://seaborn.pydata.org/\n",
    "*   https://matplotlib.org/stable/tutorials/index.html\n",
    "\n",
    "*   https://en.wikipedia.org/wiki/Accuracy_paradox\n",
    "*   https://www.statystyka.az.pl/test-anova-kruskala-wallisa.php\n",
    "*   https://pingouin-stats.org/generated/pingouin.kruskal.html#pingouin.kruskal\n",
    "\n",
    "*   https://scikit-learn.org/stable/index.html\n",
    "*   https://machinelearningmastery.com/modeling-pipeline-optimization-with-scikit-learn/\n",
    "*   https://imbalanced-learn.org/stable/\n",
    "\n",
    "*   https://machinelearningmastery.com/framework-for-imbalanced-classification-projects/\n",
    "*   https://machinelearningmastery.com/undersampling-algorithms-for-imbalanced-classification/\n",
    "*   https://kiwidamien.github.io/how-to-do-cross-validation-when-upsampling-data.html\n",
    "\n",
    "*   https://medium.datadriveninvestor.com/k-nearest-neighbors-in-python-hyperparameters-tuning-716734bc557f\n",
    "*   https://lightgbm.readthedocs.io/en/latest/Parameters.html\n",
    "*   https://xgboost.readthedocs.io/en/stable/parameter.html\n",
    "*   https://blog.prokulski.science/2020/12/23/hyperopt-scikit-learn/\n",
    "*   https://www.analyticsvidhya.com/blog/2016/03/complete-guide-parameter-tuning-xgboost-with-codes-python/\n",
    "\n",
    "\n"
   ]
  },
  {
   "cell_type": "code",
   "execution_count": null,
   "metadata": {},
   "outputs": [],
   "source": []
  }
 ],
 "metadata": {
  "colab": {
   "collapsed_sections": [],
   "name": "Klasyfikacja predykcyjna na podstawie danych niezrównoważonych.ipynb",
   "provenance": [],
   "toc_visible": true
  },
  "kernelspec": {
   "display_name": "Python 3 (ipykernel)",
   "language": "python",
   "name": "python3"
  },
  "language_info": {
   "codemirror_mode": {
    "name": "ipython",
    "version": 3
   },
   "file_extension": ".py",
   "mimetype": "text/x-python",
   "name": "python",
   "nbconvert_exporter": "python",
   "pygments_lexer": "ipython3",
   "version": "3.8.12"
  },
  "widgets": {
   "application/vnd.jupyter.widget-state+json": {
    "00a61547f363467b9d4f0bdf65a7b31e": {
     "model_module": "@jupyter-widgets/base",
     "model_module_version": "1.2.0",
     "model_name": "LayoutModel",
     "state": {
      "_model_module": "@jupyter-widgets/base",
      "_model_module_version": "1.2.0",
      "_model_name": "LayoutModel",
      "_view_count": null,
      "_view_module": "@jupyter-widgets/base",
      "_view_module_version": "1.2.0",
      "_view_name": "LayoutView",
      "align_content": null,
      "align_items": null,
      "align_self": null,
      "border": null,
      "bottom": null,
      "display": null,
      "flex": null,
      "flex_flow": null,
      "grid_area": null,
      "grid_auto_columns": null,
      "grid_auto_flow": null,
      "grid_auto_rows": null,
      "grid_column": null,
      "grid_gap": null,
      "grid_row": null,
      "grid_template_areas": null,
      "grid_template_columns": null,
      "grid_template_rows": null,
      "height": null,
      "justify_content": null,
      "justify_items": null,
      "left": null,
      "margin": null,
      "max_height": null,
      "max_width": null,
      "min_height": null,
      "min_width": null,
      "object_fit": null,
      "object_position": null,
      "order": null,
      "overflow": null,
      "overflow_x": null,
      "overflow_y": null,
      "padding": null,
      "right": null,
      "top": null,
      "visibility": null,
      "width": null
     }
    },
    "00fa4ca9fcc047548eb026e5a931d8a7": {
     "model_module": "@jupyter-widgets/controls",
     "model_module_version": "1.5.0",
     "model_name": "HTMLModel",
     "state": {
      "_dom_classes": [],
      "_model_module": "@jupyter-widgets/controls",
      "_model_module_version": "1.5.0",
      "_model_name": "HTMLModel",
      "_view_count": null,
      "_view_module": "@jupyter-widgets/controls",
      "_view_module_version": "1.5.0",
      "_view_name": "HTMLView",
      "description": "",
      "description_tooltip": null,
      "layout": "IPY_MODEL_f45d5c2c5e0a4acd944b910ebb4cef2e",
      "placeholder": "​",
      "style": "IPY_MODEL_d92040a9717e49ccb246051dc454eec3",
      "value": "100%"
     }
    },
    "0194a925b33b49af81d1fb744980fdbc": {
     "model_module": "@jupyter-widgets/base",
     "model_module_version": "1.2.0",
     "model_name": "LayoutModel",
     "state": {
      "_model_module": "@jupyter-widgets/base",
      "_model_module_version": "1.2.0",
      "_model_name": "LayoutModel",
      "_view_count": null,
      "_view_module": "@jupyter-widgets/base",
      "_view_module_version": "1.2.0",
      "_view_name": "LayoutView",
      "align_content": null,
      "align_items": null,
      "align_self": null,
      "border": null,
      "bottom": null,
      "display": null,
      "flex": null,
      "flex_flow": null,
      "grid_area": null,
      "grid_auto_columns": null,
      "grid_auto_flow": null,
      "grid_auto_rows": null,
      "grid_column": null,
      "grid_gap": null,
      "grid_row": null,
      "grid_template_areas": null,
      "grid_template_columns": null,
      "grid_template_rows": null,
      "height": null,
      "justify_content": null,
      "justify_items": null,
      "left": null,
      "margin": null,
      "max_height": null,
      "max_width": null,
      "min_height": null,
      "min_width": null,
      "object_fit": null,
      "object_position": null,
      "order": null,
      "overflow": null,
      "overflow_x": null,
      "overflow_y": null,
      "padding": null,
      "right": null,
      "top": null,
      "visibility": null,
      "width": null
     }
    },
    "0f6bbf280482439aa70958387afb4a1d": {
     "model_module": "@jupyter-widgets/controls",
     "model_module_version": "1.5.0",
     "model_name": "DescriptionStyleModel",
     "state": {
      "_model_module": "@jupyter-widgets/controls",
      "_model_module_version": "1.5.0",
      "_model_name": "DescriptionStyleModel",
      "_view_count": null,
      "_view_module": "@jupyter-widgets/base",
      "_view_module_version": "1.2.0",
      "_view_name": "StyleView",
      "description_width": ""
     }
    },
    "11a8c072f56c4ad2a54a69bdc2aff700": {
     "model_module": "@jupyter-widgets/controls",
     "model_module_version": "1.5.0",
     "model_name": "DescriptionStyleModel",
     "state": {
      "_model_module": "@jupyter-widgets/controls",
      "_model_module_version": "1.5.0",
      "_model_name": "DescriptionStyleModel",
      "_view_count": null,
      "_view_module": "@jupyter-widgets/base",
      "_view_module_version": "1.2.0",
      "_view_name": "StyleView",
      "description_width": ""
     }
    },
    "184d979f49b0414ab0ad0dbc981abb9d": {
     "model_module": "@jupyter-widgets/controls",
     "model_module_version": "1.5.0",
     "model_name": "HTMLModel",
     "state": {
      "_dom_classes": [],
      "_model_module": "@jupyter-widgets/controls",
      "_model_module_version": "1.5.0",
      "_model_name": "HTMLModel",
      "_view_count": null,
      "_view_module": "@jupyter-widgets/controls",
      "_view_module_version": "1.5.0",
      "_view_name": "HTMLView",
      "description": "",
      "description_tooltip": null,
      "layout": "IPY_MODEL_b7ab05364a714ae0aa3e7727dcf15991",
      "placeholder": "​",
      "style": "IPY_MODEL_84b0b9a36e0e4938aa480016d94a1585",
      "value": " 4/4 [2:46:58&lt;00:00, 2536.49s/it]"
     }
    },
    "1a6d760ea8354ef6ac7f490f498af657": {
     "model_module": "@jupyter-widgets/controls",
     "model_module_version": "1.5.0",
     "model_name": "HTMLModel",
     "state": {
      "_dom_classes": [],
      "_model_module": "@jupyter-widgets/controls",
      "_model_module_version": "1.5.0",
      "_model_name": "HTMLModel",
      "_view_count": null,
      "_view_module": "@jupyter-widgets/controls",
      "_view_module_version": "1.5.0",
      "_view_name": "HTMLView",
      "description": "",
      "description_tooltip": null,
      "layout": "IPY_MODEL_5221aaf0eac0418cbcb2d3df09d080ae",
      "placeholder": "​",
      "style": "IPY_MODEL_0f6bbf280482439aa70958387afb4a1d",
      "value": "100%"
     }
    },
    "2f1e967f1a7d4020986d770731d9156e": {
     "model_module": "@jupyter-widgets/controls",
     "model_module_version": "1.5.0",
     "model_name": "DescriptionStyleModel",
     "state": {
      "_model_module": "@jupyter-widgets/controls",
      "_model_module_version": "1.5.0",
      "_model_name": "DescriptionStyleModel",
      "_view_count": null,
      "_view_module": "@jupyter-widgets/base",
      "_view_module_version": "1.2.0",
      "_view_name": "StyleView",
      "description_width": ""
     }
    },
    "308e258aee894ec6b16fb44b06f29c7c": {
     "model_module": "@jupyter-widgets/base",
     "model_module_version": "1.2.0",
     "model_name": "LayoutModel",
     "state": {
      "_model_module": "@jupyter-widgets/base",
      "_model_module_version": "1.2.0",
      "_model_name": "LayoutModel",
      "_view_count": null,
      "_view_module": "@jupyter-widgets/base",
      "_view_module_version": "1.2.0",
      "_view_name": "LayoutView",
      "align_content": null,
      "align_items": null,
      "align_self": null,
      "border": null,
      "bottom": null,
      "display": null,
      "flex": null,
      "flex_flow": null,
      "grid_area": null,
      "grid_auto_columns": null,
      "grid_auto_flow": null,
      "grid_auto_rows": null,
      "grid_column": null,
      "grid_gap": null,
      "grid_row": null,
      "grid_template_areas": null,
      "grid_template_columns": null,
      "grid_template_rows": null,
      "height": null,
      "justify_content": null,
      "justify_items": null,
      "left": null,
      "margin": null,
      "max_height": null,
      "max_width": null,
      "min_height": null,
      "min_width": null,
      "object_fit": null,
      "object_position": null,
      "order": null,
      "overflow": null,
      "overflow_x": null,
      "overflow_y": null,
      "padding": null,
      "right": null,
      "top": null,
      "visibility": null,
      "width": null
     }
    },
    "38c3626826ca4c33b629bd24aaf5771a": {
     "model_module": "@jupyter-widgets/base",
     "model_module_version": "1.2.0",
     "model_name": "LayoutModel",
     "state": {
      "_model_module": "@jupyter-widgets/base",
      "_model_module_version": "1.2.0",
      "_model_name": "LayoutModel",
      "_view_count": null,
      "_view_module": "@jupyter-widgets/base",
      "_view_module_version": "1.2.0",
      "_view_name": "LayoutView",
      "align_content": null,
      "align_items": null,
      "align_self": null,
      "border": null,
      "bottom": null,
      "display": null,
      "flex": null,
      "flex_flow": null,
      "grid_area": null,
      "grid_auto_columns": null,
      "grid_auto_flow": null,
      "grid_auto_rows": null,
      "grid_column": null,
      "grid_gap": null,
      "grid_row": null,
      "grid_template_areas": null,
      "grid_template_columns": null,
      "grid_template_rows": null,
      "height": null,
      "justify_content": null,
      "justify_items": null,
      "left": null,
      "margin": null,
      "max_height": null,
      "max_width": null,
      "min_height": null,
      "min_width": null,
      "object_fit": null,
      "object_position": null,
      "order": null,
      "overflow": null,
      "overflow_x": null,
      "overflow_y": null,
      "padding": null,
      "right": null,
      "top": null,
      "visibility": null,
      "width": null
     }
    },
    "4162fe9432f34a8bbd7158c89ede033a": {
     "model_module": "@jupyter-widgets/base",
     "model_module_version": "1.2.0",
     "model_name": "LayoutModel",
     "state": {
      "_model_module": "@jupyter-widgets/base",
      "_model_module_version": "1.2.0",
      "_model_name": "LayoutModel",
      "_view_count": null,
      "_view_module": "@jupyter-widgets/base",
      "_view_module_version": "1.2.0",
      "_view_name": "LayoutView",
      "align_content": null,
      "align_items": null,
      "align_self": null,
      "border": null,
      "bottom": null,
      "display": null,
      "flex": null,
      "flex_flow": null,
      "grid_area": null,
      "grid_auto_columns": null,
      "grid_auto_flow": null,
      "grid_auto_rows": null,
      "grid_column": null,
      "grid_gap": null,
      "grid_row": null,
      "grid_template_areas": null,
      "grid_template_columns": null,
      "grid_template_rows": null,
      "height": null,
      "justify_content": null,
      "justify_items": null,
      "left": null,
      "margin": null,
      "max_height": null,
      "max_width": null,
      "min_height": null,
      "min_width": null,
      "object_fit": null,
      "object_position": null,
      "order": null,
      "overflow": null,
      "overflow_x": null,
      "overflow_y": null,
      "padding": null,
      "right": null,
      "top": null,
      "visibility": null,
      "width": null
     }
    },
    "468114d78f954fd7885500da7a2a24e0": {
     "model_module": "@jupyter-widgets/controls",
     "model_module_version": "1.5.0",
     "model_name": "DescriptionStyleModel",
     "state": {
      "_model_module": "@jupyter-widgets/controls",
      "_model_module_version": "1.5.0",
      "_model_name": "DescriptionStyleModel",
      "_view_count": null,
      "_view_module": "@jupyter-widgets/base",
      "_view_module_version": "1.2.0",
      "_view_name": "StyleView",
      "description_width": ""
     }
    },
    "4880103e3b794409a971f5ecd346594a": {
     "model_module": "@jupyter-widgets/controls",
     "model_module_version": "1.5.0",
     "model_name": "HTMLModel",
     "state": {
      "_dom_classes": [],
      "_model_module": "@jupyter-widgets/controls",
      "_model_module_version": "1.5.0",
      "_model_name": "HTMLModel",
      "_view_count": null,
      "_view_module": "@jupyter-widgets/controls",
      "_view_module_version": "1.5.0",
      "_view_name": "HTMLView",
      "description": "",
      "description_tooltip": null,
      "layout": "IPY_MODEL_df6575c3e5604ffaadcecec6c8105540",
      "placeholder": "​",
      "style": "IPY_MODEL_2f1e967f1a7d4020986d770731d9156e",
      "value": " 50%"
     }
    },
    "49839e111f16442fb175f8693d791c65": {
     "model_module": "@jupyter-widgets/base",
     "model_module_version": "1.2.0",
     "model_name": "LayoutModel",
     "state": {
      "_model_module": "@jupyter-widgets/base",
      "_model_module_version": "1.2.0",
      "_model_name": "LayoutModel",
      "_view_count": null,
      "_view_module": "@jupyter-widgets/base",
      "_view_module_version": "1.2.0",
      "_view_name": "LayoutView",
      "align_content": null,
      "align_items": null,
      "align_self": null,
      "border": null,
      "bottom": null,
      "display": null,
      "flex": null,
      "flex_flow": null,
      "grid_area": null,
      "grid_auto_columns": null,
      "grid_auto_flow": null,
      "grid_auto_rows": null,
      "grid_column": null,
      "grid_gap": null,
      "grid_row": null,
      "grid_template_areas": null,
      "grid_template_columns": null,
      "grid_template_rows": null,
      "height": null,
      "justify_content": null,
      "justify_items": null,
      "left": null,
      "margin": null,
      "max_height": null,
      "max_width": null,
      "min_height": null,
      "min_width": null,
      "object_fit": null,
      "object_position": null,
      "order": null,
      "overflow": null,
      "overflow_x": null,
      "overflow_y": null,
      "padding": null,
      "right": null,
      "top": null,
      "visibility": null,
      "width": null
     }
    },
    "5221aaf0eac0418cbcb2d3df09d080ae": {
     "model_module": "@jupyter-widgets/base",
     "model_module_version": "1.2.0",
     "model_name": "LayoutModel",
     "state": {
      "_model_module": "@jupyter-widgets/base",
      "_model_module_version": "1.2.0",
      "_model_name": "LayoutModel",
      "_view_count": null,
      "_view_module": "@jupyter-widgets/base",
      "_view_module_version": "1.2.0",
      "_view_name": "LayoutView",
      "align_content": null,
      "align_items": null,
      "align_self": null,
      "border": null,
      "bottom": null,
      "display": null,
      "flex": null,
      "flex_flow": null,
      "grid_area": null,
      "grid_auto_columns": null,
      "grid_auto_flow": null,
      "grid_auto_rows": null,
      "grid_column": null,
      "grid_gap": null,
      "grid_row": null,
      "grid_template_areas": null,
      "grid_template_columns": null,
      "grid_template_rows": null,
      "height": null,
      "justify_content": null,
      "justify_items": null,
      "left": null,
      "margin": null,
      "max_height": null,
      "max_width": null,
      "min_height": null,
      "min_width": null,
      "object_fit": null,
      "object_position": null,
      "order": null,
      "overflow": null,
      "overflow_x": null,
      "overflow_y": null,
      "padding": null,
      "right": null,
      "top": null,
      "visibility": null,
      "width": null
     }
    },
    "5624536f05444a8189b0fee511236eaa": {
     "model_module": "@jupyter-widgets/controls",
     "model_module_version": "1.5.0",
     "model_name": "HTMLModel",
     "state": {
      "_dom_classes": [],
      "_model_module": "@jupyter-widgets/controls",
      "_model_module_version": "1.5.0",
      "_model_name": "HTMLModel",
      "_view_count": null,
      "_view_module": "@jupyter-widgets/controls",
      "_view_module_version": "1.5.0",
      "_view_name": "HTMLView",
      "description": "",
      "description_tooltip": null,
      "layout": "IPY_MODEL_4162fe9432f34a8bbd7158c89ede033a",
      "placeholder": "​",
      "style": "IPY_MODEL_e8775d7dcc8a4b80a61c63defcf76544",
      "value": " 6/6 [01:49&lt;00:00, 23.40s/it]"
     }
    },
    "5720114db60f44cd990501c73d683787": {
     "model_module": "@jupyter-widgets/controls",
     "model_module_version": "1.5.0",
     "model_name": "HTMLModel",
     "state": {
      "_dom_classes": [],
      "_model_module": "@jupyter-widgets/controls",
      "_model_module_version": "1.5.0",
      "_model_name": "HTMLModel",
      "_view_count": null,
      "_view_module": "@jupyter-widgets/controls",
      "_view_module_version": "1.5.0",
      "_view_name": "HTMLView",
      "description": "",
      "description_tooltip": null,
      "layout": "IPY_MODEL_38c3626826ca4c33b629bd24aaf5771a",
      "placeholder": "​",
      "style": "IPY_MODEL_11a8c072f56c4ad2a54a69bdc2aff700",
      "value": " 2/4 [03:49&lt;03:29, 104.54s/it]"
     }
    },
    "5826c072efb44f2fa09e175abb348c60": {
     "model_module": "@jupyter-widgets/base",
     "model_module_version": "1.2.0",
     "model_name": "LayoutModel",
     "state": {
      "_model_module": "@jupyter-widgets/base",
      "_model_module_version": "1.2.0",
      "_model_name": "LayoutModel",
      "_view_count": null,
      "_view_module": "@jupyter-widgets/base",
      "_view_module_version": "1.2.0",
      "_view_name": "LayoutView",
      "align_content": null,
      "align_items": null,
      "align_self": null,
      "border": null,
      "bottom": null,
      "display": null,
      "flex": null,
      "flex_flow": null,
      "grid_area": null,
      "grid_auto_columns": null,
      "grid_auto_flow": null,
      "grid_auto_rows": null,
      "grid_column": null,
      "grid_gap": null,
      "grid_row": null,
      "grid_template_areas": null,
      "grid_template_columns": null,
      "grid_template_rows": null,
      "height": null,
      "justify_content": null,
      "justify_items": null,
      "left": null,
      "margin": null,
      "max_height": null,
      "max_width": null,
      "min_height": null,
      "min_width": null,
      "object_fit": null,
      "object_position": null,
      "order": null,
      "overflow": null,
      "overflow_x": null,
      "overflow_y": null,
      "padding": null,
      "right": null,
      "top": null,
      "visibility": null,
      "width": null
     }
    },
    "60526d4f50ba4bc18fe234c061a8cbb4": {
     "model_module": "@jupyter-widgets/controls",
     "model_module_version": "1.5.0",
     "model_name": "FloatProgressModel",
     "state": {
      "_dom_classes": [],
      "_model_module": "@jupyter-widgets/controls",
      "_model_module_version": "1.5.0",
      "_model_name": "FloatProgressModel",
      "_view_count": null,
      "_view_module": "@jupyter-widgets/controls",
      "_view_module_version": "1.5.0",
      "_view_name": "ProgressView",
      "bar_style": "success",
      "description": "",
      "description_tooltip": null,
      "layout": "IPY_MODEL_a3895f52e1cd46eaa1b2f64ee9f25bb4",
      "max": 4,
      "min": 0,
      "orientation": "horizontal",
      "style": "IPY_MODEL_82bb9b3d84be4459bf7c5d03b82b3f01",
      "value": 4
     }
    },
    "6cf0c152145149e2a45f06cbe60fdc5c": {
     "model_module": "@jupyter-widgets/controls",
     "model_module_version": "1.5.0",
     "model_name": "DescriptionStyleModel",
     "state": {
      "_model_module": "@jupyter-widgets/controls",
      "_model_module_version": "1.5.0",
      "_model_name": "DescriptionStyleModel",
      "_view_count": null,
      "_view_module": "@jupyter-widgets/base",
      "_view_module_version": "1.2.0",
      "_view_name": "StyleView",
      "description_width": ""
     }
    },
    "7df78afab7ba49c78145ecc458b8ac2e": {
     "model_module": "@jupyter-widgets/controls",
     "model_module_version": "1.5.0",
     "model_name": "FloatProgressModel",
     "state": {
      "_dom_classes": [],
      "_model_module": "@jupyter-widgets/controls",
      "_model_module_version": "1.5.0",
      "_model_name": "FloatProgressModel",
      "_view_count": null,
      "_view_module": "@jupyter-widgets/controls",
      "_view_module_version": "1.5.0",
      "_view_name": "ProgressView",
      "bar_style": "success",
      "description": "",
      "description_tooltip": null,
      "layout": "IPY_MODEL_308e258aee894ec6b16fb44b06f29c7c",
      "max": 6,
      "min": 0,
      "orientation": "horizontal",
      "style": "IPY_MODEL_abc13f9275aa4062978ed6489aa3bbab",
      "value": 6
     }
    },
    "7edae41266364e80ae76644ad1e178a9": {
     "model_module": "@jupyter-widgets/controls",
     "model_module_version": "1.5.0",
     "model_name": "HTMLModel",
     "state": {
      "_dom_classes": [],
      "_model_module": "@jupyter-widgets/controls",
      "_model_module_version": "1.5.0",
      "_model_name": "HTMLModel",
      "_view_count": null,
      "_view_module": "@jupyter-widgets/controls",
      "_view_module_version": "1.5.0",
      "_view_name": "HTMLView",
      "description": "",
      "description_tooltip": null,
      "layout": "IPY_MODEL_0194a925b33b49af81d1fb744980fdbc",
      "placeholder": "​",
      "style": "IPY_MODEL_468114d78f954fd7885500da7a2a24e0",
      "value": " 6/6 [09:25&lt;00:00, 97.03s/it]"
     }
    },
    "82bb9b3d84be4459bf7c5d03b82b3f01": {
     "model_module": "@jupyter-widgets/controls",
     "model_module_version": "1.5.0",
     "model_name": "ProgressStyleModel",
     "state": {
      "_model_module": "@jupyter-widgets/controls",
      "_model_module_version": "1.5.0",
      "_model_name": "ProgressStyleModel",
      "_view_count": null,
      "_view_module": "@jupyter-widgets/base",
      "_view_module_version": "1.2.0",
      "_view_name": "StyleView",
      "bar_color": null,
      "description_width": ""
     }
    },
    "84b0b9a36e0e4938aa480016d94a1585": {
     "model_module": "@jupyter-widgets/controls",
     "model_module_version": "1.5.0",
     "model_name": "DescriptionStyleModel",
     "state": {
      "_model_module": "@jupyter-widgets/controls",
      "_model_module_version": "1.5.0",
      "_model_name": "DescriptionStyleModel",
      "_view_count": null,
      "_view_module": "@jupyter-widgets/base",
      "_view_module_version": "1.2.0",
      "_view_name": "StyleView",
      "description_width": ""
     }
    },
    "8805b34b4d234ce385b50f49ca15612e": {
     "model_module": "@jupyter-widgets/controls",
     "model_module_version": "1.5.0",
     "model_name": "HBoxModel",
     "state": {
      "_dom_classes": [],
      "_model_module": "@jupyter-widgets/controls",
      "_model_module_version": "1.5.0",
      "_model_name": "HBoxModel",
      "_view_count": null,
      "_view_module": "@jupyter-widgets/controls",
      "_view_module_version": "1.5.0",
      "_view_name": "HBoxView",
      "box_style": "",
      "children": [
       "IPY_MODEL_1a6d760ea8354ef6ac7f490f498af657",
       "IPY_MODEL_7df78afab7ba49c78145ecc458b8ac2e",
       "IPY_MODEL_5624536f05444a8189b0fee511236eaa"
      ],
      "layout": "IPY_MODEL_49839e111f16442fb175f8693d791c65"
     }
    },
    "8cb533d2f3a3412da908e50134cacb65": {
     "model_module": "@jupyter-widgets/controls",
     "model_module_version": "1.5.0",
     "model_name": "HBoxModel",
     "state": {
      "_dom_classes": [],
      "_model_module": "@jupyter-widgets/controls",
      "_model_module_version": "1.5.0",
      "_model_name": "HBoxModel",
      "_view_count": null,
      "_view_module": "@jupyter-widgets/controls",
      "_view_module_version": "1.5.0",
      "_view_name": "HBoxView",
      "box_style": "",
      "children": [
       "IPY_MODEL_00fa4ca9fcc047548eb026e5a931d8a7",
       "IPY_MODEL_60526d4f50ba4bc18fe234c061a8cbb4",
       "IPY_MODEL_184d979f49b0414ab0ad0dbc981abb9d"
      ],
      "layout": "IPY_MODEL_f7386b215c3d43c4abc78b4c7da30379"
     }
    },
    "8e74c7e3d3434d79b3f561ca85c0e31a": {
     "model_module": "@jupyter-widgets/controls",
     "model_module_version": "1.5.0",
     "model_name": "HTMLModel",
     "state": {
      "_dom_classes": [],
      "_model_module": "@jupyter-widgets/controls",
      "_model_module_version": "1.5.0",
      "_model_name": "HTMLModel",
      "_view_count": null,
      "_view_module": "@jupyter-widgets/controls",
      "_view_module_version": "1.5.0",
      "_view_name": "HTMLView",
      "description": "",
      "description_tooltip": null,
      "layout": "IPY_MODEL_9c34684b918c4812b48c9d15b08c2221",
      "placeholder": "​",
      "style": "IPY_MODEL_6cf0c152145149e2a45f06cbe60fdc5c",
      "value": "100%"
     }
    },
    "9aa50427fdf745c89629270f5ad63940": {
     "model_module": "@jupyter-widgets/controls",
     "model_module_version": "1.5.0",
     "model_name": "HBoxModel",
     "state": {
      "_dom_classes": [],
      "_model_module": "@jupyter-widgets/controls",
      "_model_module_version": "1.5.0",
      "_model_name": "HBoxModel",
      "_view_count": null,
      "_view_module": "@jupyter-widgets/controls",
      "_view_module_version": "1.5.0",
      "_view_name": "HBoxView",
      "box_style": "",
      "children": [
       "IPY_MODEL_8e74c7e3d3434d79b3f561ca85c0e31a",
       "IPY_MODEL_f6a17b5ec91c4a498aeb69f2045ce811",
       "IPY_MODEL_7edae41266364e80ae76644ad1e178a9"
      ],
      "layout": "IPY_MODEL_5826c072efb44f2fa09e175abb348c60"
     }
    },
    "9c34684b918c4812b48c9d15b08c2221": {
     "model_module": "@jupyter-widgets/base",
     "model_module_version": "1.2.0",
     "model_name": "LayoutModel",
     "state": {
      "_model_module": "@jupyter-widgets/base",
      "_model_module_version": "1.2.0",
      "_model_name": "LayoutModel",
      "_view_count": null,
      "_view_module": "@jupyter-widgets/base",
      "_view_module_version": "1.2.0",
      "_view_name": "LayoutView",
      "align_content": null,
      "align_items": null,
      "align_self": null,
      "border": null,
      "bottom": null,
      "display": null,
      "flex": null,
      "flex_flow": null,
      "grid_area": null,
      "grid_auto_columns": null,
      "grid_auto_flow": null,
      "grid_auto_rows": null,
      "grid_column": null,
      "grid_gap": null,
      "grid_row": null,
      "grid_template_areas": null,
      "grid_template_columns": null,
      "grid_template_rows": null,
      "height": null,
      "justify_content": null,
      "justify_items": null,
      "left": null,
      "margin": null,
      "max_height": null,
      "max_width": null,
      "min_height": null,
      "min_width": null,
      "object_fit": null,
      "object_position": null,
      "order": null,
      "overflow": null,
      "overflow_x": null,
      "overflow_y": null,
      "padding": null,
      "right": null,
      "top": null,
      "visibility": null,
      "width": null
     }
    },
    "a3895f52e1cd46eaa1b2f64ee9f25bb4": {
     "model_module": "@jupyter-widgets/base",
     "model_module_version": "1.2.0",
     "model_name": "LayoutModel",
     "state": {
      "_model_module": "@jupyter-widgets/base",
      "_model_module_version": "1.2.0",
      "_model_name": "LayoutModel",
      "_view_count": null,
      "_view_module": "@jupyter-widgets/base",
      "_view_module_version": "1.2.0",
      "_view_name": "LayoutView",
      "align_content": null,
      "align_items": null,
      "align_self": null,
      "border": null,
      "bottom": null,
      "display": null,
      "flex": null,
      "flex_flow": null,
      "grid_area": null,
      "grid_auto_columns": null,
      "grid_auto_flow": null,
      "grid_auto_rows": null,
      "grid_column": null,
      "grid_gap": null,
      "grid_row": null,
      "grid_template_areas": null,
      "grid_template_columns": null,
      "grid_template_rows": null,
      "height": null,
      "justify_content": null,
      "justify_items": null,
      "left": null,
      "margin": null,
      "max_height": null,
      "max_width": null,
      "min_height": null,
      "min_width": null,
      "object_fit": null,
      "object_position": null,
      "order": null,
      "overflow": null,
      "overflow_x": null,
      "overflow_y": null,
      "padding": null,
      "right": null,
      "top": null,
      "visibility": null,
      "width": null
     }
    },
    "a8d124a10525404a812a5c303e36be92": {
     "model_module": "@jupyter-widgets/controls",
     "model_module_version": "1.5.0",
     "model_name": "FloatProgressModel",
     "state": {
      "_dom_classes": [],
      "_model_module": "@jupyter-widgets/controls",
      "_model_module_version": "1.5.0",
      "_model_name": "FloatProgressModel",
      "_view_count": null,
      "_view_module": "@jupyter-widgets/controls",
      "_view_module_version": "1.5.0",
      "_view_name": "ProgressView",
      "bar_style": "danger",
      "description": "",
      "description_tooltip": null,
      "layout": "IPY_MODEL_00a61547f363467b9d4f0bdf65a7b31e",
      "max": 4,
      "min": 0,
      "orientation": "horizontal",
      "style": "IPY_MODEL_d206bf31208d413296c750330d375d32",
      "value": 2
     }
    },
    "aa776971f558444dae548948d736ac6c": {
     "model_module": "@jupyter-widgets/base",
     "model_module_version": "1.2.0",
     "model_name": "LayoutModel",
     "state": {
      "_model_module": "@jupyter-widgets/base",
      "_model_module_version": "1.2.0",
      "_model_name": "LayoutModel",
      "_view_count": null,
      "_view_module": "@jupyter-widgets/base",
      "_view_module_version": "1.2.0",
      "_view_name": "LayoutView",
      "align_content": null,
      "align_items": null,
      "align_self": null,
      "border": null,
      "bottom": null,
      "display": null,
      "flex": null,
      "flex_flow": null,
      "grid_area": null,
      "grid_auto_columns": null,
      "grid_auto_flow": null,
      "grid_auto_rows": null,
      "grid_column": null,
      "grid_gap": null,
      "grid_row": null,
      "grid_template_areas": null,
      "grid_template_columns": null,
      "grid_template_rows": null,
      "height": null,
      "justify_content": null,
      "justify_items": null,
      "left": null,
      "margin": null,
      "max_height": null,
      "max_width": null,
      "min_height": null,
      "min_width": null,
      "object_fit": null,
      "object_position": null,
      "order": null,
      "overflow": null,
      "overflow_x": null,
      "overflow_y": null,
      "padding": null,
      "right": null,
      "top": null,
      "visibility": null,
      "width": null
     }
    },
    "ab85272fddb8447ab63dd89da2c9c15e": {
     "model_module": "@jupyter-widgets/base",
     "model_module_version": "1.2.0",
     "model_name": "LayoutModel",
     "state": {
      "_model_module": "@jupyter-widgets/base",
      "_model_module_version": "1.2.0",
      "_model_name": "LayoutModel",
      "_view_count": null,
      "_view_module": "@jupyter-widgets/base",
      "_view_module_version": "1.2.0",
      "_view_name": "LayoutView",
      "align_content": null,
      "align_items": null,
      "align_self": null,
      "border": null,
      "bottom": null,
      "display": null,
      "flex": null,
      "flex_flow": null,
      "grid_area": null,
      "grid_auto_columns": null,
      "grid_auto_flow": null,
      "grid_auto_rows": null,
      "grid_column": null,
      "grid_gap": null,
      "grid_row": null,
      "grid_template_areas": null,
      "grid_template_columns": null,
      "grid_template_rows": null,
      "height": null,
      "justify_content": null,
      "justify_items": null,
      "left": null,
      "margin": null,
      "max_height": null,
      "max_width": null,
      "min_height": null,
      "min_width": null,
      "object_fit": null,
      "object_position": null,
      "order": null,
      "overflow": null,
      "overflow_x": null,
      "overflow_y": null,
      "padding": null,
      "right": null,
      "top": null,
      "visibility": null,
      "width": null
     }
    },
    "abc13f9275aa4062978ed6489aa3bbab": {
     "model_module": "@jupyter-widgets/controls",
     "model_module_version": "1.5.0",
     "model_name": "ProgressStyleModel",
     "state": {
      "_model_module": "@jupyter-widgets/controls",
      "_model_module_version": "1.5.0",
      "_model_name": "ProgressStyleModel",
      "_view_count": null,
      "_view_module": "@jupyter-widgets/base",
      "_view_module_version": "1.2.0",
      "_view_name": "StyleView",
      "bar_color": null,
      "description_width": ""
     }
    },
    "b7ab05364a714ae0aa3e7727dcf15991": {
     "model_module": "@jupyter-widgets/base",
     "model_module_version": "1.2.0",
     "model_name": "LayoutModel",
     "state": {
      "_model_module": "@jupyter-widgets/base",
      "_model_module_version": "1.2.0",
      "_model_name": "LayoutModel",
      "_view_count": null,
      "_view_module": "@jupyter-widgets/base",
      "_view_module_version": "1.2.0",
      "_view_name": "LayoutView",
      "align_content": null,
      "align_items": null,
      "align_self": null,
      "border": null,
      "bottom": null,
      "display": null,
      "flex": null,
      "flex_flow": null,
      "grid_area": null,
      "grid_auto_columns": null,
      "grid_auto_flow": null,
      "grid_auto_rows": null,
      "grid_column": null,
      "grid_gap": null,
      "grid_row": null,
      "grid_template_areas": null,
      "grid_template_columns": null,
      "grid_template_rows": null,
      "height": null,
      "justify_content": null,
      "justify_items": null,
      "left": null,
      "margin": null,
      "max_height": null,
      "max_width": null,
      "min_height": null,
      "min_width": null,
      "object_fit": null,
      "object_position": null,
      "order": null,
      "overflow": null,
      "overflow_x": null,
      "overflow_y": null,
      "padding": null,
      "right": null,
      "top": null,
      "visibility": null,
      "width": null
     }
    },
    "d206bf31208d413296c750330d375d32": {
     "model_module": "@jupyter-widgets/controls",
     "model_module_version": "1.5.0",
     "model_name": "ProgressStyleModel",
     "state": {
      "_model_module": "@jupyter-widgets/controls",
      "_model_module_version": "1.5.0",
      "_model_name": "ProgressStyleModel",
      "_view_count": null,
      "_view_module": "@jupyter-widgets/base",
      "_view_module_version": "1.2.0",
      "_view_name": "StyleView",
      "bar_color": null,
      "description_width": ""
     }
    },
    "d8bef52f0d964d81a559d5c932b6e034": {
     "model_module": "@jupyter-widgets/controls",
     "model_module_version": "1.5.0",
     "model_name": "HBoxModel",
     "state": {
      "_dom_classes": [],
      "_model_module": "@jupyter-widgets/controls",
      "_model_module_version": "1.5.0",
      "_model_name": "HBoxModel",
      "_view_count": null,
      "_view_module": "@jupyter-widgets/controls",
      "_view_module_version": "1.5.0",
      "_view_name": "HBoxView",
      "box_style": "",
      "children": [
       "IPY_MODEL_4880103e3b794409a971f5ecd346594a",
       "IPY_MODEL_a8d124a10525404a812a5c303e36be92",
       "IPY_MODEL_5720114db60f44cd990501c73d683787"
      ],
      "layout": "IPY_MODEL_ab85272fddb8447ab63dd89da2c9c15e"
     }
    },
    "d8da521f0c634e839668df56fe5c3ec5": {
     "model_module": "@jupyter-widgets/controls",
     "model_module_version": "1.5.0",
     "model_name": "ProgressStyleModel",
     "state": {
      "_model_module": "@jupyter-widgets/controls",
      "_model_module_version": "1.5.0",
      "_model_name": "ProgressStyleModel",
      "_view_count": null,
      "_view_module": "@jupyter-widgets/base",
      "_view_module_version": "1.2.0",
      "_view_name": "StyleView",
      "bar_color": null,
      "description_width": ""
     }
    },
    "d92040a9717e49ccb246051dc454eec3": {
     "model_module": "@jupyter-widgets/controls",
     "model_module_version": "1.5.0",
     "model_name": "DescriptionStyleModel",
     "state": {
      "_model_module": "@jupyter-widgets/controls",
      "_model_module_version": "1.5.0",
      "_model_name": "DescriptionStyleModel",
      "_view_count": null,
      "_view_module": "@jupyter-widgets/base",
      "_view_module_version": "1.2.0",
      "_view_name": "StyleView",
      "description_width": ""
     }
    },
    "df6575c3e5604ffaadcecec6c8105540": {
     "model_module": "@jupyter-widgets/base",
     "model_module_version": "1.2.0",
     "model_name": "LayoutModel",
     "state": {
      "_model_module": "@jupyter-widgets/base",
      "_model_module_version": "1.2.0",
      "_model_name": "LayoutModel",
      "_view_count": null,
      "_view_module": "@jupyter-widgets/base",
      "_view_module_version": "1.2.0",
      "_view_name": "LayoutView",
      "align_content": null,
      "align_items": null,
      "align_self": null,
      "border": null,
      "bottom": null,
      "display": null,
      "flex": null,
      "flex_flow": null,
      "grid_area": null,
      "grid_auto_columns": null,
      "grid_auto_flow": null,
      "grid_auto_rows": null,
      "grid_column": null,
      "grid_gap": null,
      "grid_row": null,
      "grid_template_areas": null,
      "grid_template_columns": null,
      "grid_template_rows": null,
      "height": null,
      "justify_content": null,
      "justify_items": null,
      "left": null,
      "margin": null,
      "max_height": null,
      "max_width": null,
      "min_height": null,
      "min_width": null,
      "object_fit": null,
      "object_position": null,
      "order": null,
      "overflow": null,
      "overflow_x": null,
      "overflow_y": null,
      "padding": null,
      "right": null,
      "top": null,
      "visibility": null,
      "width": null
     }
    },
    "e8775d7dcc8a4b80a61c63defcf76544": {
     "model_module": "@jupyter-widgets/controls",
     "model_module_version": "1.5.0",
     "model_name": "DescriptionStyleModel",
     "state": {
      "_model_module": "@jupyter-widgets/controls",
      "_model_module_version": "1.5.0",
      "_model_name": "DescriptionStyleModel",
      "_view_count": null,
      "_view_module": "@jupyter-widgets/base",
      "_view_module_version": "1.2.0",
      "_view_name": "StyleView",
      "description_width": ""
     }
    },
    "f45d5c2c5e0a4acd944b910ebb4cef2e": {
     "model_module": "@jupyter-widgets/base",
     "model_module_version": "1.2.0",
     "model_name": "LayoutModel",
     "state": {
      "_model_module": "@jupyter-widgets/base",
      "_model_module_version": "1.2.0",
      "_model_name": "LayoutModel",
      "_view_count": null,
      "_view_module": "@jupyter-widgets/base",
      "_view_module_version": "1.2.0",
      "_view_name": "LayoutView",
      "align_content": null,
      "align_items": null,
      "align_self": null,
      "border": null,
      "bottom": null,
      "display": null,
      "flex": null,
      "flex_flow": null,
      "grid_area": null,
      "grid_auto_columns": null,
      "grid_auto_flow": null,
      "grid_auto_rows": null,
      "grid_column": null,
      "grid_gap": null,
      "grid_row": null,
      "grid_template_areas": null,
      "grid_template_columns": null,
      "grid_template_rows": null,
      "height": null,
      "justify_content": null,
      "justify_items": null,
      "left": null,
      "margin": null,
      "max_height": null,
      "max_width": null,
      "min_height": null,
      "min_width": null,
      "object_fit": null,
      "object_position": null,
      "order": null,
      "overflow": null,
      "overflow_x": null,
      "overflow_y": null,
      "padding": null,
      "right": null,
      "top": null,
      "visibility": null,
      "width": null
     }
    },
    "f6a17b5ec91c4a498aeb69f2045ce811": {
     "model_module": "@jupyter-widgets/controls",
     "model_module_version": "1.5.0",
     "model_name": "FloatProgressModel",
     "state": {
      "_dom_classes": [],
      "_model_module": "@jupyter-widgets/controls",
      "_model_module_version": "1.5.0",
      "_model_name": "FloatProgressModel",
      "_view_count": null,
      "_view_module": "@jupyter-widgets/controls",
      "_view_module_version": "1.5.0",
      "_view_name": "ProgressView",
      "bar_style": "success",
      "description": "",
      "description_tooltip": null,
      "layout": "IPY_MODEL_aa776971f558444dae548948d736ac6c",
      "max": 6,
      "min": 0,
      "orientation": "horizontal",
      "style": "IPY_MODEL_d8da521f0c634e839668df56fe5c3ec5",
      "value": 6
     }
    },
    "f7386b215c3d43c4abc78b4c7da30379": {
     "model_module": "@jupyter-widgets/base",
     "model_module_version": "1.2.0",
     "model_name": "LayoutModel",
     "state": {
      "_model_module": "@jupyter-widgets/base",
      "_model_module_version": "1.2.0",
      "_model_name": "LayoutModel",
      "_view_count": null,
      "_view_module": "@jupyter-widgets/base",
      "_view_module_version": "1.2.0",
      "_view_name": "LayoutView",
      "align_content": null,
      "align_items": null,
      "align_self": null,
      "border": null,
      "bottom": null,
      "display": null,
      "flex": null,
      "flex_flow": null,
      "grid_area": null,
      "grid_auto_columns": null,
      "grid_auto_flow": null,
      "grid_auto_rows": null,
      "grid_column": null,
      "grid_gap": null,
      "grid_row": null,
      "grid_template_areas": null,
      "grid_template_columns": null,
      "grid_template_rows": null,
      "height": null,
      "justify_content": null,
      "justify_items": null,
      "left": null,
      "margin": null,
      "max_height": null,
      "max_width": null,
      "min_height": null,
      "min_width": null,
      "object_fit": null,
      "object_position": null,
      "order": null,
      "overflow": null,
      "overflow_x": null,
      "overflow_y": null,
      "padding": null,
      "right": null,
      "top": null,
      "visibility": null,
      "width": null
     }
    }
   }
  }
 },
 "nbformat": 4,
 "nbformat_minor": 1
}
